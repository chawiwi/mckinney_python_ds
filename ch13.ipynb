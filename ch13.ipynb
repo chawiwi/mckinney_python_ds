{
 "metadata": {
  "name": "generated_ch13"
 },
 "nbformat": 3,
 "nbformat_minor": 0,
 "worksheets": [
  {
   "cells": [
    {
     "cell_type": "heading",
     "level": 1,
     "metadata": {},
     "source": [
      "Introduction to Modeling Libraries "
     ]
    },
    {
     "cell_type": "code",
     "collapsed": false,
     "input": [
      "%pushd book-materials",
      "import numpy as np",
      "import pandas as pd",
      "np.random.seed(12345)",
      "import matplotlib.pyplot as plt",
      "plt.rc('figure', figsize=(10, 6))",
      "PREVIOUS_MAX_ROWS = pd.options.display.max_rows",
      "pd.options.display.max_rows = 20",
      "np.set_printoptions(precision=4, suppress=True)"
     ],
     "language": "python",
     "metadata": {},
     "outputs": []
    },
    {
     "cell_type": "heading",
     "level": 2,
     "metadata": {},
     "source": [
      "Interfacing Between pandas and Model Code"
     ]
    },
    {
     "cell_type": "code",
     "collapsed": false,
     "input": [
      "import pandas as pd",
      "import numpy as np",
      "data = pd.DataFrame({",
      "    'x0': [1, 2, 3, 4, 5],",
      "    'x1': [0.01, -0.01, 0.25, -4.1, 0.],",
      "    'y': [-1.5, 0., 3.6, 1.3, -2.]})",
      "data",
      "data.columns",
      "data.values"
     ],
     "language": "python",
     "metadata": {},
     "outputs": []
    },
    {
     "cell_type": "code",
     "collapsed": false,
     "input": [
      "df2 = pd.DataFrame(data.values, columns=['one', 'two', 'three'])",
      "df2"
     ],
     "language": "python",
     "metadata": {},
     "outputs": []
    },
    {
     "cell_type": "code",
     "collapsed": false,
     "input": [
      "model_cols = ['x0', 'x1']",
      "data.loc[:, model_cols].values"
     ],
     "language": "python",
     "metadata": {},
     "outputs": []
    },
    {
     "cell_type": "code",
     "collapsed": false,
     "input": [
      "data['category'] = pd.Categorical(['a', 'b', 'a', 'a', 'b'],",
      "                                  categories=['a', 'b'])",
      "data"
     ],
     "language": "python",
     "metadata": {},
     "outputs": []
    },
    {
     "cell_type": "code",
     "collapsed": false,
     "input": [
      "dummies = pd.get_dummies(data.category, prefix='category')",
      "data_with_dummies = data.drop('category', axis=1).join(dummies)",
      "data_with_dummies"
     ],
     "language": "python",
     "metadata": {},
     "outputs": []
    },
    {
     "cell_type": "heading",
     "level": 2,
     "metadata": {},
     "source": [
      "Creating Model Descriptions with Patsy"
     ]
    },
    {
     "cell_type": "raw",
     "metadata": {},
     "source": [
      "y ~ x0 + x1"
     ]
    },
    {
     "cell_type": "code",
     "collapsed": false,
     "input": [
      "data = pd.DataFrame({",
      "    'x0': [1, 2, 3, 4, 5],",
      "    'x1': [0.01, -0.01, 0.25, -4.1, 0.],",
      "    'y': [-1.5, 0., 3.6, 1.3, -2.]})",
      "data",
      "import patsy",
      "y, X = patsy.dmatrices('y ~ x0 + x1', data)"
     ],
     "language": "python",
     "metadata": {},
     "outputs": []
    },
    {
     "cell_type": "code",
     "collapsed": false,
     "input": [
      "y",
      "X"
     ],
     "language": "python",
     "metadata": {},
     "outputs": []
    },
    {
     "cell_type": "code",
     "collapsed": false,
     "input": [
      "np.asarray(y)",
      "np.asarray(X)"
     ],
     "language": "python",
     "metadata": {},
     "outputs": []
    },
    {
     "cell_type": "code",
     "collapsed": false,
     "input": [
      "patsy.dmatrices('y ~ x0 + x1 + 0', data)[1]"
     ],
     "language": "python",
     "metadata": {},
     "outputs": []
    },
    {
     "cell_type": "code",
     "collapsed": false,
     "input": [
      "coef, resid, _, _ = np.linalg.lstsq(X, y)"
     ],
     "language": "python",
     "metadata": {},
     "outputs": []
    },
    {
     "cell_type": "code",
     "collapsed": false,
     "input": [
      "coef",
      "coef = pd.Series(coef.squeeze(), index=X.design_info.column_names)",
      "coef"
     ],
     "language": "python",
     "metadata": {},
     "outputs": []
    },
    {
     "cell_type": "heading",
     "level": 3,
     "metadata": {},
     "source": [
      "Data Transformations in Patsy Formulas"
     ]
    },
    {
     "cell_type": "code",
     "collapsed": false,
     "input": [
      "y, X = patsy.dmatrices('y ~ x0 + np.log(np.abs(x1) + 1)', data)",
      "X"
     ],
     "language": "python",
     "metadata": {},
     "outputs": []
    },
    {
     "cell_type": "code",
     "collapsed": false,
     "input": [
      "y, X = patsy.dmatrices('y ~ standardize(x0) + center(x1)', data)",
      "X"
     ],
     "language": "python",
     "metadata": {},
     "outputs": []
    },
    {
     "cell_type": "code",
     "collapsed": false,
     "input": [
      "new_data = pd.DataFrame({",
      "    'x0': [6, 7, 8, 9],",
      "    'x1': [3.1, -0.5, 0, 2.3],",
      "    'y': [1, 2, 3, 4]})",
      "new_X = patsy.build_design_matrices([X.design_info], new_data)",
      "new_X"
     ],
     "language": "python",
     "metadata": {},
     "outputs": []
    },
    {
     "cell_type": "code",
     "collapsed": false,
     "input": [
      "y, X = patsy.dmatrices('y ~ I(x0 + x1)', data)",
      "X"
     ],
     "language": "python",
     "metadata": {},
     "outputs": []
    },
    {
     "cell_type": "heading",
     "level": 3,
     "metadata": {},
     "source": [
      "Categorical Data and Patsy"
     ]
    },
    {
     "cell_type": "code",
     "collapsed": false,
     "input": [
      "data = pd.DataFrame({",
      "    'key1': ['a', 'a', 'b', 'b', 'a', 'b', 'a', 'b'],",
      "    'key2': [0, 1, 0, 1, 0, 1, 0, 0],",
      "    'v1': [1, 2, 3, 4, 5, 6, 7, 8],",
      "    'v2': [-1, 0, 2.5, -0.5, 4.0, -1.2, 0.2, -1.7]",
      "})",
      "y, X = patsy.dmatrices('v2 ~ key1', data)",
      "X"
     ],
     "language": "python",
     "metadata": {},
     "outputs": []
    },
    {
     "cell_type": "code",
     "collapsed": false,
     "input": [
      "y, X = patsy.dmatrices('v2 ~ key1 + 0', data)",
      "X"
     ],
     "language": "python",
     "metadata": {},
     "outputs": []
    },
    {
     "cell_type": "code",
     "collapsed": false,
     "input": [
      "y, X = patsy.dmatrices('v2 ~ C(key2)', data)",
      "X"
     ],
     "language": "python",
     "metadata": {},
     "outputs": []
    },
    {
     "cell_type": "code",
     "collapsed": false,
     "input": [
      "data['key2'] = data['key2'].map({0: 'zero', 1: 'one'})",
      "data",
      "y, X = patsy.dmatrices('v2 ~ key1 + key2', data)",
      "X",
      "y, X = patsy.dmatrices('v2 ~ key1 + key2 + key1:key2', data)",
      "X"
     ],
     "language": "python",
     "metadata": {},
     "outputs": []
    },
    {
     "cell_type": "heading",
     "level": 2,
     "metadata": {},
     "source": [
      "Introduction to statsmodels"
     ]
    },
    {
     "cell_type": "heading",
     "level": 3,
     "metadata": {},
     "source": [
      "Estimating Linear Models"
     ]
    },
    {
     "cell_type": "code",
     "collapsed": false,
     "input": [
      "import statsmodels.api as sm",
      "import statsmodels.formula.api as smf"
     ],
     "language": "python",
     "metadata": {},
     "outputs": []
    },
    {
     "cell_type": "code",
     "collapsed": false,
     "input": [
      "def dnorm(mean, variance, size=1):",
      "    if isinstance(size, int):",
      "        size = size,",
      "    return mean + np.sqrt(variance) * np.random.randn(*size)",
      "",
      "# For reproducibility",
      "np.random.seed(12345)",
      "",
      "N = 100",
      "X = np.c_[dnorm(0, 0.4, size=N),",
      "          dnorm(0, 0.6, size=N),",
      "          dnorm(0, 0.2, size=N)]",
      "eps = dnorm(0, 0.1, size=N)",
      "beta = [0.1, 0.3, 0.5]",
      "",
      "y = np.dot(X, beta) + eps"
     ],
     "language": "python",
     "metadata": {},
     "outputs": []
    },
    {
     "cell_type": "code",
     "collapsed": false,
     "input": [
      "X[:5]",
      "y[:5]"
     ],
     "language": "python",
     "metadata": {},
     "outputs": []
    },
    {
     "cell_type": "code",
     "collapsed": false,
     "input": [
      "X_model = sm.add_constant(X)",
      "X_model[:5]"
     ],
     "language": "python",
     "metadata": {},
     "outputs": []
    },
    {
     "cell_type": "code",
     "collapsed": false,
     "input": [
      "model = sm.OLS(y, X)"
     ],
     "language": "python",
     "metadata": {},
     "outputs": []
    },
    {
     "cell_type": "code",
     "collapsed": false,
     "input": [
      "results = model.fit()",
      "results.params"
     ],
     "language": "python",
     "metadata": {},
     "outputs": []
    },
    {
     "cell_type": "code",
     "collapsed": false,
     "input": [
      "print(results.summary())"
     ],
     "language": "python",
     "metadata": {},
     "outputs": []
    },
    {
     "cell_type": "code",
     "collapsed": false,
     "input": [
      "data = pd.DataFrame(X, columns=['col0', 'col1', 'col2'])",
      "data['y'] = y",
      "data[:5]"
     ],
     "language": "python",
     "metadata": {},
     "outputs": []
    },
    {
     "cell_type": "code",
     "collapsed": false,
     "input": [
      "results = smf.ols('y ~ col0 + col1 + col2', data=data).fit()",
      "results.params",
      "results.tvalues"
     ],
     "language": "python",
     "metadata": {},
     "outputs": []
    },
    {
     "cell_type": "code",
     "collapsed": false,
     "input": [
      "results.predict(data[:5])"
     ],
     "language": "python",
     "metadata": {},
     "outputs": []
    },
    {
     "cell_type": "heading",
     "level": 3,
     "metadata": {},
     "source": [
      "Estimating Time Series Processes"
     ]
    },
    {
     "cell_type": "code",
     "collapsed": false,
     "input": [
      "init_x = 4",
      "",
      "import random",
      "values = [init_x, init_x]",
      "N = 1000",
      "",
      "b0 = 0.8",
      "b1 = -0.4",
      "noise = dnorm(0, 0.1, N)",
      "for i in range(N):",
      "    new_x = values[-1] * b0 + values[-2] * b1 + noise[i]",
      "    values.append(new_x)"
     ],
     "language": "python",
     "metadata": {},
     "outputs": []
    },
    {
     "cell_type": "code",
     "collapsed": false,
     "input": [
      "MAXLAGS = 5",
      "model = sm.tsa.AR(values)",
      "results = model.fit(MAXLAGS)"
     ],
     "language": "python",
     "metadata": {},
     "outputs": []
    },
    {
     "cell_type": "code",
     "collapsed": false,
     "input": [
      "results.params"
     ],
     "language": "python",
     "metadata": {},
     "outputs": []
    },
    {
     "cell_type": "heading",
     "level": 2,
     "metadata": {},
     "source": [
      "Introduction to scikit-learn"
     ]
    },
    {
     "cell_type": "code",
     "collapsed": false,
     "input": [
      "train = pd.read_csv('datasets/titanic/train.csv')",
      "test = pd.read_csv('datasets/titanic/test.csv')",
      "train[:4]"
     ],
     "language": "python",
     "metadata": {},
     "outputs": []
    },
    {
     "cell_type": "code",
     "collapsed": false,
     "input": [
      "train.isnull().sum()",
      "test.isnull().sum()"
     ],
     "language": "python",
     "metadata": {},
     "outputs": []
    },
    {
     "cell_type": "code",
     "collapsed": false,
     "input": [
      "impute_value = train['Age'].median()",
      "train['Age'] = train['Age'].fillna(impute_value)",
      "test['Age'] = test['Age'].fillna(impute_value)"
     ],
     "language": "python",
     "metadata": {},
     "outputs": []
    },
    {
     "cell_type": "code",
     "collapsed": false,
     "input": [
      "train['IsFemale'] = (train['Sex'] == 'female').astype(int)",
      "test['IsFemale'] = (test['Sex'] == 'female').astype(int)"
     ],
     "language": "python",
     "metadata": {},
     "outputs": []
    },
    {
     "cell_type": "code",
     "collapsed": false,
     "input": [
      "predictors = ['Pclass', 'IsFemale', 'Age']",
      "X_train = train[predictors].values",
      "X_test = test[predictors].values",
      "y_train = train['Survived'].values",
      "X_train[:5]",
      "y_train[:5]"
     ],
     "language": "python",
     "metadata": {},
     "outputs": []
    },
    {
     "cell_type": "code",
     "collapsed": false,
     "input": [
      "from sklearn.linear_model import LogisticRegression",
      "model = LogisticRegression()"
     ],
     "language": "python",
     "metadata": {},
     "outputs": []
    },
    {
     "cell_type": "code",
     "collapsed": false,
     "input": [
      "model.fit(X_train, y_train)"
     ],
     "language": "python",
     "metadata": {},
     "outputs": []
    },
    {
     "cell_type": "code",
     "collapsed": false,
     "input": [
      "y_predict = model.predict(X_test)",
      "y_predict[:10]"
     ],
     "language": "python",
     "metadata": {},
     "outputs": []
    },
    {
     "cell_type": "raw",
     "metadata": {},
     "source": [
      "(y_true == y_predict).mean()"
     ]
    },
    {
     "cell_type": "code",
     "collapsed": false,
     "input": [
      "from sklearn.linear_model import LogisticRegressionCV",
      "model_cv = LogisticRegressionCV(10)",
      "model_cv.fit(X_train, y_train)"
     ],
     "language": "python",
     "metadata": {},
     "outputs": []
    },
    {
     "cell_type": "code",
     "collapsed": false,
     "input": [
      "from sklearn.model_selection import cross_val_score",
      "model = LogisticRegression(C=10)",
      "scores = cross_val_score(model, X_train, y_train, cv=4)",
      "scores"
     ],
     "language": "python",
     "metadata": {},
     "outputs": []
    },
    {
     "cell_type": "heading",
     "level": 2,
     "metadata": {},
     "source": [
      "Continuing Your Education"
     ]
    },
    {
     "cell_type": "code",
     "collapsed": false,
     "input": [
      "%popd"
     ],
     "language": "python",
     "metadata": {},
     "outputs": []
    },
    {
     "cell_type": "code",
     "collapsed": false,
     "input": [
      "pd.options.display.max_rows = PREVIOUS_MAX_ROWS"
     ],
     "language": "python",
     "metadata": {},
     "outputs": []
    }
   ],
   "metadata": {}
  }
 ]
}