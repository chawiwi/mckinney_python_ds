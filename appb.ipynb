{
 "cells": [
  {
   "cell_type": "markdown",
   "metadata": {
    "deletable": true,
    "editable": true
   },
   "source": [
    "# More on the IPython System"
   ]
  },
  {
   "cell_type": "markdown",
   "metadata": {
    "deletable": true,
    "editable": true
   },
   "source": [
    "## Using the Command History"
   ]
  },
  {
   "cell_type": "markdown",
   "metadata": {
    "deletable": true,
    "editable": true
   },
   "source": [
    "### Searching and Reusing the Command History"
   ]
  },
  {
   "cell_type": "raw",
   "metadata": {
    "deletable": true,
    "editable": true
   },
   "source": [
    "In[7]: %run first/second/third/data_script.py"
   ]
  },
  {
   "cell_type": "raw",
   "metadata": {
    "deletable": true,
    "editable": true
   },
   "source": [
    "In [1]: a_command = foo(x, y, z)\n",
    "\n",
    "(reverse-i-search)`com': a_command = foo(x, y, z)"
   ]
  },
  {
   "cell_type": "markdown",
   "metadata": {
    "deletable": true,
    "editable": true
   },
   "source": [
    "### Input and Output Variables"
   ]
  },
  {
   "cell_type": "raw",
   "metadata": {
    "deletable": true,
    "editable": true
   },
   "source": [
    "In [24]: 2 ** 27\n",
    "Out[24]: 134217728\n",
    "\n",
    "In [25]: _\n",
    "Out[25]: 134217728"
   ]
  },
  {
   "cell_type": "raw",
   "metadata": {
    "deletable": true,
    "editable": true
   },
   "source": [
    "In [26]: foo = 'bar'\n",
    "\n",
    "In [27]: foo\n",
    "Out[27]: 'bar'\n",
    "\n",
    "In [28]: _i27\n",
    "Out[28]: u'foo'\n",
    "\n",
    "In [29]: _27\n",
    "Out[29]: 'bar'"
   ]
  },
  {
   "cell_type": "raw",
   "metadata": {
    "deletable": true,
    "editable": true
   },
   "source": [
    "In [30]: exec(_i27)"
   ]
  },
  {
   "cell_type": "markdown",
   "metadata": {
    "deletable": true,
    "editable": true
   },
   "source": [
    "## Interacting with the Operating System"
   ]
  },
  {
   "cell_type": "markdown",
   "metadata": {
    "deletable": true,
    "editable": true
   },
   "source": [
    "### Shell Commands and Aliases"
   ]
  },
  {
   "cell_type": "raw",
   "metadata": {
    "deletable": true,
    "editable": true
   },
   "source": [
    "In [1]: ip_info = !ifconfig wlan0 | grep \"inet \"\n",
    "\n",
    "In [2]: ip_info[0].strip()\n",
    "Out[2]: 'inet addr:10.0.0.11  Bcast:10.0.0.255  Mask:255.255.255.0'"
   ]
  },
  {
   "cell_type": "raw",
   "metadata": {
    "deletable": true,
    "editable": true
   },
   "source": [
    "In [3]: foo = 'test*'\n",
    "\n",
    "In [4]: !ls $foo\n",
    "test4.py  test.py  test.xml"
   ]
  },
  {
   "cell_type": "raw",
   "metadata": {
    "deletable": true,
    "editable": true
   },
   "source": [
    "In [1]: %alias ll ls -l\n",
    "\n",
    "In [2]: ll /usr\n",
    "total 332\n",
    "drwxr-xr-x   2 root root  69632 2012-01-29 20:36 bin/\n",
    "drwxr-xr-x   2 root root   4096 2010-08-23 12:05 games/\n",
    "drwxr-xr-x 123 root root  20480 2011-12-26 18:08 include/\n",
    "drwxr-xr-x 265 root root 126976 2012-01-29 20:36 lib/\n",
    "drwxr-xr-x  44 root root  69632 2011-12-26 18:08 lib32/\n",
    "lrwxrwxrwx   1 root root      3 2010-08-23 16:02 lib64 -> lib/\n",
    "drwxr-xr-x  15 root root   4096 2011-10-13 19:03 local/\n",
    "drwxr-xr-x   2 root root  12288 2012-01-12 09:32 sbin/\n",
    "drwxr-xr-x 387 root root  12288 2011-11-04 22:53 share/\n",
    "drwxrwsr-x  24 root src    4096 2011-07-17 18:38 src/"
   ]
  },
  {
   "cell_type": "raw",
   "metadata": {
    "deletable": true,
    "editable": true
   },
   "source": [
    "In [558]: %alias test_alias (cd examples; ls; cd ..)\n",
    "\n",
    "In [559]: test_alias\n",
    "macrodata.csv  spx.csv    tips.csv"
   ]
  },
  {
   "cell_type": "markdown",
   "metadata": {
    "deletable": true,
    "editable": true
   },
   "source": [
    "### Directory Bookmark System"
   ]
  },
  {
   "cell_type": "raw",
   "metadata": {
    "deletable": true,
    "editable": true
   },
   "source": [
    "In [6]: %bookmark py4da /home/wesm/code/pydata-book"
   ]
  },
  {
   "cell_type": "raw",
   "metadata": {
    "deletable": true,
    "editable": true
   },
   "source": [
    "In [7]: cd py4da\n",
    "(bookmark:py4da) -> /home/wesm/code/pydata-book\n",
    "/home/wesm/code/pydata-book"
   ]
  },
  {
   "cell_type": "raw",
   "metadata": {
    "deletable": true,
    "editable": true
   },
   "source": [
    "In [8]: %bookmark -l\n",
    "Current bookmarks:\n",
    "py4da -> /home/wesm/code/pydata-book-source"
   ]
  },
  {
   "cell_type": "markdown",
   "metadata": {
    "deletable": true,
    "editable": true
   },
   "source": [
    "## Software Development Tools"
   ]
  },
  {
   "cell_type": "markdown",
   "metadata": {
    "deletable": true,
    "editable": true
   },
   "source": [
    "### Interactive Debugger"
   ]
  },
  {
   "cell_type": "raw",
   "metadata": {
    "deletable": true,
    "editable": true
   },
   "source": [
    "In [2]: run examples/ipython_bug.py\n",
    "---------------------------------------------------------------------------\n",
    "AssertionError                            Traceback (most recent call last)\n",
    "/home/wesm/code/pydata-book/examples/ipython_bug.py in <module>()\n",
    "     13     throws_an_exception()\n",
    "     14\n",
    "---> 15 calling_things()\n",
    "\n",
    "/home/wesm/code/pydata-book/examples/ipython_bug.py in calling_things()\n",
    "     11 def calling_things():\n",
    "     12     works_fine()\n",
    "---> 13     throws_an_exception()\n",
    "     14\n",
    "     15 calling_things()\n",
    "\n",
    "/home/wesm/code/pydata-book/examples/ipython_bug.py in throws_an_exception()\n",
    "      7     a = 5\n",
    "      8     b = 6\n",
    "----> 9     assert(a + b == 10)\n",
    "     10\n",
    "     11 def calling_things():\n",
    "\n",
    "AssertionError:\n",
    "\n",
    "In [3]: %debug\n",
    "> /home/wesm/code/pydata-book/examples/ipython_bug.py(9)throws_an_exception()\n",
    "      8     b = 6\n",
    "----> 9     assert(a + b == 10)\n",
    "     10\n",
    "\n",
    "ipdb>"
   ]
  },
  {
   "cell_type": "raw",
   "metadata": {
    "deletable": true,
    "editable": true
   },
   "source": [
    "ipdb> u\n",
    "> /home/wesm/code/pydata-book/examples/ipython_bug.py(13)calling_things()\n",
    "     12     works_fine()\n",
    "---> 13     throws_an_exception()\n",
    "     14"
   ]
  },
  {
   "cell_type": "raw",
   "metadata": {
    "deletable": true,
    "editable": true
   },
   "source": [
    "In [5]: run -d examples/ipython_bug.py\n",
    "Breakpoint 1 at /home/wesm/code/pydata-book/examples/ipython_bug.py:1\n",
    "NOTE: Enter 'c' at the ipdb>  prompt to start your script.\n",
    "> <string>(1)<module>()\n",
    "\n",
    "ipdb> s\n",
    "--Call--\n",
    "> /home/wesm/code/pydata-book/examples/ipython_bug.py(1)<module>()\n",
    "1---> 1 def works_fine():\n",
    "      2     a = 5\n",
    "      3     b = 6"
   ]
  },
  {
   "cell_type": "raw",
   "metadata": {
    "deletable": true,
    "editable": true
   },
   "source": [
    "ipdb> b 12\n",
    "ipdb> c\n",
    "> /home/wesm/code/pydata-book/examples/ipython_bug.py(12)calling_things()\n",
    "     11 def calling_things():\n",
    "2--> 12     works_fine()\n",
    "     13     throws_an_exception()"
   ]
  },
  {
   "cell_type": "raw",
   "metadata": {
    "deletable": true,
    "editable": true
   },
   "source": [
    "ipdb> n\n",
    "> /home/wesm/code/pydata-book/examples/ipython_bug.py(13)calling_things()\n",
    "2    12     works_fine()\n",
    "---> 13     throws_an_exception()\n",
    "     14"
   ]
  },
  {
   "cell_type": "raw",
   "metadata": {
    "deletable": true,
    "editable": true
   },
   "source": [
    "ipdb> s\n",
    "--Call--\n",
    "> /home/wesm/code/pydata-book/examples/ipython_bug.py(6)throws_an_exception()\n",
    "      5\n",
    "----> 6 def throws_an_exception():\n",
    "      7     a = 5\n",
    "\n",
    "ipdb> n\n",
    "> /home/wesm/code/pydata-book/examples/ipython_bug.py(7)throws_an_exception()\n",
    "      6 def throws_an_exception():\n",
    "----> 7     a = 5\n",
    "      8     b = 6\n",
    "\n",
    "ipdb> n\n",
    "> /home/wesm/code/pydata-book/examples/ipython_bug.py(8)throws_an_exception()\n",
    "      7     a = 5\n",
    "----> 8     b = 6\n",
    "      9     assert(a + b == 10)\n",
    "\n",
    "ipdb> n\n",
    "> /home/wesm/code/pydata-book/examples/ipython_bug.py(9)throws_an_exception()\n",
    "      8     b = 6\n",
    "----> 9     assert(a + b == 10)\n",
    "     10\n",
    "\n",
    "ipdb> !a\n",
    "5\n",
    "ipdb> !b\n",
    "6"
   ]
  },
  {
   "cell_type": "markdown",
   "metadata": {
    "deletable": true,
    "editable": true
   },
   "source": [
    "#### Other ways to make use of the debugger"
   ]
  },
  {
   "cell_type": "raw",
   "metadata": {
    "deletable": true,
    "editable": true
   },
   "source": [
    "from IPython.core.debugger import Pdb\n",
    "\n",
    "def set_trace():\n",
    "    Pdb(color_scheme='Linux').set_trace(sys._getframe().f_back)\n",
    "\n",
    "def debug(f, *args, **kwargs):\n",
    "    pdb = Pdb(color_scheme='Linux')\n",
    "    return pdb.runcall(f, *args, **kwargs)"
   ]
  },
  {
   "cell_type": "raw",
   "metadata": {
    "deletable": true,
    "editable": true
   },
   "source": [
    "In [7]: run examples/ipython_bug.py\n",
    "> /home/wesm/code/pydata-book/examples/ipython_bug.py(16)calling_things()\n",
    "     15     set_trace()\n",
    "---> 16     throws_an_exception()\n",
    "     17"
   ]
  },
  {
   "cell_type": "raw",
   "metadata": {
    "deletable": true,
    "editable": true
   },
   "source": [
    "def f(x, y, z=1):\n",
    "    tmp = x + y\n",
    "    return tmp / z"
   ]
  },
  {
   "cell_type": "raw",
   "metadata": {
    "deletable": true,
    "editable": true
   },
   "source": [
    "In [6]: debug(f, 1, 2, z=3)\n",
    "> <ipython-input>(2)f()\n",
    "      1 def f(x, y, z):\n",
    "----> 2     tmp = x + y\n",
    "      3     return tmp / z\n",
    "\n",
    "ipdb>"
   ]
  },
  {
   "cell_type": "raw",
   "metadata": {
    "deletable": true,
    "editable": true
   },
   "source": [
    "In [1]: %run -d examples/ipython_bug.py\n",
    "Breakpoint 1 at /home/wesm/code/pydata-book/examples/ipython_bug.py:1\n",
    "NOTE: Enter 'c' at the ipdb>  prompt to start your script.\n",
    "> <string>(1)<module>()\n",
    "\n",
    "ipdb>"
   ]
  },
  {
   "cell_type": "raw",
   "metadata": {
    "deletable": true,
    "editable": true
   },
   "source": [
    "In [2]: %run -d -b2 examples/ipython_bug.py\n",
    "Breakpoint 1 at /home/wesm/code/pydata-book/examples/ipython_bug.py:2\n",
    "NOTE: Enter 'c' at the ipdb>  prompt to start your script.\n",
    "> <string>(1)<module>()\n",
    "\n",
    "ipdb> c\n",
    "> /home/wesm/code/pydata-book/examples/ipython_bug.py(2)works_fine()\n",
    "      1 def works_fine():\n",
    "1---> 2     a = 5\n",
    "      3     b = 6\n",
    "\n",
    "ipdb>"
   ]
  },
  {
   "cell_type": "markdown",
   "metadata": {
    "deletable": true,
    "editable": true
   },
   "source": [
    "### Timing Code: %time and %timeit"
   ]
  },
  {
   "cell_type": "raw",
   "metadata": {
    "deletable": true,
    "editable": true
   },
   "source": [
    "import time\n",
    "start = time.time()\n",
    "for i in range(iterations):\n",
    "    # some code to run here\n",
    "elapsed_per = (time.time() - start) / iterations"
   ]
  },
  {
   "cell_type": "raw",
   "metadata": {
    "deletable": true,
    "editable": true
   },
   "source": [
    "# a very large list of strings\n",
    "strings = ['foo', 'foobar', 'baz', 'qux',\n",
    "           'python', 'Guido Van Rossum'] * 100000\n",
    "\n",
    "method1 = [x for x in strings if x.startswith('foo')]\n",
    "\n",
    "method2 = [x for x in strings if x[:3] == 'foo']"
   ]
  },
  {
   "cell_type": "raw",
   "metadata": {
    "deletable": true,
    "editable": true
   },
   "source": [
    "In [561]: %time method1 = [x for x in strings if x.startswith('foo')]\n",
    "CPU times: user 0.19 s, sys: 0.00 s, total: 0.19 s\n",
    "Wall time: 0.19 s\n",
    "\n",
    "In [562]: %time method2 = [x for x in strings if x[:3] == 'foo']\n",
    "CPU times: user 0.09 s, sys: 0.00 s, total: 0.09 s\n",
    "Wall time: 0.09 s"
   ]
  },
  {
   "cell_type": "raw",
   "metadata": {
    "deletable": true,
    "editable": true
   },
   "source": [
    "In [563]: %timeit [x for x in strings if x.startswith('foo')]\n",
    "10 loops, best of 3: 159 ms per loop\n",
    "\n",
    "In [564]: %timeit [x for x in strings if x[:3] == 'foo']\n",
    "10 loops, best of 3: 59.3 ms per loop"
   ]
  },
  {
   "cell_type": "raw",
   "metadata": {
    "deletable": true,
    "editable": true
   },
   "source": [
    "In [565]: x = 'foobar'\n",
    "\n",
    "In [566]: y = 'foo'\n",
    "\n",
    "In [567]: %timeit x.startswith(y)\n",
    "1000000 loops, best of 3: 267 ns per loop\n",
    "\n",
    "In [568]: %timeit x[:3] == y\n",
    "10000000 loops, best of 3: 147 ns per loop"
   ]
  },
  {
   "cell_type": "markdown",
   "metadata": {
    "deletable": true,
    "editable": true
   },
   "source": [
    "### Basic Profiling: %prun and %run -p"
   ]
  },
  {
   "cell_type": "raw",
   "metadata": {
    "deletable": true,
    "editable": true
   },
   "source": [
    "import numpy as np\n",
    "from numpy.linalg import eigvals\n",
    "\n",
    "def run_experiment(niter=100):\n",
    "    K = 100\n",
    "    results = []\n",
    "    for _ in xrange(niter):\n",
    "        mat = np.random.randn(K, K)\n",
    "        max_eigenvalue = np.abs(eigvals(mat)).max()\n",
    "        results.append(max_eigenvalue)\n",
    "    return results\n",
    "some_results = run_experiment()\n",
    "print 'Largest one we saw: %s' % np.max(some_results)"
   ]
  },
  {
   "cell_type": "raw",
   "metadata": {
    "deletable": true,
    "editable": true
   },
   "source": [
    "python -m cProfile cprof_example.py"
   ]
  },
  {
   "cell_type": "raw",
   "metadata": {
    "deletable": true,
    "editable": true
   },
   "source": [
    "$ python -m cProfile -s cumulative cprof_example.py\n",
    "Largest one we saw: 11.923204422\n",
    "    15116 function calls (14927 primitive calls) in 0.720 seconds\n",
    "\n",
    "Ordered by: cumulative time\n",
    "\n",
    "ncalls  tottime  percall  cumtime  percall filename:lineno(function)\n",
    "     1    0.001    0.001    0.721    0.721 cprof_example.py:1(<module>)\n",
    "   100    0.003    0.000    0.586    0.006 linalg.py:702(eigvals)\n",
    "   200    0.572    0.003    0.572    0.003 {numpy.linalg.lapack_lite.dgeev}\n",
    "     1    0.002    0.002    0.075    0.075 __init__.py:106(<module>)\n",
    "   100    0.059    0.001    0.059    0.001 {method 'randn')\n",
    "     1    0.000    0.000    0.044    0.044 add_newdocs.py:9(<module>)\n",
    "     2    0.001    0.001    0.037    0.019 __init__.py:1(<module>)\n",
    "     2    0.003    0.002    0.030    0.015 __init__.py:2(<module>)\n",
    "     1    0.000    0.000    0.030    0.030 type_check.py:3(<module>)\n",
    "     1    0.001    0.001    0.021    0.021 __init__.py:15(<module>)\n",
    "     1    0.013    0.013    0.013    0.013 numeric.py:1(<module>)\n",
    "     1    0.000    0.000    0.009    0.009 __init__.py:6(<module>)\n",
    "     1    0.001    0.001    0.008    0.008 __init__.py:45(<module>)\n",
    "   262    0.005    0.000    0.007    0.000 function_base.py:3178(add_newdoc)\n",
    "   100    0.003    0.000    0.005    0.000 linalg.py:162(_assertFinite)\n",
    "   ..."
   ]
  },
  {
   "cell_type": "raw",
   "metadata": {
    "deletable": true,
    "editable": true
   },
   "source": [
    "In [4]: %prun -l 7 -s cumulative run_experiment()\n",
    "         4203 function calls in 0.643 seconds\n",
    "\n",
    "Ordered by: cumulative time\n",
    "List reduced from 32 to 7 due to restriction <7>\n",
    "\n",
    "ncalls  tottime  percall  cumtime  percall filename:lineno(function)\n",
    "     1    0.000    0.000    0.643    0.643 <string>:1(<module>)\n",
    "     1    0.001    0.001    0.643    0.643 cprof_example.py:4(run_experiment)\n",
    "   100    0.003    0.000    0.583    0.006 linalg.py:702(eigvals)\n",
    "   200    0.569    0.003    0.569    0.003 {numpy.linalg.lapack_lite.dgeev}\n",
    "   100    0.058    0.001    0.058    0.001 {method 'randn'}\n",
    "   100    0.003    0.000    0.005    0.000 linalg.py:162(_assertFinite)\n",
    "   200    0.002    0.000    0.002    0.000 {method 'all' of 'numpy.ndarray'}"
   ]
  },
  {
   "cell_type": "markdown",
   "metadata": {
    "deletable": true,
    "editable": true
   },
   "source": [
    "### Profiling a Function Line by Line"
   ]
  },
  {
   "cell_type": "raw",
   "metadata": {
    "deletable": true,
    "editable": true
   },
   "source": [
    "# A list of dotted module names of IPython extensions to load.\n",
    "c.TerminalIPythonApp.extensions = ['line_profiler']"
   ]
  },
  {
   "cell_type": "raw",
   "metadata": {
    "deletable": true,
    "editable": true
   },
   "source": [
    "%load_ext line_profiler"
   ]
  },
  {
   "cell_type": "raw",
   "metadata": {
    "deletable": true,
    "editable": true
   },
   "source": [
    "from numpy.random import randn\n",
    "\n",
    "def add_and_sum(x, y):\n",
    "    added = x + y\n",
    "    summed = added.sum(axis=1)\n",
    "    return summed\n",
    "\n",
    "def call_function():\n",
    "    x = randn(1000, 1000)\n",
    "    y = randn(1000, 1000)\n",
    "    return add_and_sum(x, y)"
   ]
  },
  {
   "cell_type": "raw",
   "metadata": {
    "deletable": true,
    "editable": true
   },
   "source": [
    "In [569]: %run prof_mod\n",
    "\n",
    "In [570]: x = randn(3000, 3000)\n",
    "\n",
    "In [571]: y = randn(3000, 3000)\n",
    "\n",
    "In [572]: %prun add_and_sum(x, y)\n",
    "         4 function calls in 0.049 seconds\n",
    "   Ordered by: internal time\n",
    "   ncalls  tottime  percall  cumtime  percall filename:lineno(function)\n",
    "        1    0.036    0.036    0.046    0.046 prof_mod.py:3(add_and_sum)\n",
    "        1    0.009    0.009    0.009    0.009 {method 'sum' of 'numpy.ndarray'}\n",
    "        1    0.003    0.003    0.049    0.049 <string>:1(<module>)"
   ]
  },
  {
   "cell_type": "raw",
   "metadata": {
    "deletable": true,
    "editable": true
   },
   "source": [
    "%lprun -f func1 -f func2 "
   ]
  },
  {
   "cell_type": "raw",
   "metadata": {
    "deletable": true,
    "editable": true
   },
   "source": [
    "In [573]: %lprun -f add_and_sum add_and_sum(x, y)\n",
    "Timer unit: 1e-06 s\n",
    "File: prof_mod.py\n",
    "Function: add_and_sum at line 3\n",
    "Total time: 0.045936 s\n",
    "Line #      Hits         Time  Per Hit   % Time  Line Contents\n",
    "==============================================================\n",
    "     3                                           def add_and_sum(x, y):\n",
    "     4         1        36510  36510.0     79.5      added = x + y\n",
    "     5         1         9425   9425.0     20.5      summed = added.sum(axis=1)\n",
    "     6         1            1      1.0      0.0      return summed"
   ]
  },
  {
   "cell_type": "raw",
   "metadata": {
    "deletable": true,
    "editable": true
   },
   "source": [
    "In [574]: %lprun -f add_and_sum -f call_function call_function()\n",
    "Timer unit: 1e-06 s\n",
    "File: prof_mod.py\n",
    "Function: add_and_sum at line 3\n",
    "Total time: 0.005526 s\n",
    "Line #      Hits         Time  Per Hit   % Time  Line Contents\n",
    "==============================================================\n",
    "     3                                           def add_and_sum(x, y):\n",
    "     4         1         4375   4375.0     79.2      added = x + y\n",
    "     5         1         1149   1149.0     20.8      summed = added.sum(axis=1)\n",
    "     6         1            2      2.0      0.0      return summed\n",
    "File: prof_mod.py\n",
    "Function: call_function at line 8\n",
    "Total time: 0.121016 s\n",
    "Line #      Hits         Time  Per Hit   % Time  Line Contents\n",
    "==============================================================\n",
    "     8                                           def call_function():\n",
    "     9         1        57169  57169.0     47.2      x = randn(1000, 1000)\n",
    "    10         1        58304  58304.0     48.2      y = randn(1000, 1000)\n",
    "    11         1         5543   5543.0      4.6      return add_and_sum(x, y)"
   ]
  },
  {
   "cell_type": "markdown",
   "metadata": {
    "deletable": true,
    "editable": true
   },
   "source": [
    "## Tips for Productive Code Development Using IPython"
   ]
  },
  {
   "cell_type": "markdown",
   "metadata": {
    "deletable": true,
    "editable": true
   },
   "source": [
    "### Reloading Module Dependencies"
   ]
  },
  {
   "cell_type": "raw",
   "metadata": {
    "deletable": true,
    "editable": true
   },
   "source": [
    "import some_lib\n",
    "\n",
    "x = 5\n",
    "y = [1, 2, 3, 4]\n",
    "result = some_lib.get_answer(x, y)"
   ]
  },
  {
   "cell_type": "raw",
   "metadata": {
    "deletable": true,
    "editable": true
   },
   "source": [
    "import some_lib\n",
    "import importlib\n",
    "\n",
    "importlib.reload(some_lib)"
   ]
  },
  {
   "cell_type": "markdown",
   "metadata": {
    "deletable": true,
    "editable": true
   },
   "source": [
    "### Code Design Tips"
   ]
  },
  {
   "cell_type": "markdown",
   "metadata": {
    "deletable": true,
    "editable": true
   },
   "source": [
    "#### Keep relevant objects and data alive"
   ]
  },
  {
   "cell_type": "raw",
   "metadata": {
    "deletable": true,
    "editable": true
   },
   "source": [
    "from my_functions import g\n",
    "\n",
    "def f(x, y):\n",
    "    return g(x + y)\n",
    "\n",
    "def main():\n",
    "    x = 6\n",
    "    y = 7.5\n",
    "    result = x + y\n",
    "\n",
    "if __name__ == '__main__':\n",
    "    main()"
   ]
  },
  {
   "cell_type": "markdown",
   "metadata": {
    "deletable": true,
    "editable": true
   },
   "source": [
    "#### Flat is better than nested"
   ]
  },
  {
   "cell_type": "markdown",
   "metadata": {
    "deletable": true,
    "editable": true
   },
   "source": [
    "#### Overcome a fear of longer files"
   ]
  },
  {
   "cell_type": "markdown",
   "metadata": {
    "deletable": true,
    "editable": true
   },
   "source": [
    "## Advanced IPython Features"
   ]
  },
  {
   "cell_type": "markdown",
   "metadata": {
    "deletable": true,
    "editable": true
   },
   "source": [
    "### Making Your Own Classes IPython-Friendly"
   ]
  },
  {
   "cell_type": "raw",
   "metadata": {
    "deletable": true,
    "editable": true
   },
   "source": [
    "class Message:\n",
    "    def __init__(self, msg):\n",
    "        self.msg = msg"
   ]
  },
  {
   "cell_type": "raw",
   "metadata": {
    "deletable": true,
    "editable": true
   },
   "source": [
    "In [576]: x = Message('I have a secret')\n",
    "\n",
    "In [577]: x\n",
    "Out[577]: <__main__.Message instance at 0x60ebbd8>"
   ]
  },
  {
   "cell_type": "raw",
   "metadata": {
    "deletable": true,
    "editable": true
   },
   "source": [
    "class Message:\n",
    "    def __init__(self, msg):\n",
    "        self.msg = msg\n",
    "\n",
    "    def __repr__(self):\n",
    "        return 'Message: %s' % self.msg"
   ]
  },
  {
   "cell_type": "raw",
   "metadata": {
    "deletable": true,
    "editable": true
   },
   "source": [
    "In [579]: x = Message('I have a secret')\n",
    "\n",
    "In [580]: x\n",
    "Out[580]: Message: I have a secret"
   ]
  },
  {
   "cell_type": "markdown",
   "metadata": {
    "deletable": true,
    "editable": true
   },
   "source": [
    "### Profiles and Configuration"
   ]
  },
  {
   "cell_type": "raw",
   "metadata": {
    "deletable": true,
    "editable": true
   },
   "source": [
    "/home/wesm/.ipython/profile_default/ipython_config.py"
   ]
  },
  {
   "cell_type": "raw",
   "metadata": {
    "deletable": true,
    "editable": true
   },
   "source": [
    "ipython profile create"
   ]
  },
  {
   "cell_type": "raw",
   "metadata": {
    "deletable": true,
    "editable": true
   },
   "source": [
    "ipython profile create secret_project"
   ]
  },
  {
   "cell_type": "raw",
   "metadata": {
    "deletable": true,
    "editable": true
   },
   "source": [
    "$ ipython --profile=secret_project\n",
    "Python 3.5.1 | packaged by conda-forge | (default, May 20 2016, 05:22:56)\n",
    "Type \"copyright\", \"credits\" or \"license\" for more information.\n",
    "\n",
    "IPython 5.1.0 -- An enhanced Interactive Python.\n",
    "?         -> Introduction and overview of IPython's features.\n",
    "%quickref -> Quick reference.\n",
    "help      -> Python's own help system.\n",
    "object?   -> Details about 'object', use 'object??' for extra details.\n",
    "\n",
    "IPython profile: secret_project"
   ]
  },
  {
   "cell_type": "raw",
   "metadata": {
    "deletable": true,
    "editable": true
   },
   "source": [
    "jupyter notebook --generate-config"
   ]
  },
  {
   "cell_type": "raw",
   "metadata": {
    "deletable": true,
    "editable": true
   },
   "source": [
    "$ mv ~/.jupyter/jupyter_notebook_config.py ~/.jupyter/my_custom_config.py"
   ]
  },
  {
   "cell_type": "raw",
   "metadata": {
    "deletable": true,
    "editable": true
   },
   "source": [
    "jupyter notebook --config=~/.jupyter/my_custom_config.py"
   ]
  },
  {
   "cell_type": "markdown",
   "metadata": {
    "deletable": true,
    "editable": true
   },
   "source": [
    "## Conclusion"
   ]
  }
 ],
 "metadata": {
  "kernelspec": {
   "display_name": "Python 3",
   "language": "python",
   "name": "python3"
  },
  "language_info": {
   "codemirror_mode": {
    "name": "ipython",
    "version": 3
   },
   "file_extension": ".py",
   "mimetype": "text/x-python",
   "name": "python",
   "nbconvert_exporter": "python",
   "pygments_lexer": "ipython3",
   "version": "3.6.0"
  }
 },
 "nbformat": 4,
 "nbformat_minor": 0
}
