{
 "metadata": {
  "name": "generated_appb"
 },
 "nbformat": 3,
 "nbformat_minor": 0,
 "worksheets": [
  {
   "cells": [
    {
     "cell_type": "heading",
     "level": 1,
     "metadata": {},
     "source": [
      "More on the IPython System"
     ]
    },
    {
     "cell_type": "heading",
     "level": 2,
     "metadata": {},
     "source": [
      "Using the Command History"
     ]
    },
    {
     "cell_type": "heading",
     "level": 3,
     "metadata": {},
     "source": [
      "Searching and Reusing the Command History"
     ]
    },
    {
     "cell_type": "raw",
     "metadata": {},
     "source": [
      "In[7]: %run first/second/third/data_script.py"
     ]
    },
    {
     "cell_type": "raw",
     "metadata": {},
     "source": [
      "In [1]: a_command = foo(x, y, z)",
      "",
      "(reverse-i-search)`com': a_command = foo(x, y, z)"
     ]
    },
    {
     "cell_type": "heading",
     "level": 3,
     "metadata": {},
     "source": [
      "Input and Output Variables"
     ]
    },
    {
     "cell_type": "raw",
     "metadata": {},
     "source": [
      "In [24]: 2 ** 27",
      "Out[24]: 134217728",
      "",
      "In [25]: _",
      "Out[25]: 134217728"
     ]
    },
    {
     "cell_type": "raw",
     "metadata": {},
     "source": [
      "In [26]: foo = 'bar'",
      "",
      "In [27]: foo",
      "Out[27]: 'bar'",
      "",
      "In [28]: _i27",
      "Out[28]: u'foo'",
      "",
      "In [29]: _27",
      "Out[29]: 'bar'"
     ]
    },
    {
     "cell_type": "raw",
     "metadata": {},
     "source": [
      "In [30]: exec(_i27)"
     ]
    },
    {
     "cell_type": "heading",
     "level": 2,
     "metadata": {},
     "source": [
      "Interacting with the Operating System"
     ]
    },
    {
     "cell_type": "heading",
     "level": 3,
     "metadata": {},
     "source": [
      "Shell Commands and Aliases"
     ]
    },
    {
     "cell_type": "raw",
     "metadata": {},
     "source": [
      "In [1]: ip_info = !ifconfig wlan0 | grep \"inet \"",
      "",
      "In [2]: ip_info[0].strip()",
      "Out[2]: 'inet addr:10.0.0.11  Bcast:10.0.0.255  Mask:255.255.255.0'"
     ]
    },
    {
     "cell_type": "raw",
     "metadata": {},
     "source": [
      "In [3]: foo = 'test*'",
      "",
      "In [4]: !ls $foo",
      "test4.py  test.py  test.xml"
     ]
    },
    {
     "cell_type": "raw",
     "metadata": {},
     "source": [
      "In [1]: %alias ll ls -l",
      "",
      "In [2]: ll /usr",
      "total 332",
      "drwxr-xr-x   2 root root  69632 2012-01-29 20:36 bin/",
      "drwxr-xr-x   2 root root   4096 2010-08-23 12:05 games/",
      "drwxr-xr-x 123 root root  20480 2011-12-26 18:08 include/",
      "drwxr-xr-x 265 root root 126976 2012-01-29 20:36 lib/",
      "drwxr-xr-x  44 root root  69632 2011-12-26 18:08 lib32/",
      "lrwxrwxrwx   1 root root      3 2010-08-23 16:02 lib64 -> lib/",
      "drwxr-xr-x  15 root root   4096 2011-10-13 19:03 local/",
      "drwxr-xr-x   2 root root  12288 2012-01-12 09:32 sbin/",
      "drwxr-xr-x 387 root root  12288 2011-11-04 22:53 share/",
      "drwxrwsr-x  24 root src    4096 2011-07-17 18:38 src/"
     ]
    },
    {
     "cell_type": "raw",
     "metadata": {},
     "source": [
      "In [558]: %alias test_alias (cd examples; ls; cd ..)",
      "",
      "In [559]: test_alias",
      "macrodata.csv  spx.csv    tips.csv"
     ]
    },
    {
     "cell_type": "heading",
     "level": 3,
     "metadata": {},
     "source": [
      "Directory Bookmark System"
     ]
    },
    {
     "cell_type": "raw",
     "metadata": {},
     "source": [
      "In [6]: %bookmark py4da /home/wesm/code/pydata-book"
     ]
    },
    {
     "cell_type": "raw",
     "metadata": {},
     "source": [
      "In [7]: cd py4da",
      "(bookmark:py4da) -> /home/wesm/code/pydata-book",
      "/home/wesm/code/pydata-book"
     ]
    },
    {
     "cell_type": "raw",
     "metadata": {},
     "source": [
      "In [8]: %bookmark -l",
      "Current bookmarks:",
      "py4da -> /home/wesm/code/pydata-book-source"
     ]
    },
    {
     "cell_type": "heading",
     "level": 2,
     "metadata": {},
     "source": [
      "Software Development Tools"
     ]
    },
    {
     "cell_type": "heading",
     "level": 3,
     "metadata": {},
     "source": [
      "Interactive Debugger"
     ]
    },
    {
     "cell_type": "raw",
     "metadata": {},
     "source": [
      "In [2]: run examples/ipython_bug.py",
      "---------------------------------------------------------------------------",
      "AssertionError                            Traceback (most recent call last)",
      "/home/wesm/code/pydata-book/examples/ipython_bug.py in <module>()",
      "     13     throws_an_exception()",
      "     14",
      "---> 15 calling_things()",
      "",
      "/home/wesm/code/pydata-book/examples/ipython_bug.py in calling_things()",
      "     11 def calling_things():",
      "     12     works_fine()",
      "---> 13     throws_an_exception()",
      "     14",
      "     15 calling_things()",
      "",
      "/home/wesm/code/pydata-book/examples/ipython_bug.py in throws_an_exception()",
      "      7     a = 5",
      "      8     b = 6",
      "----> 9     assert(a + b == 10)",
      "     10",
      "     11 def calling_things():",
      "",
      "AssertionError:",
      "",
      "In [3]: %debug",
      "> /home/wesm/code/pydata-book/examples/ipython_bug.py(9)throws_an_exception()",
      "      8     b = 6",
      "----> 9     assert(a + b == 10)",
      "     10",
      "",
      "ipdb>"
     ]
    },
    {
     "cell_type": "raw",
     "metadata": {},
     "source": [
      "ipdb> u",
      "> /home/wesm/code/pydata-book/examples/ipython_bug.py(13)calling_things()",
      "     12     works_fine()",
      "---> 13     throws_an_exception()",
      "     14"
     ]
    },
    {
     "cell_type": "raw",
     "metadata": {},
     "source": [
      "In [5]: run -d examples/ipython_bug.py",
      "Breakpoint 1 at /home/wesm/code/pydata-book/examples/ipython_bug.py:1",
      "NOTE: Enter 'c' at the ipdb>  prompt to start your script.",
      "> <string>(1)<module>()",
      "",
      "ipdb> s",
      "--Call--",
      "> /home/wesm/code/pydata-book/examples/ipython_bug.py(1)<module>()",
      "1---> 1 def works_fine():",
      "      2     a = 5",
      "      3     b = 6"
     ]
    },
    {
     "cell_type": "raw",
     "metadata": {},
     "source": [
      "ipdb> b 12",
      "ipdb> c",
      "> /home/wesm/code/pydata-book/examples/ipython_bug.py(12)calling_things()",
      "     11 def calling_things():",
      "2--> 12     works_fine()",
      "     13     throws_an_exception()"
     ]
    },
    {
     "cell_type": "raw",
     "metadata": {},
     "source": [
      "ipdb> n",
      "> /home/wesm/code/pydata-book/examples/ipython_bug.py(13)calling_things()",
      "2    12     works_fine()",
      "---> 13     throws_an_exception()",
      "     14"
     ]
    },
    {
     "cell_type": "raw",
     "metadata": {},
     "source": [
      "ipdb> s",
      "--Call--",
      "> /home/wesm/code/pydata-book/examples/ipython_bug.py(6)throws_an_exception()",
      "      5",
      "----> 6 def throws_an_exception():",
      "      7     a = 5",
      "",
      "ipdb> n",
      "> /home/wesm/code/pydata-book/examples/ipython_bug.py(7)throws_an_exception()",
      "      6 def throws_an_exception():",
      "----> 7     a = 5",
      "      8     b = 6",
      "",
      "ipdb> n",
      "> /home/wesm/code/pydata-book/examples/ipython_bug.py(8)throws_an_exception()",
      "      7     a = 5",
      "----> 8     b = 6",
      "      9     assert(a + b == 10)",
      "",
      "ipdb> n",
      "> /home/wesm/code/pydata-book/examples/ipython_bug.py(9)throws_an_exception()",
      "      8     b = 6",
      "----> 9     assert(a + b == 10)",
      "     10",
      "",
      "ipdb> !a",
      "5",
      "ipdb> !b",
      "6"
     ]
    },
    {
     "cell_type": "heading",
     "level": 4,
     "metadata": {},
     "source": [
      "Other ways to make use of the debugger"
     ]
    },
    {
     "cell_type": "raw",
     "metadata": {},
     "source": [
      "from IPython.core.debugger import Pdb",
      "",
      "def set_trace():",
      "    Pdb(color_scheme='Linux').set_trace(sys._getframe().f_back)",
      "",
      "def debug(f, *args, **kwargs):",
      "    pdb = Pdb(color_scheme='Linux')",
      "    return pdb.runcall(f, *args, **kwargs)"
     ]
    },
    {
     "cell_type": "raw",
     "metadata": {},
     "source": [
      "In [7]: run examples/ipython_bug.py",
      "> /home/wesm/code/pydata-book/examples/ipython_bug.py(16)calling_things()",
      "     15     set_trace()",
      "---> 16     throws_an_exception()",
      "     17"
     ]
    },
    {
     "cell_type": "raw",
     "metadata": {},
     "source": [
      "def f(x, y, z=1):",
      "    tmp = x + y",
      "    return tmp / z"
     ]
    },
    {
     "cell_type": "raw",
     "metadata": {},
     "source": [
      "In [6]: debug(f, 1, 2, z=3)",
      "> <ipython-input>(2)f()",
      "      1 def f(x, y, z):",
      "----> 2     tmp = x + y",
      "      3     return tmp / z",
      "",
      "ipdb>"
     ]
    },
    {
     "cell_type": "raw",
     "metadata": {},
     "source": [
      "In [1]: %run -d examples/ipython_bug.py",
      "Breakpoint 1 at /home/wesm/code/pydata-book/examples/ipython_bug.py:1",
      "NOTE: Enter 'c' at the ipdb>  prompt to start your script.",
      "> <string>(1)<module>()",
      "",
      "ipdb>"
     ]
    },
    {
     "cell_type": "raw",
     "metadata": {},
     "source": [
      "In [2]: %run -d -b2 examples/ipython_bug.py",
      "Breakpoint 1 at /home/wesm/code/pydata-book/examples/ipython_bug.py:2",
      "NOTE: Enter 'c' at the ipdb>  prompt to start your script.",
      "> <string>(1)<module>()",
      "",
      "ipdb> c",
      "> /home/wesm/code/pydata-book/examples/ipython_bug.py(2)works_fine()",
      "      1 def works_fine():",
      "1---> 2     a = 5",
      "      3     b = 6",
      "",
      "ipdb>"
     ]
    },
    {
     "cell_type": "heading",
     "level": 3,
     "metadata": {},
     "source": [
      "Timing Code: %time and %timeit"
     ]
    },
    {
     "cell_type": "raw",
     "metadata": {},
     "source": [
      "import time",
      "start = time.time()",
      "for i in range(iterations):",
      "    # some code to run here",
      "elapsed_per = (time.time() - start) / iterations"
     ]
    },
    {
     "cell_type": "raw",
     "metadata": {},
     "source": [
      "# a very large list of strings",
      "strings = ['foo', 'foobar', 'baz', 'qux',",
      "           'python', 'Guido Van Rossum'] * 100000",
      "",
      "method1 = [x for x in strings if x.startswith('foo')]",
      "",
      "method2 = [x for x in strings if x[:3] == 'foo']"
     ]
    },
    {
     "cell_type": "raw",
     "metadata": {},
     "source": [
      "In [561]: %time method1 = [x for x in strings if x.startswith('foo')]",
      "CPU times: user 0.19 s, sys: 0.00 s, total: 0.19 s",
      "Wall time: 0.19 s",
      "",
      "In [562]: %time method2 = [x for x in strings if x[:3] == 'foo']",
      "CPU times: user 0.09 s, sys: 0.00 s, total: 0.09 s",
      "Wall time: 0.09 s"
     ]
    },
    {
     "cell_type": "raw",
     "metadata": {},
     "source": [
      "In [563]: %timeit [x for x in strings if x.startswith('foo')]",
      "10 loops, best of 3: 159 ms per loop",
      "",
      "In [564]: %timeit [x for x in strings if x[:3] == 'foo']",
      "10 loops, best of 3: 59.3 ms per loop"
     ]
    },
    {
     "cell_type": "raw",
     "metadata": {},
     "source": [
      "In [565]: x = 'foobar'",
      "",
      "In [566]: y = 'foo'",
      "",
      "In [567]: %timeit x.startswith(y)",
      "1000000 loops, best of 3: 267 ns per loop",
      "",
      "In [568]: %timeit x[:3] == y",
      "10000000 loops, best of 3: 147 ns per loop"
     ]
    },
    {
     "cell_type": "heading",
     "level": 3,
     "metadata": {},
     "source": [
      "Basic Profiling: %prun and %run -p"
     ]
    },
    {
     "cell_type": "raw",
     "metadata": {},
     "source": [
      "import numpy as np",
      "from numpy.linalg import eigvals",
      "",
      "def run_experiment(niter=100):",
      "    K = 100",
      "    results = []",
      "    for _ in xrange(niter):",
      "        mat = np.random.randn(K, K)",
      "        max_eigenvalue = np.abs(eigvals(mat)).max()",
      "        results.append(max_eigenvalue)",
      "    return results",
      "some_results = run_experiment()",
      "print 'Largest one we saw: %s' % np.max(some_results)"
     ]
    },
    {
     "cell_type": "raw",
     "metadata": {},
     "source": [
      "python -m cProfile cprof_example.py"
     ]
    },
    {
     "cell_type": "raw",
     "metadata": {},
     "source": [
      "$ python -m cProfile -s cumulative cprof_example.py",
      "Largest one we saw: 11.923204422",
      "    15116 function calls (14927 primitive calls) in 0.720 seconds",
      "",
      "Ordered by: cumulative time",
      "",
      "ncalls  tottime  percall  cumtime  percall filename:lineno(function)",
      "     1    0.001    0.001    0.721    0.721 cprof_example.py:1(<module>)",
      "   100    0.003    0.000    0.586    0.006 linalg.py:702(eigvals)",
      "   200    0.572    0.003    0.572    0.003 {numpy.linalg.lapack_lite.dgeev}",
      "     1    0.002    0.002    0.075    0.075 __init__.py:106(<module>)",
      "   100    0.059    0.001    0.059    0.001 {method 'randn')",
      "     1    0.000    0.000    0.044    0.044 add_newdocs.py:9(<module>)",
      "     2    0.001    0.001    0.037    0.019 __init__.py:1(<module>)",
      "     2    0.003    0.002    0.030    0.015 __init__.py:2(<module>)",
      "     1    0.000    0.000    0.030    0.030 type_check.py:3(<module>)",
      "     1    0.001    0.001    0.021    0.021 __init__.py:15(<module>)",
      "     1    0.013    0.013    0.013    0.013 numeric.py:1(<module>)",
      "     1    0.000    0.000    0.009    0.009 __init__.py:6(<module>)",
      "     1    0.001    0.001    0.008    0.008 __init__.py:45(<module>)",
      "   262    0.005    0.000    0.007    0.000 function_base.py:3178(add_newdoc)",
      "   100    0.003    0.000    0.005    0.000 linalg.py:162(_assertFinite)",
      "   ..."
     ]
    },
    {
     "cell_type": "raw",
     "metadata": {},
     "source": [
      "In [4]: %prun -l 7 -s cumulative run_experiment()",
      "         4203 function calls in 0.643 seconds",
      "",
      "Ordered by: cumulative time",
      "List reduced from 32 to 7 due to restriction <7>",
      "",
      "ncalls  tottime  percall  cumtime  percall filename:lineno(function)",
      "     1    0.000    0.000    0.643    0.643 <string>:1(<module>)",
      "     1    0.001    0.001    0.643    0.643 cprof_example.py:4(run_experiment)",
      "   100    0.003    0.000    0.583    0.006 linalg.py:702(eigvals)",
      "   200    0.569    0.003    0.569    0.003 {numpy.linalg.lapack_lite.dgeev}",
      "   100    0.058    0.001    0.058    0.001 {method 'randn'}",
      "   100    0.003    0.000    0.005    0.000 linalg.py:162(_assertFinite)",
      "   200    0.002    0.000    0.002    0.000 {method 'all' of 'numpy.ndarray'}"
     ]
    },
    {
     "cell_type": "heading",
     "level": 3,
     "metadata": {},
     "source": [
      "Profiling a Function Line by Line"
     ]
    },
    {
     "cell_type": "raw",
     "metadata": {},
     "source": [
      "# A list of dotted module names of IPython extensions to load.",
      "c.TerminalIPythonApp.extensions = ['line_profiler']"
     ]
    },
    {
     "cell_type": "raw",
     "metadata": {},
     "source": [
      "%load_ext line_profiler"
     ]
    },
    {
     "cell_type": "raw",
     "metadata": {},
     "source": [
      "from numpy.random import randn",
      "",
      "def add_and_sum(x, y):",
      "    added = x + y",
      "    summed = added.sum(axis=1)",
      "    return summed",
      "",
      "def call_function():",
      "    x = randn(1000, 1000)",
      "    y = randn(1000, 1000)",
      "    return add_and_sum(x, y)"
     ]
    },
    {
     "cell_type": "raw",
     "metadata": {},
     "source": [
      "In [569]: %run prof_mod",
      "",
      "In [570]: x = randn(3000, 3000)",
      "",
      "In [571]: y = randn(3000, 3000)",
      "",
      "In [572]: %prun add_and_sum(x, y)",
      "         4 function calls in 0.049 seconds",
      "   Ordered by: internal time",
      "   ncalls  tottime  percall  cumtime  percall filename:lineno(function)",
      "        1    0.036    0.036    0.046    0.046 prof_mod.py:3(add_and_sum)",
      "        1    0.009    0.009    0.009    0.009 {method 'sum' of 'numpy.ndarray'}",
      "        1    0.003    0.003    0.049    0.049 <string>:1(<module>)"
     ]
    },
    {
     "cell_type": "raw",
     "metadata": {},
     "source": [
      "%lprun -f func1 -f func2 "
     ]
    },
    {
     "cell_type": "raw",
     "metadata": {},
     "source": [
      "In [573]: %lprun -f add_and_sum add_and_sum(x, y)",
      "Timer unit: 1e-06 s",
      "File: prof_mod.py",
      "Function: add_and_sum at line 3",
      "Total time: 0.045936 s",
      "Line #      Hits         Time  Per Hit   % Time  Line Contents",
      "==============================================================",
      "     3                                           def add_and_sum(x, y):",
      "     4         1        36510  36510.0     79.5      added = x + y",
      "     5         1         9425   9425.0     20.5      summed = added.sum(axis=1)",
      "     6         1            1      1.0      0.0      return summed"
     ]
    },
    {
     "cell_type": "raw",
     "metadata": {},
     "source": [
      "In [574]: %lprun -f add_and_sum -f call_function call_function()",
      "Timer unit: 1e-06 s",
      "File: prof_mod.py",
      "Function: add_and_sum at line 3",
      "Total time: 0.005526 s",
      "Line #      Hits         Time  Per Hit   % Time  Line Contents",
      "==============================================================",
      "     3                                           def add_and_sum(x, y):",
      "     4         1         4375   4375.0     79.2      added = x + y",
      "     5         1         1149   1149.0     20.8      summed = added.sum(axis=1)",
      "     6         1            2      2.0      0.0      return summed",
      "File: prof_mod.py",
      "Function: call_function at line 8",
      "Total time: 0.121016 s",
      "Line #      Hits         Time  Per Hit   % Time  Line Contents",
      "==============================================================",
      "     8                                           def call_function():",
      "     9         1        57169  57169.0     47.2      x = randn(1000, 1000)",
      "    10         1        58304  58304.0     48.2      y = randn(1000, 1000)",
      "    11         1         5543   5543.0      4.6      return add_and_sum(x, y)"
     ]
    },
    {
     "cell_type": "heading",
     "level": 2,
     "metadata": {},
     "source": [
      "Tips for Productive Code Development Using IPython"
     ]
    },
    {
     "cell_type": "heading",
     "level": 3,
     "metadata": {},
     "source": [
      "Reloading Module Dependencies"
     ]
    },
    {
     "cell_type": "raw",
     "metadata": {},
     "source": [
      "import some_lib",
      "",
      "x = 5",
      "y = [1, 2, 3, 4]",
      "result = some_lib.get_answer(x, y)"
     ]
    },
    {
     "cell_type": "raw",
     "metadata": {},
     "source": [
      "import some_lib",
      "import importlib",
      "",
      "importlib.reload(some_lib)"
     ]
    },
    {
     "cell_type": "heading",
     "level": 3,
     "metadata": {},
     "source": [
      "Code Design Tips"
     ]
    },
    {
     "cell_type": "heading",
     "level": 4,
     "metadata": {},
     "source": [
      "Keep relevant objects and data alive"
     ]
    },
    {
     "cell_type": "raw",
     "metadata": {},
     "source": [
      "from my_functions import g",
      "",
      "def f(x, y):",
      "    return g(x + y)",
      "",
      "def main():",
      "    x = 6",
      "    y = 7.5",
      "    result = x + y",
      "",
      "if __name__ == '__main__':",
      "    main()"
     ]
    },
    {
     "cell_type": "heading",
     "level": 4,
     "metadata": {},
     "source": [
      "Flat is better than nested"
     ]
    },
    {
     "cell_type": "heading",
     "level": 4,
     "metadata": {},
     "source": [
      "Overcome a fear of longer files"
     ]
    },
    {
     "cell_type": "heading",
     "level": 2,
     "metadata": {},
     "source": [
      "Advanced IPython Features"
     ]
    },
    {
     "cell_type": "heading",
     "level": 3,
     "metadata": {},
     "source": [
      "Making Your Own Classes IPython-Friendly"
     ]
    },
    {
     "cell_type": "raw",
     "metadata": {},
     "source": [
      "class Message:",
      "    def __init__(self, msg):",
      "        self.msg = msg"
     ]
    },
    {
     "cell_type": "raw",
     "metadata": {},
     "source": [
      "In [576]: x = Message('I have a secret')",
      "",
      "In [577]: x",
      "Out[577]: <__main__.Message instance at 0x60ebbd8>"
     ]
    },
    {
     "cell_type": "raw",
     "metadata": {},
     "source": [
      "class Message:",
      "    def __init__(self, msg):",
      "        self.msg = msg",
      "",
      "    def __repr__(self):",
      "        return 'Message: %s' % self.msg"
     ]
    },
    {
     "cell_type": "raw",
     "metadata": {},
     "source": [
      "In [579]: x = Message('I have a secret')",
      "",
      "In [580]: x",
      "Out[580]: Message: I have a secret"
     ]
    },
    {
     "cell_type": "heading",
     "level": 3,
     "metadata": {},
     "source": [
      "Profiles and Configuration"
     ]
    },
    {
     "cell_type": "raw",
     "metadata": {},
     "source": [
      "/home/wesm/.ipython/profile_default/ipython_config.py"
     ]
    },
    {
     "cell_type": "raw",
     "metadata": {},
     "source": [
      "ipython profile create"
     ]
    },
    {
     "cell_type": "raw",
     "metadata": {},
     "source": [
      "ipython profile create secret_project"
     ]
    },
    {
     "cell_type": "raw",
     "metadata": {},
     "source": [
      "$ ipython --profile=secret_project",
      "Python 3.5.1 | packaged by conda-forge | (default, May 20 2016, 05:22:56)",
      "Type \"copyright\", \"credits\" or \"license\" for more information.",
      "",
      "IPython 5.1.0 -- An enhanced Interactive Python.",
      "?         -> Introduction and overview of IPython's features.",
      "%quickref -> Quick reference.",
      "help      -> Python's own help system.",
      "object?   -> Details about 'object', use 'object??' for extra details.",
      "",
      "IPython profile: secret_project"
     ]
    },
    {
     "cell_type": "raw",
     "metadata": {},
     "source": [
      "jupyter notebook --generate-config"
     ]
    },
    {
     "cell_type": "raw",
     "metadata": {},
     "source": [
      "$ mv ~/.jupyter/jupyter_notebook_config.py ~/.jupyter/my_custom_config.py"
     ]
    },
    {
     "cell_type": "raw",
     "metadata": {},
     "source": [
      "jupyter notebook --config=~/.jupyter/my_custom_config.py"
     ]
    },
    {
     "cell_type": "heading",
     "level": 2,
     "metadata": {},
     "source": [
      "Conclusion"
     ]
    }
   ],
   "metadata": {}
  }
 ]
}