{
 "metadata": {
  "name": "generated_ch09"
 },
 "nbformat": 3,
 "nbformat_minor": 0,
 "worksheets": [
  {
   "cells": [
    {
     "cell_type": "heading",
     "level": 1,
     "metadata": {},
     "source": [
      "Plotting and Visualization"
     ]
    },
    {
     "cell_type": "code",
     "collapsed": false,
     "input": [
      "%pushd book-materials",
      "import numpy as np",
      "import pandas as pd",
      "PREVIOUS_MAX_ROWS = pd.options.display.max_rows",
      "pd.options.display.max_rows = 20",
      "np.random.seed(12345)",
      "import matplotlib.pyplot as plt",
      "import matplotlib",
      "plt.rc('figure', figsize=(10, 6))",
      "np.set_printoptions(precision=4, suppress=True)"
     ],
     "language": "python",
     "metadata": {},
     "outputs": []
    },
    {
     "cell_type": "raw",
     "metadata": {},
     "source": [
      "%matplotlib notebook"
     ]
    },
    {
     "cell_type": "heading",
     "level": 2,
     "metadata": {},
     "source": [
      "A Brief matplotlib API Primer"
     ]
    },
    {
     "cell_type": "code",
     "collapsed": false,
     "input": [
      "import matplotlib.pyplot as plt"
     ],
     "language": "python",
     "metadata": {},
     "outputs": []
    },
    {
     "cell_type": "code",
     "collapsed": false,
     "input": [
      "import numpy as np",
      "data = np.arange(10)",
      "data",
      "plt.plot(data)"
     ],
     "language": "python",
     "metadata": {},
     "outputs": []
    },
    {
     "cell_type": "heading",
     "level": 3,
     "metadata": {},
     "source": [
      "Figures and Subplots"
     ]
    },
    {
     "cell_type": "code",
     "collapsed": false,
     "input": [
      "fig = plt.figure()"
     ],
     "language": "python",
     "metadata": {},
     "outputs": []
    },
    {
     "cell_type": "code",
     "collapsed": false,
     "input": [
      "ax1 = fig.add_subplot(2, 2, 1)"
     ],
     "language": "python",
     "metadata": {},
     "outputs": []
    },
    {
     "cell_type": "code",
     "collapsed": false,
     "input": [
      "ax2 = fig.add_subplot(2, 2, 2)",
      "ax3 = fig.add_subplot(2, 2, 3)"
     ],
     "language": "python",
     "metadata": {},
     "outputs": []
    },
    {
     "cell_type": "raw",
     "metadata": {},
     "source": [
      "fig = plt.figure()",
      "ax1 = fig.add_subplot(2, 2, 1)",
      "ax2 = fig.add_subplot(2, 2, 2)",
      "ax3 = fig.add_subplot(2, 2, 3)"
     ]
    },
    {
     "cell_type": "code",
     "collapsed": false,
     "input": [
      "plt.plot(np.random.randn(50).cumsum(), 'k--')"
     ],
     "language": "python",
     "metadata": {},
     "outputs": []
    },
    {
     "cell_type": "code",
     "collapsed": false,
     "input": [
      "_ = ax1.hist(np.random.randn(100), bins=20, color='k', alpha=0.3)",
      "ax2.scatter(np.arange(30), np.arange(30) + 3 * np.random.randn(30))"
     ],
     "language": "python",
     "metadata": {},
     "outputs": []
    },
    {
     "cell_type": "code",
     "collapsed": false,
     "input": [
      "plt.close('all')"
     ],
     "language": "python",
     "metadata": {},
     "outputs": []
    },
    {
     "cell_type": "code",
     "collapsed": false,
     "input": [
      "fig, axes = plt.subplots(2, 3)",
      "axes"
     ],
     "language": "python",
     "metadata": {},
     "outputs": []
    },
    {
     "cell_type": "heading",
     "level": 4,
     "metadata": {},
     "source": [
      "Adjusting the spacing around subplots"
     ]
    },
    {
     "cell_type": "raw",
     "metadata": {},
     "source": [
      "subplots_adjust(left=None, bottom=None, right=None, top=None,",
      "                wspace=None, hspace=None)"
     ]
    },
    {
     "cell_type": "raw",
     "metadata": {},
     "source": [
      "fig, axes = plt.subplots(2, 2, sharex=True, sharey=True)",
      "for i in range(2):",
      "    for j in range(2):",
      "        axes[i, j].hist(np.random.randn(500), bins=50, color='k', alpha=0.5)",
      "plt.subplots_adjust(wspace=0, hspace=0)"
     ]
    },
    {
     "cell_type": "code",
     "collapsed": false,
     "input": [
      "fig, axes = plt.subplots(2, 2, sharex=True, sharey=True)",
      "for i in range(2):",
      "    for j in range(2):",
      "        axes[i, j].hist(np.random.randn(500), bins=50, color='k', alpha=0.5)",
      "plt.subplots_adjust(wspace=0, hspace=0)"
     ],
     "language": "python",
     "metadata": {},
     "outputs": []
    },
    {
     "cell_type": "heading",
     "level": 3,
     "metadata": {},
     "source": [
      "Colors, Markers, and Line Styles"
     ]
    },
    {
     "cell_type": "raw",
     "metadata": {},
     "source": [
      "ax.plot(x, y, 'g--')"
     ]
    },
    {
     "cell_type": "raw",
     "metadata": {},
     "source": [
      "ax.plot(x, y, linestyle='--', color='g')"
     ]
    },
    {
     "cell_type": "code",
     "collapsed": false,
     "input": [
      "plt.figure()"
     ],
     "language": "python",
     "metadata": {},
     "outputs": []
    },
    {
     "cell_type": "code",
     "collapsed": false,
     "input": [
      "from numpy.random import randn",
      "plt.plot(randn(30).cumsum(), 'ko--')"
     ],
     "language": "python",
     "metadata": {},
     "outputs": []
    },
    {
     "cell_type": "raw",
     "metadata": {},
     "source": [
      "plot(randn(30).cumsum(), color='k', linestyle='dashed', marker='o')"
     ]
    },
    {
     "cell_type": "code",
     "collapsed": false,
     "input": [
      "plt.close('all')"
     ],
     "language": "python",
     "metadata": {},
     "outputs": []
    },
    {
     "cell_type": "code",
     "collapsed": false,
     "input": [
      "data = np.random.randn(30).cumsum()",
      "plt.plot(data, 'k--', label='Default')",
      "plt.plot(data, 'k-', drawstyle='steps-post', label='steps-post')",
      "plt.legend(loc='best')"
     ],
     "language": "python",
     "metadata": {},
     "outputs": []
    },
    {
     "cell_type": "heading",
     "level": 3,
     "metadata": {},
     "source": [
      "Ticks, Labels, and Legends"
     ]
    },
    {
     "cell_type": "heading",
     "level": 4,
     "metadata": {},
     "source": [
      "Setting the title, axis labels, ticks, and ticklabels"
     ]
    },
    {
     "cell_type": "code",
     "collapsed": false,
     "input": [
      "fig = plt.figure()",
      "ax = fig.add_subplot(1, 1, 1)",
      "ax.plot(np.random.randn(1000).cumsum())"
     ],
     "language": "python",
     "metadata": {},
     "outputs": []
    },
    {
     "cell_type": "code",
     "collapsed": false,
     "input": [
      "ticks = ax.set_xticks([0, 250, 500, 750, 1000])",
      "labels = ax.set_xticklabels(['one', 'two', 'three', 'four', 'five'],",
      "                            rotation=30, fontsize='small')"
     ],
     "language": "python",
     "metadata": {},
     "outputs": []
    },
    {
     "cell_type": "code",
     "collapsed": false,
     "input": [
      "ax.set_title('My first matplotlib plot')",
      "ax.set_xlabel('Stages')"
     ],
     "language": "python",
     "metadata": {},
     "outputs": []
    },
    {
     "cell_type": "raw",
     "metadata": {},
     "source": [
      "props = {",
      "    'title': 'My first matplotlib plot',",
      "    'xlabel': 'Stages'",
      "}",
      "ax.set(**props)"
     ]
    },
    {
     "cell_type": "heading",
     "level": 4,
     "metadata": {},
     "source": [
      "Adding legends"
     ]
    },
    {
     "cell_type": "code",
     "collapsed": false,
     "input": [
      "from numpy.random import randn",
      "fig = plt.figure(); ax = fig.add_subplot(1, 1, 1)",
      "ax.plot(randn(1000).cumsum(), 'k', label='one')",
      "ax.plot(randn(1000).cumsum(), 'k--', label='two')",
      "ax.plot(randn(1000).cumsum(), 'k.', label='three')"
     ],
     "language": "python",
     "metadata": {},
     "outputs": []
    },
    {
     "cell_type": "code",
     "collapsed": false,
     "input": [
      "ax.legend(loc='best')"
     ],
     "language": "python",
     "metadata": {},
     "outputs": []
    },
    {
     "cell_type": "heading",
     "level": 3,
     "metadata": {},
     "source": [
      "Annotations and Drawing on a Subplot"
     ]
    },
    {
     "cell_type": "raw",
     "metadata": {},
     "source": [
      "ax.text(x, y, 'Hello world!',",
      "        family='monospace', fontsize=10)"
     ]
    },
    {
     "cell_type": "code",
     "collapsed": false,
     "input": [
      "from datetime import datetime",
      "",
      "fig = plt.figure()",
      "ax = fig.add_subplot(1, 1, 1)",
      "",
      "data = pd.read_csv('examples/spx.csv', index_col=0, parse_dates=True)",
      "spx = data['SPX']",
      "",
      "spx.plot(ax=ax, style='k-')",
      "",
      "crisis_data = [",
      "    (datetime(2007, 10, 11), 'Peak of bull market'),",
      "    (datetime(2008, 3, 12), 'Bear Stearns Fails'),",
      "    (datetime(2008, 9, 15), 'Lehman Bankruptcy')",
      "]",
      "",
      "for date, label in crisis_data:",
      "    ax.annotate(label, xy=(date, spx.asof(date) + 75),",
      "                xytext=(date, spx.asof(date) + 225),",
      "                arrowprops=dict(facecolor='black', headwidth=4, width=2,",
      "                                headlength=4),",
      "                horizontalalignment='left', verticalalignment='top')",
      "",
      "# Zoom in on 2007-2010",
      "ax.set_xlim(['1/1/2007', '1/1/2011'])",
      "ax.set_ylim([600, 1800])",
      "",
      "ax.set_title('Important dates in the 2008-2009 financial crisis')"
     ],
     "language": "python",
     "metadata": {},
     "outputs": []
    },
    {
     "cell_type": "code",
     "collapsed": false,
     "input": [
      "ax.set_title('Important dates in the 2008\u20132009 financial crisis')"
     ],
     "language": "python",
     "metadata": {},
     "outputs": []
    },
    {
     "cell_type": "raw",
     "metadata": {},
     "source": [
      "fig = plt.figure()",
      "ax = fig.add_subplot(1, 1, 1)",
      "",
      "rect = plt.Rectangle((0.2, 0.75), 0.4, 0.15, color='k', alpha=0.3)",
      "circ = plt.Circle((0.7, 0.2), 0.15, color='b', alpha=0.3)",
      "pgon = plt.Polygon([[0.15, 0.15], [0.35, 0.4], [0.2, 0.6]],",
      "                   color='g', alpha=0.5)",
      "",
      "ax.add_patch(rect)",
      "ax.add_patch(circ)",
      "ax.add_patch(pgon)"
     ]
    },
    {
     "cell_type": "code",
     "collapsed": false,
     "input": [
      "fig = plt.figure(figsize=(12, 6)); ax = fig.add_subplot(1, 1, 1)",
      "rect = plt.Rectangle((0.2, 0.75), 0.4, 0.15, color='k', alpha=0.3)",
      "circ = plt.Circle((0.7, 0.2), 0.15, color='b', alpha=0.3)",
      "pgon = plt.Polygon([[0.15, 0.15], [0.35, 0.4], [0.2, 0.6]],",
      "                   color='g', alpha=0.5)",
      "ax.add_patch(rect)",
      "ax.add_patch(circ)",
      "ax.add_patch(pgon)"
     ],
     "language": "python",
     "metadata": {},
     "outputs": []
    },
    {
     "cell_type": "heading",
     "level": 3,
     "metadata": {},
     "source": [
      "Saving Plots to File"
     ]
    },
    {
     "cell_type": "raw",
     "metadata": {},
     "source": [
      "plt.savefig('figpath.svg')"
     ]
    },
    {
     "cell_type": "raw",
     "metadata": {},
     "source": [
      "plt.savefig('figpath.png', dpi=400, bbox_inches='tight')"
     ]
    },
    {
     "cell_type": "raw",
     "metadata": {},
     "source": [
      "from io import BytesIO",
      "buffer = BytesIO()",
      "plt.savefig(buffer)",
      "plot_data = buffer.getvalue()"
     ]
    },
    {
     "cell_type": "heading",
     "level": 3,
     "metadata": {},
     "source": [
      "matplotlib Configuration"
     ]
    },
    {
     "cell_type": "raw",
     "metadata": {},
     "source": [
      "plt.rc('figure', figsize=(10, 10))"
     ]
    },
    {
     "cell_type": "raw",
     "metadata": {},
     "source": [
      "font_options = {'family' : 'monospace',",
      "                'weight' : 'bold',",
      "                'size'   : 'small'}",
      "plt.rc('font', **font_options)"
     ]
    },
    {
     "cell_type": "heading",
     "level": 2,
     "metadata": {},
     "source": [
      "Plotting with pandas and seaborn"
     ]
    },
    {
     "cell_type": "heading",
     "level": 3,
     "metadata": {},
     "source": [
      "Line Plots"
     ]
    },
    {
     "cell_type": "code",
     "collapsed": false,
     "input": [
      "plt.close('all')"
     ],
     "language": "python",
     "metadata": {},
     "outputs": []
    },
    {
     "cell_type": "code",
     "collapsed": false,
     "input": [
      "s = pd.Series(np.random.randn(10).cumsum(), index=np.arange(0, 100, 10))",
      "s.plot()"
     ],
     "language": "python",
     "metadata": {},
     "outputs": []
    },
    {
     "cell_type": "code",
     "collapsed": false,
     "input": [
      "df = pd.DataFrame(np.random.randn(10, 4).cumsum(0),",
      "                  columns=['A', 'B', 'C', 'D'],",
      "                  index=np.arange(0, 100, 10))",
      "df.plot()"
     ],
     "language": "python",
     "metadata": {},
     "outputs": []
    },
    {
     "cell_type": "heading",
     "level": 3,
     "metadata": {},
     "source": [
      "Bar Plots"
     ]
    },
    {
     "cell_type": "code",
     "collapsed": false,
     "input": [
      "fig, axes = plt.subplots(2, 1)",
      "data = pd.Series(np.random.rand(16), index=list('abcdefghijklmnop'))",
      "data.plot.bar(ax=axes[0], color='k', alpha=0.7)",
      "data.plot.barh(ax=axes[1], color='k', alpha=0.7)"
     ],
     "language": "python",
     "metadata": {},
     "outputs": []
    },
    {
     "cell_type": "code",
     "collapsed": false,
     "input": [
      "np.random.seed(12348)"
     ],
     "language": "python",
     "metadata": {},
     "outputs": []
    },
    {
     "cell_type": "code",
     "collapsed": false,
     "input": [
      "df = pd.DataFrame(np.random.rand(6, 4),",
      "                  index=['one', 'two', 'three', 'four', 'five', 'six'],",
      "                  columns=pd.Index(['A', 'B', 'C', 'D'], name='Genus'))",
      "df",
      "df.plot.bar()"
     ],
     "language": "python",
     "metadata": {},
     "outputs": []
    },
    {
     "cell_type": "code",
     "collapsed": false,
     "input": [
      "plt.figure()"
     ],
     "language": "python",
     "metadata": {},
     "outputs": []
    },
    {
     "cell_type": "code",
     "collapsed": false,
     "input": [
      "df.plot.barh(stacked=True, alpha=0.5)"
     ],
     "language": "python",
     "metadata": {},
     "outputs": []
    },
    {
     "cell_type": "code",
     "collapsed": false,
     "input": [
      "plt.close('all')"
     ],
     "language": "python",
     "metadata": {},
     "outputs": []
    },
    {
     "cell_type": "code",
     "collapsed": false,
     "input": [
      "tips = pd.read_csv('examples/tips.csv')",
      "party_counts = pd.crosstab(tips['day'], tips['size'])",
      "party_counts",
      "# Not many 1- and 6-person parties",
      "party_counts = party_counts.loc[:, 2:5]"
     ],
     "language": "python",
     "metadata": {},
     "outputs": []
    },
    {
     "cell_type": "code",
     "collapsed": false,
     "input": [
      "# Normalize to sum to 1",
      "party_pcts = party_counts.div(party_counts.sum(1), axis=0)",
      "party_pcts",
      "party_pcts.plot.bar()"
     ],
     "language": "python",
     "metadata": {},
     "outputs": []
    },
    {
     "cell_type": "code",
     "collapsed": false,
     "input": [
      "plt.close('all')"
     ],
     "language": "python",
     "metadata": {},
     "outputs": []
    },
    {
     "cell_type": "code",
     "collapsed": false,
     "input": [
      "import seaborn as sns",
      "tips['tip_pct'] = tips['tip'] / (tips['total_bill'] - tips['tip'])",
      "tips.head()",
      "sns.barplot(x='tip_pct', y='day', data=tips, orient='h')"
     ],
     "language": "python",
     "metadata": {},
     "outputs": []
    },
    {
     "cell_type": "code",
     "collapsed": false,
     "input": [
      "plt.close('all')"
     ],
     "language": "python",
     "metadata": {},
     "outputs": []
    },
    {
     "cell_type": "code",
     "collapsed": false,
     "input": [
      "sns.barplot(x='tip_pct', y='day', hue='time', data=tips, orient='h')"
     ],
     "language": "python",
     "metadata": {},
     "outputs": []
    },
    {
     "cell_type": "code",
     "collapsed": false,
     "input": [
      "plt.close('all')"
     ],
     "language": "python",
     "metadata": {},
     "outputs": []
    },
    {
     "cell_type": "code",
     "collapsed": false,
     "input": [
      "sns.set(style=\"whitegrid\")"
     ],
     "language": "python",
     "metadata": {},
     "outputs": []
    },
    {
     "cell_type": "heading",
     "level": 3,
     "metadata": {},
     "source": [
      "Histograms and Density Plots"
     ]
    },
    {
     "cell_type": "code",
     "collapsed": false,
     "input": [
      "plt.figure()"
     ],
     "language": "python",
     "metadata": {},
     "outputs": []
    },
    {
     "cell_type": "code",
     "collapsed": false,
     "input": [
      "tips['tip_pct'].plot.hist(bins=50)"
     ],
     "language": "python",
     "metadata": {},
     "outputs": []
    },
    {
     "cell_type": "code",
     "collapsed": false,
     "input": [
      "plt.figure()"
     ],
     "language": "python",
     "metadata": {},
     "outputs": []
    },
    {
     "cell_type": "code",
     "collapsed": false,
     "input": [
      "tips['tip_pct'].plot.density()"
     ],
     "language": "python",
     "metadata": {},
     "outputs": []
    },
    {
     "cell_type": "code",
     "collapsed": false,
     "input": [
      "plt.figure()"
     ],
     "language": "python",
     "metadata": {},
     "outputs": []
    },
    {
     "cell_type": "code",
     "collapsed": false,
     "input": [
      "comp1 = np.random.normal(0, 1, size=200)",
      "comp2 = np.random.normal(10, 2, size=200)",
      "values = pd.Series(np.concatenate([comp1, comp2]))",
      "sns.distplot(values, bins=100, color='k')"
     ],
     "language": "python",
     "metadata": {},
     "outputs": []
    },
    {
     "cell_type": "heading",
     "level": 3,
     "metadata": {},
     "source": [
      "Scatter or Point Plots"
     ]
    },
    {
     "cell_type": "code",
     "collapsed": false,
     "input": [
      "macro = pd.read_csv('examples/macrodata.csv')",
      "data = macro[['cpi', 'm1', 'tbilrate', 'unemp']]",
      "trans_data = np.log(data).diff().dropna()",
      "trans_data[-5:]"
     ],
     "language": "python",
     "metadata": {},
     "outputs": []
    },
    {
     "cell_type": "code",
     "collapsed": false,
     "input": [
      "plt.figure()"
     ],
     "language": "python",
     "metadata": {},
     "outputs": []
    },
    {
     "cell_type": "code",
     "collapsed": false,
     "input": [
      "sns.regplot('m1', 'unemp', data=trans_data)",
      "plt.title('Changes in log %s versus log %s' % ('m1', 'unemp'))"
     ],
     "language": "python",
     "metadata": {},
     "outputs": []
    },
    {
     "cell_type": "code",
     "collapsed": false,
     "input": [
      "sns.pairplot(trans_data, diag_kind='kde', plot_kws={'alpha': 0.2})"
     ],
     "language": "python",
     "metadata": {},
     "outputs": []
    },
    {
     "cell_type": "heading",
     "level": 3,
     "metadata": {},
     "source": [
      "Facet Grids and Categorical Data"
     ]
    },
    {
     "cell_type": "code",
     "collapsed": false,
     "input": [
      "sns.factorplot(x='day', y='tip_pct', hue='time', col='smoker',",
      "               kind='bar', data=tips[tips.tip_pct < 1])"
     ],
     "language": "python",
     "metadata": {},
     "outputs": []
    },
    {
     "cell_type": "code",
     "collapsed": false,
     "input": [
      "sns.factorplot(x='day', y='tip_pct', row='time',",
      "               col='smoker',",
      "               kind='bar', data=tips[tips.tip_pct < 1])"
     ],
     "language": "python",
     "metadata": {},
     "outputs": []
    },
    {
     "cell_type": "code",
     "collapsed": false,
     "input": [
      "sns.factorplot(x='tip_pct', y='day', kind='box',",
      "               data=tips[tips.tip_pct < 0.5])"
     ],
     "language": "python",
     "metadata": {},
     "outputs": []
    },
    {
     "cell_type": "heading",
     "level": 2,
     "metadata": {},
     "source": [
      "Other Python Visualization Tools"
     ]
    },
    {
     "cell_type": "code",
     "collapsed": false,
     "input": [
      "%popd"
     ],
     "language": "python",
     "metadata": {},
     "outputs": []
    },
    {
     "cell_type": "code",
     "collapsed": false,
     "input": [
      "pd.options.display.max_rows = PREVIOUS_MAX_ROWS"
     ],
     "language": "python",
     "metadata": {},
     "outputs": []
    },
    {
     "cell_type": "heading",
     "level": 2,
     "metadata": {},
     "source": [
      "Conclusion"
     ]
    }
   ],
   "metadata": {}
  }
 ]
}