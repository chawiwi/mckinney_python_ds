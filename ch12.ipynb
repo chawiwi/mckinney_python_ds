{
 "metadata": {
  "name": "generated_ch12"
 },
 "nbformat": 3,
 "nbformat_minor": 0,
 "worksheets": [
  {
   "cells": [
    {
     "cell_type": "heading",
     "level": 1,
     "metadata": {},
     "source": [
      "Advanced pandas"
     ]
    },
    {
     "cell_type": "code",
     "collapsed": false,
     "input": [
      "%pushd book-materials",
      "import numpy as np",
      "import pandas as pd",
      "np.random.seed(12345)",
      "import matplotlib.pyplot as plt",
      "plt.rc('figure', figsize=(10, 6))",
      "PREVIOUS_MAX_ROWS = pd.options.display.max_rows",
      "pd.options.display.max_rows = 20",
      "np.set_printoptions(precision=4, suppress=True)"
     ],
     "language": "python",
     "metadata": {},
     "outputs": []
    },
    {
     "cell_type": "heading",
     "level": 2,
     "metadata": {},
     "source": [
      "Categorical Data"
     ]
    },
    {
     "cell_type": "heading",
     "level": 3,
     "metadata": {},
     "source": [
      "Background and Motivation"
     ]
    },
    {
     "cell_type": "code",
     "collapsed": false,
     "input": [
      "import numpy as np; import pandas as pd",
      "values = pd.Series(['apple', 'orange', 'apple',",
      "                    'apple'] * 2)",
      "values",
      "pd.unique(values)",
      "pd.value_counts(values)"
     ],
     "language": "python",
     "metadata": {},
     "outputs": []
    },
    {
     "cell_type": "code",
     "collapsed": false,
     "input": [
      "values = pd.Series([0, 1, 0, 0] * 2)",
      "dim = pd.Series(['apple', 'orange'])",
      "values",
      "dim"
     ],
     "language": "python",
     "metadata": {},
     "outputs": []
    },
    {
     "cell_type": "code",
     "collapsed": false,
     "input": [
      "dim.take(values)"
     ],
     "language": "python",
     "metadata": {},
     "outputs": []
    },
    {
     "cell_type": "heading",
     "level": 3,
     "metadata": {},
     "source": [
      "Categorical Type in pandas"
     ]
    },
    {
     "cell_type": "code",
     "collapsed": false,
     "input": [
      "fruits = ['apple', 'orange', 'apple', 'apple'] * 2",
      "N = len(fruits)",
      "df = pd.DataFrame({'fruit': fruits,",
      "                   'basket_id': np.arange(N),",
      "                   'count': np.random.randint(3, 15, size=N),",
      "                   'weight': np.random.uniform(0, 4, size=N)},",
      "                  columns=['basket_id', 'fruit', 'count', 'weight'])",
      "df"
     ],
     "language": "python",
     "metadata": {},
     "outputs": []
    },
    {
     "cell_type": "code",
     "collapsed": false,
     "input": [
      "fruit_cat = df['fruit'].astype('category')",
      "fruit_cat"
     ],
     "language": "python",
     "metadata": {},
     "outputs": []
    },
    {
     "cell_type": "code",
     "collapsed": false,
     "input": [
      "c = fruit_cat.values",
      "type(c)"
     ],
     "language": "python",
     "metadata": {},
     "outputs": []
    },
    {
     "cell_type": "code",
     "collapsed": false,
     "input": [
      "c.categories",
      "c.codes"
     ],
     "language": "python",
     "metadata": {},
     "outputs": []
    },
    {
     "cell_type": "code",
     "collapsed": false,
     "input": [
      "df['fruit'] = df['fruit'].astype('category')",
      "df.fruit"
     ],
     "language": "python",
     "metadata": {},
     "outputs": []
    },
    {
     "cell_type": "code",
     "collapsed": false,
     "input": [
      "my_categories = pd.Categorical(['foo', 'bar', 'baz', 'foo', 'bar'])",
      "my_categories"
     ],
     "language": "python",
     "metadata": {},
     "outputs": []
    },
    {
     "cell_type": "code",
     "collapsed": false,
     "input": [
      "categories = ['foo', 'bar', 'baz']",
      "codes = [0, 1, 2, 0, 0, 1]",
      "my_cats_2 = pd.Categorical.from_codes(codes, categories)",
      "my_cats_2"
     ],
     "language": "python",
     "metadata": {},
     "outputs": []
    },
    {
     "cell_type": "code",
     "collapsed": false,
     "input": [
      "ordered_cat = pd.Categorical.from_codes(codes, categories,",
      "                                        ordered=True)",
      "ordered_cat"
     ],
     "language": "python",
     "metadata": {},
     "outputs": []
    },
    {
     "cell_type": "code",
     "collapsed": false,
     "input": [
      "my_cats_2.as_ordered()"
     ],
     "language": "python",
     "metadata": {},
     "outputs": []
    },
    {
     "cell_type": "heading",
     "level": 3,
     "metadata": {},
     "source": [
      "Computations with Categoricals"
     ]
    },
    {
     "cell_type": "code",
     "collapsed": false,
     "input": [
      "np.random.seed(12345)",
      "draws = np.random.randn(1000)",
      "draws[:5]"
     ],
     "language": "python",
     "metadata": {},
     "outputs": []
    },
    {
     "cell_type": "code",
     "collapsed": false,
     "input": [
      "bins = pd.qcut(draws, 4)",
      "bins"
     ],
     "language": "python",
     "metadata": {},
     "outputs": []
    },
    {
     "cell_type": "code",
     "collapsed": false,
     "input": [
      "bins = pd.qcut(draws, 4, labels=['Q1', 'Q2', 'Q3', 'Q4'])",
      "bins",
      "bins.codes[:10]"
     ],
     "language": "python",
     "metadata": {},
     "outputs": []
    },
    {
     "cell_type": "code",
     "collapsed": false,
     "input": [
      "bins = pd.Series(bins, name='quartile')",
      "results = (pd.Series(draws)",
      "           .groupby(bins)",
      "           .agg(['count', 'min', 'max'])",
      "           .reset_index())",
      "results"
     ],
     "language": "python",
     "metadata": {},
     "outputs": []
    },
    {
     "cell_type": "code",
     "collapsed": false,
     "input": [
      "results['quartile']"
     ],
     "language": "python",
     "metadata": {},
     "outputs": []
    },
    {
     "cell_type": "heading",
     "level": 4,
     "metadata": {},
     "source": [
      "Better performance with categoricals"
     ]
    },
    {
     "cell_type": "code",
     "collapsed": false,
     "input": [
      "N = 10000000",
      "draws = pd.Series(np.random.randn(N))",
      "labels = pd.Series(['foo', 'bar', 'baz', 'qux'] * (N // 4))"
     ],
     "language": "python",
     "metadata": {},
     "outputs": []
    },
    {
     "cell_type": "code",
     "collapsed": false,
     "input": [
      "categories = labels.astype('category')"
     ],
     "language": "python",
     "metadata": {},
     "outputs": []
    },
    {
     "cell_type": "code",
     "collapsed": false,
     "input": [
      "labels.memory_usage()",
      "categories.memory_usage()"
     ],
     "language": "python",
     "metadata": {},
     "outputs": []
    },
    {
     "cell_type": "code",
     "collapsed": false,
     "input": [
      "%time _ = labels.astype('category')"
     ],
     "language": "python",
     "metadata": {},
     "outputs": []
    },
    {
     "cell_type": "heading",
     "level": 3,
     "metadata": {},
     "source": [
      "Categorical Methods"
     ]
    },
    {
     "cell_type": "code",
     "collapsed": false,
     "input": [
      "s = pd.Series(['a', 'b', 'c', 'd'] * 2)",
      "cat_s = s.astype('category')",
      "cat_s"
     ],
     "language": "python",
     "metadata": {},
     "outputs": []
    },
    {
     "cell_type": "code",
     "collapsed": false,
     "input": [
      "cat_s.cat.codes",
      "cat_s.cat.categories"
     ],
     "language": "python",
     "metadata": {},
     "outputs": []
    },
    {
     "cell_type": "code",
     "collapsed": false,
     "input": [
      "actual_categories = ['a', 'b', 'c', 'd', 'e']",
      "cat_s2 = cat_s.cat.set_categories(actual_categories)",
      "cat_s2"
     ],
     "language": "python",
     "metadata": {},
     "outputs": []
    },
    {
     "cell_type": "code",
     "collapsed": false,
     "input": [
      "cat_s.value_counts()",
      "cat_s2.value_counts()"
     ],
     "language": "python",
     "metadata": {},
     "outputs": []
    },
    {
     "cell_type": "code",
     "collapsed": false,
     "input": [
      "cat_s3 = cat_s[cat_s.isin(['a', 'b'])]",
      "cat_s3",
      "cat_s3.cat.remove_unused_categories()"
     ],
     "language": "python",
     "metadata": {},
     "outputs": []
    },
    {
     "cell_type": "heading",
     "level": 4,
     "metadata": {},
     "source": [
      "Creating dummy variables for modeling"
     ]
    },
    {
     "cell_type": "code",
     "collapsed": false,
     "input": [
      "cat_s = pd.Series(['a', 'b', 'c', 'd'] * 2, dtype='category')"
     ],
     "language": "python",
     "metadata": {},
     "outputs": []
    },
    {
     "cell_type": "code",
     "collapsed": false,
     "input": [
      "pd.get_dummies(cat_s)"
     ],
     "language": "python",
     "metadata": {},
     "outputs": []
    },
    {
     "cell_type": "heading",
     "level": 2,
     "metadata": {},
     "source": [
      "Advanced GroupBy Use"
     ]
    },
    {
     "cell_type": "heading",
     "level": 3,
     "metadata": {},
     "source": [
      "Group Transforms and \"Unwrapped\" GroupBys"
     ]
    },
    {
     "cell_type": "code",
     "collapsed": false,
     "input": [
      "df = pd.DataFrame({'key': ['a', 'b', 'c'] * 4,",
      "                   'value': np.arange(12.)})",
      "df"
     ],
     "language": "python",
     "metadata": {},
     "outputs": []
    },
    {
     "cell_type": "code",
     "collapsed": false,
     "input": [
      "g = df.groupby('key').value",
      "g.mean()"
     ],
     "language": "python",
     "metadata": {},
     "outputs": []
    },
    {
     "cell_type": "code",
     "collapsed": false,
     "input": [
      "g.transform(lambda x: x.mean())"
     ],
     "language": "python",
     "metadata": {},
     "outputs": []
    },
    {
     "cell_type": "code",
     "collapsed": false,
     "input": [
      "g.transform('mean')"
     ],
     "language": "python",
     "metadata": {},
     "outputs": []
    },
    {
     "cell_type": "code",
     "collapsed": false,
     "input": [
      "g.transform(lambda x: x * 2)"
     ],
     "language": "python",
     "metadata": {},
     "outputs": []
    },
    {
     "cell_type": "code",
     "collapsed": false,
     "input": [
      "g.transform(lambda x: x.rank(ascending=False))"
     ],
     "language": "python",
     "metadata": {},
     "outputs": []
    },
    {
     "cell_type": "code",
     "collapsed": false,
     "input": [
      "def normalize(x):",
      "    return (x - x.mean()) / x.std()"
     ],
     "language": "python",
     "metadata": {},
     "outputs": []
    },
    {
     "cell_type": "code",
     "collapsed": false,
     "input": [
      "g.transform(normalize)",
      "g.apply(normalize)"
     ],
     "language": "python",
     "metadata": {},
     "outputs": []
    },
    {
     "cell_type": "code",
     "collapsed": false,
     "input": [
      "g.transform('mean')",
      "normalized = (df['value'] - g.transform('mean')) / g.transform('std')",
      "normalized"
     ],
     "language": "python",
     "metadata": {},
     "outputs": []
    },
    {
     "cell_type": "heading",
     "level": 3,
     "metadata": {},
     "source": [
      "Grouped Time Resampling"
     ]
    },
    {
     "cell_type": "code",
     "collapsed": false,
     "input": [
      "N = 15",
      "times = pd.date_range('2017-05-20 00:00', freq='1min', periods=N)",
      "df = pd.DataFrame({'time': times,",
      "                   'value': np.arange(N)})",
      "df"
     ],
     "language": "python",
     "metadata": {},
     "outputs": []
    },
    {
     "cell_type": "code",
     "collapsed": false,
     "input": [
      "df.set_index('time').resample('5min').count()"
     ],
     "language": "python",
     "metadata": {},
     "outputs": []
    },
    {
     "cell_type": "code",
     "collapsed": false,
     "input": [
      "df2 = pd.DataFrame({'time': times.repeat(3),",
      "                    'key': np.tile(['a', 'b', 'c'], N),",
      "                    'value': np.arange(N * 3.)})",
      "df2[:7]"
     ],
     "language": "python",
     "metadata": {},
     "outputs": []
    },
    {
     "cell_type": "code",
     "collapsed": false,
     "input": [
      "time_key = pd.TimeGrouper('5min')"
     ],
     "language": "python",
     "metadata": {},
     "outputs": []
    },
    {
     "cell_type": "code",
     "collapsed": false,
     "input": [
      "resampled = (df2.set_index('time')",
      "             .groupby(['key', time_key])",
      "             .sum())",
      "resampled",
      "resampled.reset_index()"
     ],
     "language": "python",
     "metadata": {},
     "outputs": []
    },
    {
     "cell_type": "heading",
     "level": 2,
     "metadata": {},
     "source": [
      "Techniques for Method Chaining"
     ]
    },
    {
     "cell_type": "raw",
     "metadata": {},
     "source": [
      "df = load_data()",
      "df2 = df[df['col2'] < 0]",
      "df2['col1_demeaned'] = df2['col1'] - df2['col1'].mean()",
      "result = df2.groupby('key').col1_demeaned.std()"
     ]
    },
    {
     "cell_type": "raw",
     "metadata": {},
     "source": [
      "# Usual non-functional way",
      "df2 = df.copy()",
      "df2['k'] = v",
      "",
      "# Functional assign way",
      "df2 = df.assign(k=v)"
     ]
    },
    {
     "cell_type": "raw",
     "metadata": {},
     "source": [
      "result = (df2.assign(col1_demeaned=df2.col1 - df2.col2.mean())",
      "          .groupby('key')",
      "          .col1_demeaned.std())"
     ]
    },
    {
     "cell_type": "raw",
     "metadata": {},
     "source": [
      "df = load_data()",
      "df2 = df[df['col2'] < 0]"
     ]
    },
    {
     "cell_type": "raw",
     "metadata": {},
     "source": [
      "df = (load_data()",
      "      [lambda x: x['col2'] < 0])"
     ]
    },
    {
     "cell_type": "raw",
     "metadata": {},
     "source": [
      "result = (load_data()",
      "          [lambda x: x.col2 < 0]",
      "          .assign(col1_demeaned=lambda x: x.col1 - x.col1.mean())",
      "          .groupby('key')",
      "          .col1_demeaned.std())"
     ]
    },
    {
     "cell_type": "heading",
     "level": 3,
     "metadata": {},
     "source": [
      "The pipe Method"
     ]
    },
    {
     "cell_type": "raw",
     "metadata": {},
     "source": [
      "a = f(df, arg1=v1)",
      "b = g(a, v2, arg3=v3)",
      "c = h(b, arg4=v4)"
     ]
    },
    {
     "cell_type": "raw",
     "metadata": {},
     "source": [
      "result = (df.pipe(f, arg1=v1)",
      "          .pipe(g, v2, arg3=v3)",
      "          .pipe(h, arg4=v4))"
     ]
    },
    {
     "cell_type": "raw",
     "metadata": {},
     "source": [
      "g = df.groupby(['key1', 'key2'])",
      "df['col1'] = df['col1'] - g.transform('mean')"
     ]
    },
    {
     "cell_type": "raw",
     "metadata": {},
     "source": [
      "def group_demean(df, by, cols):",
      "    result = df.copy()",
      "    g = df.groupby(by)",
      "    for c in cols:",
      "        result[c] = df[c] - g[c].transform('mean')",
      "    return result"
     ]
    },
    {
     "cell_type": "raw",
     "metadata": {},
     "source": [
      "result = (df[df.col1 < 0]",
      "          .pipe(group_demean, ['key1', 'key2'], ['col1']))"
     ]
    },
    {
     "cell_type": "code",
     "collapsed": false,
     "input": [
      "%popd"
     ],
     "language": "python",
     "metadata": {},
     "outputs": []
    },
    {
     "cell_type": "code",
     "collapsed": false,
     "input": [
      "pd.options.display.max_rows = PREVIOUS_MAX_ROWS"
     ],
     "language": "python",
     "metadata": {},
     "outputs": []
    },
    {
     "cell_type": "heading",
     "level": 2,
     "metadata": {},
     "source": [
      "Conclusion"
     ]
    }
   ],
   "metadata": {}
  }
 ]
}