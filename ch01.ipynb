{
 "metadata": {
  "name": "generated_ch01"
 },
 "nbformat": 3,
 "nbformat_minor": 0,
 "worksheets": [
  {
   "cells": [
    {
     "cell_type": "heading",
     "level": 1,
     "metadata": {},
     "source": [
      "Preliminaries"
     ]
    },
    {
     "cell_type": "heading",
     "level": 2,
     "metadata": {},
     "source": [
      "What Is This Book About?"
     ]
    },
    {
     "cell_type": "heading",
     "level": 3,
     "metadata": {},
     "source": [
      "What Kinds of Data?"
     ]
    },
    {
     "cell_type": "heading",
     "level": 2,
     "metadata": {},
     "source": [
      "Why Python for Data Analysis?"
     ]
    },
    {
     "cell_type": "heading",
     "level": 3,
     "metadata": {},
     "source": [
      "Python as Glue"
     ]
    },
    {
     "cell_type": "heading",
     "level": 3,
     "metadata": {},
     "source": [
      "Solving the \u201cTwo-Language\u201d Problem"
     ]
    },
    {
     "cell_type": "heading",
     "level": 3,
     "metadata": {},
     "source": [
      "Why Not Python?"
     ]
    },
    {
     "cell_type": "heading",
     "level": 2,
     "metadata": {},
     "source": [
      "Essential Python Libraries"
     ]
    },
    {
     "cell_type": "heading",
     "level": 3,
     "metadata": {},
     "source": [
      "NumPy"
     ]
    },
    {
     "cell_type": "heading",
     "level": 3,
     "metadata": {},
     "source": [
      "pandas"
     ]
    },
    {
     "cell_type": "heading",
     "level": 3,
     "metadata": {},
     "source": [
      "matplotlib"
     ]
    },
    {
     "cell_type": "heading",
     "level": 3,
     "metadata": {},
     "source": [
      "IPython and Jupyter"
     ]
    },
    {
     "cell_type": "heading",
     "level": 3,
     "metadata": {},
     "source": [
      "SciPy"
     ]
    },
    {
     "cell_type": "heading",
     "level": 3,
     "metadata": {},
     "source": [
      "scikit-learn"
     ]
    },
    {
     "cell_type": "heading",
     "level": 3,
     "metadata": {},
     "source": [
      "statsmodels"
     ]
    },
    {
     "cell_type": "heading",
     "level": 2,
     "metadata": {},
     "source": [
      "Installation and Setup"
     ]
    },
    {
     "cell_type": "heading",
     "level": 3,
     "metadata": {},
     "source": [
      "Windows"
     ]
    },
    {
     "cell_type": "raw",
     "metadata": {},
     "source": [
      "C:\\Users\\wesm>python",
      "Python 3.5.2 |Anaconda 4.1.1 (64-bit)| (default, Jul  5 2016, 11:41:13)",
      "[MSC v.1900 64 bit (AMD64)] on win32",
      ">>>"
     ]
    },
    {
     "cell_type": "heading",
     "level": 3,
     "metadata": {},
     "source": [
      "Apple (OS X, macOS)"
     ]
    },
    {
     "cell_type": "raw",
     "metadata": {},
     "source": [
      "$ ipython"
     ]
    },
    {
     "cell_type": "heading",
     "level": 3,
     "metadata": {},
     "source": [
      "GNU/Linux"
     ]
    },
    {
     "cell_type": "raw",
     "metadata": {},
     "source": [
      "$ bash Anaconda3-4.1.0-Linux-x86_64.sh"
     ]
    },
    {
     "cell_type": "raw",
     "metadata": {},
     "source": [
      "export PATH=/home/$USER/anaconda/bin:$PATH"
     ]
    },
    {
     "cell_type": "heading",
     "level": 3,
     "metadata": {},
     "source": [
      "Installing or Updating Python Packages"
     ]
    },
    {
     "cell_type": "raw",
     "metadata": {},
     "source": [
      "conda install "
     ]
    },
    {
     "cell_type": "raw",
     "metadata": {},
     "source": [
      "pip install "
     ]
    },
    {
     "cell_type": "raw",
     "metadata": {},
     "source": [
      "conda update "
     ]
    },
    {
     "cell_type": "raw",
     "metadata": {},
     "source": [
      "pip install --upgrade "
     ]
    },
    {
     "cell_type": "heading",
     "level": 3,
     "metadata": {},
     "source": [
      "Python 2 and Python 3"
     ]
    },
    {
     "cell_type": "heading",
     "level": 3,
     "metadata": {},
     "source": [
      "Integrated Development Environments (IDEs) and Text\n      Editors"
     ]
    },
    {
     "cell_type": "heading",
     "level": 2,
     "metadata": {},
     "source": [
      "Community and Conferences"
     ]
    },
    {
     "cell_type": "heading",
     "level": 2,
     "metadata": {},
     "source": [
      "Navigating This Book"
     ]
    },
    {
     "cell_type": "heading",
     "level": 3,
     "metadata": {},
     "source": [
      "Code Examples"
     ]
    },
    {
     "cell_type": "raw",
     "metadata": {},
     "source": [
      "In [5]: CODE EXAMPLE",
      "Out[5]: OUTPUT"
     ]
    },
    {
     "cell_type": "heading",
     "level": 3,
     "metadata": {},
     "source": [
      "Data for Examples"
     ]
    },
    {
     "cell_type": "heading",
     "level": 3,
     "metadata": {},
     "source": [
      "Import Conventions"
     ]
    },
    {
     "cell_type": "raw",
     "metadata": {},
     "source": [
      "import numpy as np",
      "import matplotlib.pyplot as plt",
      "import pandas as pd",
      "import seaborn as sns",
      "import statsmodels as sm"
     ]
    },
    {
     "cell_type": "heading",
     "level": 3,
     "metadata": {},
     "source": [
      "Jargon"
     ]
    }
   ],
   "metadata": {}
  }
 ]
}