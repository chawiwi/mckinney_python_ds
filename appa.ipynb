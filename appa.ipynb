{
 "metadata": {
  "name": "generated_appa"
 },
 "nbformat": 3,
 "nbformat_minor": 0,
 "worksheets": [
  {
   "cells": [
    {
     "cell_type": "heading",
     "level": 1,
     "metadata": {},
     "source": [
      "Advanced NumPy"
     ]
    },
    {
     "cell_type": "code",
     "collapsed": false,
     "input": [
      "%pushd book-materials",
      "import numpy as np",
      "import pandas as pd",
      "np.random.seed(12345)",
      "import matplotlib.pyplot as plt",
      "plt.rc('figure', figsize=(10, 6))",
      "PREVIOUS_MAX_ROWS = pd.options.display.max_rows",
      "pd.options.display.max_rows = 20",
      "np.set_printoptions(precision=4, suppress=True)"
     ],
     "language": "python",
     "metadata": {},
     "outputs": []
    },
    {
     "cell_type": "heading",
     "level": 2,
     "metadata": {},
     "source": [
      "ndarray Object Internals"
     ]
    },
    {
     "cell_type": "code",
     "collapsed": false,
     "input": [
      "np.ones((10, 5)).shape"
     ],
     "language": "python",
     "metadata": {},
     "outputs": []
    },
    {
     "cell_type": "code",
     "collapsed": false,
     "input": [
      "np.ones((3, 4, 5), dtype=np.float64).strides"
     ],
     "language": "python",
     "metadata": {},
     "outputs": []
    },
    {
     "cell_type": "heading",
     "level": 3,
     "metadata": {},
     "source": [
      "NumPy dtype Hierarchy"
     ]
    },
    {
     "cell_type": "code",
     "collapsed": false,
     "input": [
      "ints = np.ones(10, dtype=np.uint16)",
      "floats = np.ones(10, dtype=np.float32)",
      "np.issubdtype(ints.dtype, np.integer)",
      "np.issubdtype(floats.dtype, np.floating)"
     ],
     "language": "python",
     "metadata": {},
     "outputs": []
    },
    {
     "cell_type": "code",
     "collapsed": false,
     "input": [
      "np.float64.mro()"
     ],
     "language": "python",
     "metadata": {},
     "outputs": []
    },
    {
     "cell_type": "code",
     "collapsed": false,
     "input": [
      "np.issubdtype(ints.dtype, np.number)"
     ],
     "language": "python",
     "metadata": {},
     "outputs": []
    },
    {
     "cell_type": "heading",
     "level": 2,
     "metadata": {},
     "source": [
      "Advanced Array Manipulation"
     ]
    },
    {
     "cell_type": "heading",
     "level": 3,
     "metadata": {},
     "source": [
      "Reshaping Arrays"
     ]
    },
    {
     "cell_type": "code",
     "collapsed": false,
     "input": [
      "arr = np.arange(8)",
      "arr",
      "arr.reshape((4, 2))"
     ],
     "language": "python",
     "metadata": {},
     "outputs": []
    },
    {
     "cell_type": "code",
     "collapsed": false,
     "input": [
      "arr.reshape((4, 2)).reshape((2, 4))"
     ],
     "language": "python",
     "metadata": {},
     "outputs": []
    },
    {
     "cell_type": "code",
     "collapsed": false,
     "input": [
      "arr = np.arange(15)",
      "arr.reshape((5, -1))"
     ],
     "language": "python",
     "metadata": {},
     "outputs": []
    },
    {
     "cell_type": "code",
     "collapsed": false,
     "input": [
      "other_arr = np.ones((3, 5))",
      "other_arr.shape",
      "arr.reshape(other_arr.shape)"
     ],
     "language": "python",
     "metadata": {},
     "outputs": []
    },
    {
     "cell_type": "code",
     "collapsed": false,
     "input": [
      "arr = np.arange(15).reshape((5, 3))",
      "arr",
      "arr.ravel()"
     ],
     "language": "python",
     "metadata": {},
     "outputs": []
    },
    {
     "cell_type": "code",
     "collapsed": false,
     "input": [
      "arr.flatten()"
     ],
     "language": "python",
     "metadata": {},
     "outputs": []
    },
    {
     "cell_type": "heading",
     "level": 3,
     "metadata": {},
     "source": [
      "C Versus Fortran Order"
     ]
    },
    {
     "cell_type": "code",
     "collapsed": false,
     "input": [
      "arr = np.arange(12).reshape((3, 4))",
      "arr",
      "arr.ravel()",
      "arr.ravel('F')"
     ],
     "language": "python",
     "metadata": {},
     "outputs": []
    },
    {
     "cell_type": "heading",
     "level": 3,
     "metadata": {},
     "source": [
      "Concatenating and Splitting Arrays"
     ]
    },
    {
     "cell_type": "code",
     "collapsed": false,
     "input": [
      "arr1 = np.array([[1, 2, 3], [4, 5, 6]])",
      "arr2 = np.array([[7, 8, 9], [10, 11, 12]])",
      "np.concatenate([arr1, arr2], axis=0)",
      "np.concatenate([arr1, arr2], axis=1)"
     ],
     "language": "python",
     "metadata": {},
     "outputs": []
    },
    {
     "cell_type": "code",
     "collapsed": false,
     "input": [
      "np.vstack((arr1, arr2))",
      "np.hstack((arr1, arr2))"
     ],
     "language": "python",
     "metadata": {},
     "outputs": []
    },
    {
     "cell_type": "code",
     "collapsed": false,
     "input": [
      "arr = np.random.randn(5, 2)",
      "arr",
      "first, second, third = np.split(arr, [1, 3])",
      "first",
      "second",
      "third"
     ],
     "language": "python",
     "metadata": {},
     "outputs": []
    },
    {
     "cell_type": "heading",
     "level": 4,
     "metadata": {},
     "source": [
      "Stacking helpers: r_ and c_"
     ]
    },
    {
     "cell_type": "code",
     "collapsed": false,
     "input": [
      "arr = np.arange(6)",
      "arr1 = arr.reshape((3, 2))",
      "arr2 = np.random.randn(3, 2)",
      "np.r_[arr1, arr2]",
      "np.c_[np.r_[arr1, arr2], arr]"
     ],
     "language": "python",
     "metadata": {},
     "outputs": []
    },
    {
     "cell_type": "code",
     "collapsed": false,
     "input": [
      "np.c_[1:6, -10:-5]"
     ],
     "language": "python",
     "metadata": {},
     "outputs": []
    },
    {
     "cell_type": "heading",
     "level": 3,
     "metadata": {},
     "source": [
      "Repeating Elements: tile and repeat"
     ]
    },
    {
     "cell_type": "code",
     "collapsed": false,
     "input": [
      "arr = np.arange(3)",
      "arr",
      "arr.repeat(3)"
     ],
     "language": "python",
     "metadata": {},
     "outputs": []
    },
    {
     "cell_type": "code",
     "collapsed": false,
     "input": [
      "arr.repeat([2, 3, 4])"
     ],
     "language": "python",
     "metadata": {},
     "outputs": []
    },
    {
     "cell_type": "code",
     "collapsed": false,
     "input": [
      "arr = np.random.randn(2, 2)",
      "arr",
      "arr.repeat(2, axis=0)"
     ],
     "language": "python",
     "metadata": {},
     "outputs": []
    },
    {
     "cell_type": "code",
     "collapsed": false,
     "input": [
      "arr.repeat([2, 3], axis=0)",
      "arr.repeat([2, 3], axis=1)"
     ],
     "language": "python",
     "metadata": {},
     "outputs": []
    },
    {
     "cell_type": "code",
     "collapsed": false,
     "input": [
      "arr",
      "np.tile(arr, 2)"
     ],
     "language": "python",
     "metadata": {},
     "outputs": []
    },
    {
     "cell_type": "code",
     "collapsed": false,
     "input": [
      "arr",
      "np.tile(arr, (2, 1))",
      "np.tile(arr, (3, 2))"
     ],
     "language": "python",
     "metadata": {},
     "outputs": []
    },
    {
     "cell_type": "heading",
     "level": 3,
     "metadata": {},
     "source": [
      "Fancy Indexing Equivalents: take and put"
     ]
    },
    {
     "cell_type": "code",
     "collapsed": false,
     "input": [
      "arr = np.arange(10) * 100",
      "inds = [7, 1, 2, 6]",
      "arr[inds]"
     ],
     "language": "python",
     "metadata": {},
     "outputs": []
    },
    {
     "cell_type": "code",
     "collapsed": false,
     "input": [
      "arr.take(inds)",
      "arr.put(inds, 42)",
      "arr",
      "arr.put(inds, [40, 41, 42, 43])",
      "arr"
     ],
     "language": "python",
     "metadata": {},
     "outputs": []
    },
    {
     "cell_type": "code",
     "collapsed": false,
     "input": [
      "inds = [2, 0, 2, 1]",
      "arr = np.random.randn(2, 4)",
      "arr",
      "arr.take(inds, axis=1)"
     ],
     "language": "python",
     "metadata": {},
     "outputs": []
    },
    {
     "cell_type": "heading",
     "level": 2,
     "metadata": {},
     "source": [
      "Broadcasting"
     ]
    },
    {
     "cell_type": "code",
     "collapsed": false,
     "input": [
      "arr = np.arange(5)",
      "arr",
      "arr * 4"
     ],
     "language": "python",
     "metadata": {},
     "outputs": []
    },
    {
     "cell_type": "code",
     "collapsed": false,
     "input": [
      "arr = np.random.randn(4, 3)",
      "arr.mean(0)",
      "demeaned = arr - arr.mean(0)",
      "demeaned",
      "demeaned.mean(0)"
     ],
     "language": "python",
     "metadata": {},
     "outputs": []
    },
    {
     "cell_type": "code",
     "collapsed": false,
     "input": [
      "arr",
      "row_means = arr.mean(1)",
      "row_means.shape",
      "row_means.reshape((4, 1))",
      "demeaned = arr - row_means.reshape((4, 1))",
      "demeaned.mean(1)"
     ],
     "language": "python",
     "metadata": {},
     "outputs": []
    },
    {
     "cell_type": "heading",
     "level": 3,
     "metadata": {},
     "source": [
      "Broadcasting Over Other Axes"
     ]
    },
    {
     "cell_type": "code",
     "collapsed": false,
     "input": [
      "arr - arr.mean(1)"
     ],
     "language": "python",
     "metadata": {},
     "outputs": []
    },
    {
     "cell_type": "code",
     "collapsed": false,
     "input": [
      "arr - arr.mean(1).reshape((4, 1))"
     ],
     "language": "python",
     "metadata": {},
     "outputs": []
    },
    {
     "cell_type": "code",
     "collapsed": false,
     "input": [
      "arr = np.zeros((4, 4))",
      "arr_3d = arr[:, np.newaxis, :]",
      "arr_3d.shape",
      "arr_1d = np.random.normal(size=3)",
      "arr_1d[:, np.newaxis]",
      "arr_1d[np.newaxis, :]"
     ],
     "language": "python",
     "metadata": {},
     "outputs": []
    },
    {
     "cell_type": "code",
     "collapsed": false,
     "input": [
      "arr = np.random.randn(3, 4, 5)",
      "depth_means = arr.mean(2)",
      "depth_means",
      "depth_means.shape",
      "demeaned = arr - depth_means[:, :, np.newaxis]",
      "demeaned.mean(2)"
     ],
     "language": "python",
     "metadata": {},
     "outputs": []
    },
    {
     "cell_type": "raw",
     "metadata": {},
     "source": [
      "def demean_axis(arr, axis=0):",
      "    means = arr.mean(axis)",
      "",
      "    # This generalizes things like [:, :, np.newaxis] to N dimensions",
      "    indexer = [slice(None)] * arr.ndim",
      "    indexer[axis] = np.newaxis",
      "    return arr - means[indexer]"
     ]
    },
    {
     "cell_type": "heading",
     "level": 3,
     "metadata": {},
     "source": [
      "Setting Array Values by Broadcasting"
     ]
    },
    {
     "cell_type": "code",
     "collapsed": false,
     "input": [
      "arr = np.zeros((4, 3))",
      "arr[:] = 5",
      "arr"
     ],
     "language": "python",
     "metadata": {},
     "outputs": []
    },
    {
     "cell_type": "code",
     "collapsed": false,
     "input": [
      "col = np.array([1.28, -0.42, 0.44, 1.6])",
      "arr[:] = col[:, np.newaxis]",
      "arr",
      "arr[:2] = [[-1.37], [0.509]]",
      "arr"
     ],
     "language": "python",
     "metadata": {},
     "outputs": []
    },
    {
     "cell_type": "heading",
     "level": 2,
     "metadata": {},
     "source": [
      "Advanced ufunc Usage"
     ]
    },
    {
     "cell_type": "heading",
     "level": 3,
     "metadata": {},
     "source": [
      "ufunc Instance Methods"
     ]
    },
    {
     "cell_type": "code",
     "collapsed": false,
     "input": [
      "arr = np.arange(10)",
      "np.add.reduce(arr)",
      "arr.sum()"
     ],
     "language": "python",
     "metadata": {},
     "outputs": []
    },
    {
     "cell_type": "code",
     "collapsed": false,
     "input": [
      "np.random.seed(12346)  # for reproducibility",
      "arr = np.random.randn(5, 5)",
      "arr[::2].sort(1) # sort a few rows",
      "arr[:, :-1] < arr[:, 1:]",
      "np.logical_and.reduce(arr[:, :-1] < arr[:, 1:], axis=1)"
     ],
     "language": "python",
     "metadata": {},
     "outputs": []
    },
    {
     "cell_type": "code",
     "collapsed": false,
     "input": [
      "arr = np.arange(15).reshape((3, 5))",
      "np.add.accumulate(arr, axis=1)"
     ],
     "language": "python",
     "metadata": {},
     "outputs": []
    },
    {
     "cell_type": "code",
     "collapsed": false,
     "input": [
      "arr = np.arange(3).repeat([1, 2, 2])",
      "arr",
      "np.multiply.outer(arr, np.arange(5))"
     ],
     "language": "python",
     "metadata": {},
     "outputs": []
    },
    {
     "cell_type": "code",
     "collapsed": false,
     "input": [
      "x, y = np.random.randn(3, 4), np.random.randn(5)",
      "result = np.subtract.outer(x, y)",
      "result.shape"
     ],
     "language": "python",
     "metadata": {},
     "outputs": []
    },
    {
     "cell_type": "code",
     "collapsed": false,
     "input": [
      "arr = np.arange(10)",
      "np.add.reduceat(arr, [0, 5, 8])"
     ],
     "language": "python",
     "metadata": {},
     "outputs": []
    },
    {
     "cell_type": "code",
     "collapsed": false,
     "input": [
      "arr = np.multiply.outer(np.arange(4), np.arange(5))",
      "arr",
      "np.add.reduceat(arr, [0, 2, 4], axis=1)"
     ],
     "language": "python",
     "metadata": {},
     "outputs": []
    },
    {
     "cell_type": "heading",
     "level": 3,
     "metadata": {},
     "source": [
      "Writing New ufuncs in Python"
     ]
    },
    {
     "cell_type": "code",
     "collapsed": false,
     "input": [
      "def add_elements(x, y):",
      "    return x + y",
      "add_them = np.frompyfunc(add_elements, 2, 1)",
      "add_them(np.arange(8), np.arange(8))"
     ],
     "language": "python",
     "metadata": {},
     "outputs": []
    },
    {
     "cell_type": "code",
     "collapsed": false,
     "input": [
      "add_them = np.vectorize(add_elements, otypes=[np.float64])",
      "add_them(np.arange(8), np.arange(8))"
     ],
     "language": "python",
     "metadata": {},
     "outputs": []
    },
    {
     "cell_type": "code",
     "collapsed": false,
     "input": [
      "arr = np.random.randn(10000)",
      "%timeit add_them(arr, arr)",
      "%timeit np.add(arr, arr)"
     ],
     "language": "python",
     "metadata": {},
     "outputs": []
    },
    {
     "cell_type": "heading",
     "level": 2,
     "metadata": {},
     "source": [
      "Structured and Record Arrays"
     ]
    },
    {
     "cell_type": "code",
     "collapsed": false,
     "input": [
      "dtype = [('x', np.float64), ('y', np.int32)]",
      "sarr = np.array([(1.5, 6), (np.pi, -2)], dtype=dtype)",
      "sarr"
     ],
     "language": "python",
     "metadata": {},
     "outputs": []
    },
    {
     "cell_type": "code",
     "collapsed": false,
     "input": [
      "sarr[0]",
      "sarr[0]['y']"
     ],
     "language": "python",
     "metadata": {},
     "outputs": []
    },
    {
     "cell_type": "code",
     "collapsed": false,
     "input": [
      "sarr['x']"
     ],
     "language": "python",
     "metadata": {},
     "outputs": []
    },
    {
     "cell_type": "heading",
     "level": 3,
     "metadata": {},
     "source": [
      "Nested dtypes and Multidimensional Fields"
     ]
    },
    {
     "cell_type": "code",
     "collapsed": false,
     "input": [
      "dtype = [('x', np.int64, 3), ('y', np.int32)]",
      "arr = np.zeros(4, dtype=dtype)",
      "arr"
     ],
     "language": "python",
     "metadata": {},
     "outputs": []
    },
    {
     "cell_type": "code",
     "collapsed": false,
     "input": [
      "arr[0]['x']"
     ],
     "language": "python",
     "metadata": {},
     "outputs": []
    },
    {
     "cell_type": "code",
     "collapsed": false,
     "input": [
      "arr['x']"
     ],
     "language": "python",
     "metadata": {},
     "outputs": []
    },
    {
     "cell_type": "code",
     "collapsed": false,
     "input": [
      "dtype = [('x', [('a', 'f8'), ('b', 'f4')]), ('y', np.int32)]",
      "data = np.array([((1, 2), 5), ((3, 4), 6)], dtype=dtype)",
      "data['x']",
      "data['y']",
      "data['x']['a']"
     ],
     "language": "python",
     "metadata": {},
     "outputs": []
    },
    {
     "cell_type": "heading",
     "level": 3,
     "metadata": {},
     "source": [
      "Why Use Structured Arrays?"
     ]
    },
    {
     "cell_type": "heading",
     "level": 2,
     "metadata": {},
     "source": [
      "More About Sorting"
     ]
    },
    {
     "cell_type": "code",
     "collapsed": false,
     "input": [
      "arr = np.random.randn(6)",
      "arr.sort()",
      "arr"
     ],
     "language": "python",
     "metadata": {},
     "outputs": []
    },
    {
     "cell_type": "code",
     "collapsed": false,
     "input": [
      "arr = np.random.randn(3, 5)",
      "arr",
      "arr[:, 0].sort()  # Sort first column values in-place",
      "arr"
     ],
     "language": "python",
     "metadata": {},
     "outputs": []
    },
    {
     "cell_type": "code",
     "collapsed": false,
     "input": [
      "arr = np.random.randn(5)",
      "arr",
      "np.sort(arr)",
      "arr"
     ],
     "language": "python",
     "metadata": {},
     "outputs": []
    },
    {
     "cell_type": "code",
     "collapsed": false,
     "input": [
      "arr = np.random.randn(3, 5)",
      "arr",
      "arr.sort(axis=1)",
      "arr"
     ],
     "language": "python",
     "metadata": {},
     "outputs": []
    },
    {
     "cell_type": "code",
     "collapsed": false,
     "input": [
      "arr[:, ::-1]"
     ],
     "language": "python",
     "metadata": {},
     "outputs": []
    },
    {
     "cell_type": "heading",
     "level": 3,
     "metadata": {},
     "source": [
      "Indirect Sorts: argsort and lexsort"
     ]
    },
    {
     "cell_type": "code",
     "collapsed": false,
     "input": [
      "values = np.array([5, 0, 1, 3, 2])",
      "indexer = values.argsort()",
      "indexer",
      "values[indexer]"
     ],
     "language": "python",
     "metadata": {},
     "outputs": []
    },
    {
     "cell_type": "code",
     "collapsed": false,
     "input": [
      "arr = np.random.randn(3, 5)",
      "arr[0] = values",
      "arr",
      "arr[:, arr[0].argsort()]"
     ],
     "language": "python",
     "metadata": {},
     "outputs": []
    },
    {
     "cell_type": "code",
     "collapsed": false,
     "input": [
      "first_name = np.array(['Bob', 'Jane', 'Steve', 'Bill', 'Barbara'])",
      "last_name = np.array(['Jones', 'Arnold', 'Arnold', 'Jones', 'Walters'])",
      "sorter = np.lexsort((first_name, last_name))",
      "sorter",
      "zip(last_name[sorter], first_name[sorter])"
     ],
     "language": "python",
     "metadata": {},
     "outputs": []
    },
    {
     "cell_type": "heading",
     "level": 3,
     "metadata": {},
     "source": [
      "Alternative Sort Algorithms"
     ]
    },
    {
     "cell_type": "code",
     "collapsed": false,
     "input": [
      "values = np.array(['2:first', '2:second', '1:first', '1:second',",
      "                   '1:third'])",
      "key = np.array([2, 2, 1, 1, 1])",
      "indexer = key.argsort(kind='mergesort')",
      "indexer",
      "values.take(indexer)"
     ],
     "language": "python",
     "metadata": {},
     "outputs": []
    },
    {
     "cell_type": "heading",
     "level": 3,
     "metadata": {},
     "source": [
      "Partially Sorting Arrays"
     ]
    },
    {
     "cell_type": "code",
     "collapsed": false,
     "input": [
      "np.random.seed(12345)",
      "arr = np.random.randn(20)",
      "arr",
      "np.partition(arr, 3)"
     ],
     "language": "python",
     "metadata": {},
     "outputs": []
    },
    {
     "cell_type": "code",
     "collapsed": false,
     "input": [
      "indices = np.argpartition(arr, 3)",
      "indices",
      "arr.take(indices)"
     ],
     "language": "python",
     "metadata": {},
     "outputs": []
    },
    {
     "cell_type": "heading",
     "level": 3,
     "metadata": {},
     "source": [
      "numpy.searchsorted: Finding Elements in a Sorted Array"
     ]
    },
    {
     "cell_type": "code",
     "collapsed": false,
     "input": [
      "arr = np.array([0, 1, 7, 12, 15])",
      "arr.searchsorted(9)"
     ],
     "language": "python",
     "metadata": {},
     "outputs": []
    },
    {
     "cell_type": "code",
     "collapsed": false,
     "input": [
      "arr.searchsorted([0, 8, 11, 16])"
     ],
     "language": "python",
     "metadata": {},
     "outputs": []
    },
    {
     "cell_type": "code",
     "collapsed": false,
     "input": [
      "arr = np.array([0, 0, 0, 1, 1, 1, 1])",
      "arr.searchsorted([0, 1])",
      "arr.searchsorted([0, 1], side='right')"
     ],
     "language": "python",
     "metadata": {},
     "outputs": []
    },
    {
     "cell_type": "code",
     "collapsed": false,
     "input": [
      "data = np.floor(np.random.uniform(0, 10000, size=50))",
      "bins = np.array([0, 100, 1000, 5000, 10000])",
      "data"
     ],
     "language": "python",
     "metadata": {},
     "outputs": []
    },
    {
     "cell_type": "code",
     "collapsed": false,
     "input": [
      "labels = bins.searchsorted(data)",
      "labels"
     ],
     "language": "python",
     "metadata": {},
     "outputs": []
    },
    {
     "cell_type": "code",
     "collapsed": false,
     "input": [
      "pd.Series(data).groupby(labels).mean()"
     ],
     "language": "python",
     "metadata": {},
     "outputs": []
    },
    {
     "cell_type": "heading",
     "level": 2,
     "metadata": {},
     "source": [
      "Writing Fast NumPy Functions with Numba"
     ]
    },
    {
     "cell_type": "code",
     "collapsed": false,
     "input": [
      "import numpy as np",
      "",
      "def mean_distance(x, y):",
      "    nx = len(x)",
      "    result = 0.0",
      "    count = 0",
      "    for i in range(nx):",
      "        result += x[i] - y[i]",
      "        count += 1",
      "    return result / count"
     ],
     "language": "python",
     "metadata": {},
     "outputs": []
    },
    {
     "cell_type": "raw",
     "metadata": {},
     "source": [
      "In [209]: x = np.random.randn(10000000)",
      "",
      "In [210]: y = np.random.randn(10000000)",
      "",
      "In [211]: %timeit mean_distance(x, y)",
      "1 loop, best of 3: 2 s per loop",
      "",
      "In [212]: %timeit (x - y).mean()",
      "100 loops, best of 3: 14.7 ms per loop"
     ]
    },
    {
     "cell_type": "raw",
     "metadata": {},
     "source": [
      "In [213]: import numba as nb",
      "",
      "In [214]: numba_mean_distance = nb.jit(mean_distance)"
     ]
    },
    {
     "cell_type": "raw",
     "metadata": {},
     "source": [
      "@nb.jit",
      "def mean_distance(x, y):",
      "    nx = len(x)",
      "    result = 0.0",
      "    count = 0",
      "    for i in range(nx):",
      "        result += x[i] - y[i]",
      "        count += 1",
      "    return result / count"
     ]
    },
    {
     "cell_type": "raw",
     "metadata": {},
     "source": [
      "In [215]: %timeit numba_mean_distance(x, y)",
      "100 loops, best of 3: 10.3 ms per loop"
     ]
    },
    {
     "cell_type": "raw",
     "metadata": {},
     "source": [
      "from numba import float64, njit",
      "",
      "@njit(float64(float64[:], float64[:]))",
      "def mean_distance(x, y):",
      "    return (x - y).mean()"
     ]
    },
    {
     "cell_type": "heading",
     "level": 3,
     "metadata": {},
     "source": [
      "Creating Custom numpy.ufunc Objects with Numba"
     ]
    },
    {
     "cell_type": "raw",
     "metadata": {},
     "source": [
      "from numba import vectorize",
      "",
      "@vectorize",
      "def nb_add(x, y):",
      "    return x + y"
     ]
    },
    {
     "cell_type": "raw",
     "metadata": {},
     "source": [
      "In [13]: x = np.arange(10)",
      "",
      "In [14]: nb_add(x, x)",
      "Out[14]: array([  0.,   2.,   4.,   6.,   8.,  10.,  12.,  14.,  16.,  18.])",
      "",
      "In [15]: nb_add.accumulate(x, 0)",
      "Out[15]: array([  0.,   1.,   3.,   6.,  10.,  15.,  21.,  28.,  36.,  45.])"
     ]
    },
    {
     "cell_type": "heading",
     "level": 2,
     "metadata": {},
     "source": [
      "Advanced Array Input and Output"
     ]
    },
    {
     "cell_type": "heading",
     "level": 3,
     "metadata": {},
     "source": [
      "Memory-Mapped Files"
     ]
    },
    {
     "cell_type": "code",
     "collapsed": false,
     "input": [
      "mmap = np.memmap('mymmap', dtype='float64', mode='w+',",
      "                 shape=(10000, 10000))",
      "mmap"
     ],
     "language": "python",
     "metadata": {},
     "outputs": []
    },
    {
     "cell_type": "code",
     "collapsed": false,
     "input": [
      "section = mmap[:5]"
     ],
     "language": "python",
     "metadata": {},
     "outputs": []
    },
    {
     "cell_type": "code",
     "collapsed": false,
     "input": [
      "section[:] = np.random.randn(5, 10000)",
      "mmap.flush()",
      "mmap",
      "del mmap"
     ],
     "language": "python",
     "metadata": {},
     "outputs": []
    },
    {
     "cell_type": "code",
     "collapsed": false,
     "input": [
      "mmap = np.memmap('mymmap', dtype='float64', shape=(10000, 10000))",
      "mmap"
     ],
     "language": "python",
     "metadata": {},
     "outputs": []
    },
    {
     "cell_type": "code",
     "collapsed": false,
     "input": [
      "%xdel mmap",
      "!rm mymmap"
     ],
     "language": "python",
     "metadata": {},
     "outputs": []
    },
    {
     "cell_type": "heading",
     "level": 3,
     "metadata": {},
     "source": [
      "HDF5 and Other Array Storage Options"
     ]
    },
    {
     "cell_type": "heading",
     "level": 2,
     "metadata": {},
     "source": [
      "Performance Tips"
     ]
    },
    {
     "cell_type": "heading",
     "level": 3,
     "metadata": {},
     "source": [
      "The Importance of Contiguous Memory"
     ]
    },
    {
     "cell_type": "code",
     "collapsed": false,
     "input": [
      "arr_c = np.ones((1000, 1000), order='C')",
      "arr_f = np.ones((1000, 1000), order='F')",
      "arr_c.flags",
      "arr_f.flags",
      "arr_f.flags.f_contiguous"
     ],
     "language": "python",
     "metadata": {},
     "outputs": []
    },
    {
     "cell_type": "code",
     "collapsed": false,
     "input": [
      "%timeit arr_c.sum(1)",
      "%timeit arr_f.sum(1)"
     ],
     "language": "python",
     "metadata": {},
     "outputs": []
    },
    {
     "cell_type": "code",
     "collapsed": false,
     "input": [
      "arr_f.copy('C').flags"
     ],
     "language": "python",
     "metadata": {},
     "outputs": []
    },
    {
     "cell_type": "code",
     "collapsed": false,
     "input": [
      "arr_c[:50].flags.contiguous",
      "arr_c[:, :50].flags"
     ],
     "language": "python",
     "metadata": {},
     "outputs": []
    },
    {
     "cell_type": "code",
     "collapsed": false,
     "input": [
      "%xdel arr_c",
      "%xdel arr_f"
     ],
     "language": "python",
     "metadata": {},
     "outputs": []
    },
    {
     "cell_type": "code",
     "collapsed": false,
     "input": [
      "%popd"
     ],
     "language": "python",
     "metadata": {},
     "outputs": []
    },
    {
     "cell_type": "code",
     "collapsed": false,
     "input": [
      "pd.options.display.max_rows = PREVIOUS_MAX_ROWS"
     ],
     "language": "python",
     "metadata": {},
     "outputs": []
    }
   ],
   "metadata": {}
  }
 ]
}