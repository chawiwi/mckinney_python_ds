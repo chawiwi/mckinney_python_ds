{
 "metadata": {
  "name": "generated_ch02"
 },
 "nbformat": 3,
 "nbformat_minor": 0,
 "worksheets": [
  {
   "cells": [
    {
     "cell_type": "heading",
     "level": 1,
     "metadata": {},
     "source": [
      "Python Language Basics, IPython, and Jupyter Notebooks"
     ]
    },
    {
     "cell_type": "code",
     "collapsed": false,
     "input": [
      "%pushd book-materials",
      "import numpy as np",
      "np.random.seed(12345)",
      "np.set_printoptions(precision=4, suppress=True)"
     ],
     "language": "python",
     "metadata": {},
     "outputs": []
    },
    {
     "cell_type": "heading",
     "level": 2,
     "metadata": {},
     "source": [
      "The Python Interpreter"
     ]
    },
    {
     "cell_type": "raw",
     "metadata": {},
     "source": [
      "$ python",
      "Python 3.6.0 | packaged by conda-forge | (default, Jan 13 2017, 23:17:12)",
      "[GCC 4.8.2 20140120 (Red Hat 4.8.2-15)] on linux",
      "Type \"help\", \"copyright\", \"credits\" or \"license\" for more information.",
      ">>> a = 5",
      ">>> print(a)",
      "5"
     ]
    },
    {
     "cell_type": "raw",
     "metadata": {},
     "source": [
      "print('Hello world')"
     ]
    },
    {
     "cell_type": "raw",
     "metadata": {},
     "source": [
      "$ python hello_world.py",
      "Hello world"
     ]
    },
    {
     "cell_type": "raw",
     "metadata": {},
     "source": [
      "$ ipython",
      "Python 3.6.0 | packaged by conda-forge | (default, Jan 13 2017, 23:17:12)",
      "Type \"copyright\", \"credits\" or \"license\" for more information.",
      "",
      "IPython 5.1.0 -- An enhanced Interactive Python.",
      "?         -> Introduction and overview of IPython's features.",
      "%quickref -> Quick reference.",
      "help      -> Python's own help system.",
      "object?   -> Details about 'object', use 'object??' for extra details.",
      "",
      "In [1]: %run hello_world.py",
      "Hello world",
      "",
      "In [2]:"
     ]
    },
    {
     "cell_type": "heading",
     "level": 2,
     "metadata": {},
     "source": [
      "IPython Basics"
     ]
    },
    {
     "cell_type": "heading",
     "level": 3,
     "metadata": {},
     "source": [
      "Running the IPython Shell"
     ]
    },
    {
     "cell_type": "raw",
     "metadata": {},
     "source": [
      "$ "
     ]
    },
    {
     "cell_type": "code",
     "collapsed": false,
     "input": [
      "import numpy as np",
      "data = {i : np.random.randn() for i in range(7)}",
      "data"
     ],
     "language": "python",
     "metadata": {},
     "outputs": []
    },
    {
     "cell_type": "raw",
     "metadata": {},
     "source": [
      ">>> from numpy.random import randn",
      ">>> data = {i : randn() for i in range(7)}",
      ">>> print(data)",
      "{0: -1.5948255432744511, 1: 0.10569006472787983, 2: 1.972367135977295,",
      "3: 0.15455217573074576, 4: -0.24058577449429575, 5: -1.2904897053651216,",
      "6: 0.3308507317325902}"
     ]
    },
    {
     "cell_type": "heading",
     "level": 3,
     "metadata": {},
     "source": [
      "Running the Jupyter Notebook"
     ]
    },
    {
     "cell_type": "raw",
     "metadata": {},
     "source": [
      "$ jupyter notebook",
      "[I 15:20:52.739 NotebookApp] Serving notebooks from local directory:",
      "/home/wesm/code/pydata-book",
      "[I 15:20:52.739 NotebookApp] 0 active kernels",
      "[I 15:20:52.739 NotebookApp] The Jupyter Notebook is running at:",
      "http://localhost:8888/",
      "[I 15:20:52.740 NotebookApp] Use Control-C to stop this server and shut down",
      "all kernels (twice to skip confirmation).",
      "Created new window in existing browser session."
     ]
    },
    {
     "cell_type": "heading",
     "level": 3,
     "metadata": {},
     "source": [
      "Tab Completion"
     ]
    },
    {
     "cell_type": "raw",
     "metadata": {},
     "source": [
      "In [1]: an_apple = 27",
      "",
      "In [2]: an_example = 42",
      "",
      "In [3]: an"
     ]
    },
    {
     "cell_type": "raw",
     "metadata": {},
     "source": [
      "In [3]: b = [1, 2, 3]",
      "",
      "In [4]: b."
     ]
    },
    {
     "cell_type": "raw",
     "metadata": {},
     "source": [
      "In [1]: import datetime",
      "",
      "In [2]: datetime."
     ]
    },
    {
     "cell_type": "raw",
     "metadata": {},
     "source": [
      "In [7]: datasets/movielens/"
     ]
    },
    {
     "cell_type": "heading",
     "level": 3,
     "metadata": {},
     "source": [
      "Introspection"
     ]
    },
    {
     "cell_type": "raw",
     "metadata": {},
     "source": [
      "In [8]: b = [1, 2, 3]",
      "",
      "In [9]: b?",
      "Type:       list",
      "String Form:[1, 2, 3]",
      "Length:     3",
      "Docstring:",
      "list() -> new empty list",
      "list(iterable) -> new list initialized from iterable's items",
      "",
      "In [10]: print?",
      "Docstring:",
      "print(value, ..., sep=' ', end='\\n', file=sys.stdout, flush=False)",
      "",
      "Prints the values to a stream, or to sys.stdout by default.",
      "Optional keyword arguments:",
      "file:  a file-like object (stream); defaults to the current sys.stdout.",
      "sep:   string inserted between values, default a space.",
      "end:   string appended after the last value, default a newline.",
      "flush: whether to forcibly flush the stream.",
      "Type:      builtin_function_or_method"
     ]
    },
    {
     "cell_type": "raw",
     "metadata": {},
     "source": [
      "def add_numbers(a, b):",
      "    \"\"\"",
      "    Add two numbers together",
      "",
      "    Returns",
      "    -------",
      "    the_sum : type of arguments",
      "    \"\"\"",
      "    return a + b"
     ]
    },
    {
     "cell_type": "raw",
     "metadata": {},
     "source": [
      "In [11]: add_numbers?",
      "Signature: add_numbers(a, b)",
      "Docstring:",
      "Add two numbers together",
      "",
      "Returns",
      "-------",
      "the_sum : type of arguments",
      "File:      <ipython-input-9-6a548a216e27>",
      "Type:      function"
     ]
    },
    {
     "cell_type": "raw",
     "metadata": {},
     "source": [
      "In [12]: add_numbers??",
      "Signature: add_numbers(a, b)",
      "Source:",
      "def add_numbers(a, b):",
      "    \"\"\"",
      "    Add two numbers together",
      "",
      "    Returns",
      "    -------",
      "    the_sum : type of arguments",
      "    \"\"\"",
      "    return a + b",
      "File:      <ipython-input-9-6a548a216e27>",
      "Type:      function"
     ]
    },
    {
     "cell_type": "raw",
     "metadata": {},
     "source": [
      "In [13]: np.*load*?",
      "np.__loader__",
      "np.load",
      "np.loads",
      "np.loadtxt",
      "np.pkgload"
     ]
    },
    {
     "cell_type": "heading",
     "level": 3,
     "metadata": {},
     "source": [
      "The %run Command"
     ]
    },
    {
     "cell_type": "raw",
     "metadata": {},
     "source": [
      "def f(x, y, z):",
      "    return (x + y) / z",
      "",
      "a = 5",
      "b = 6",
      "c = 7.5",
      "",
      "result = f(a, b, c)"
     ]
    },
    {
     "cell_type": "raw",
     "metadata": {},
     "source": [
      "In [14]: %run ipython_script_test.py"
     ]
    },
    {
     "cell_type": "raw",
     "metadata": {},
     "source": [
      "In [15]: c",
      "Out [15]: 7.5",
      "",
      "In [16]: result",
      "Out[16]: 1.4666666666666666"
     ]
    },
    {
     "cell_type": "raw",
     "metadata": {},
     "source": [
      ">>> %load ipython_script_test.py",
      "",
      "    def f(x, y, z):",
      "        return (x + y) / z",
      "",
      "    a = 5",
      "    b = 6",
      "    c = 7.5",
      "",
      "    result = f(a, b, c)"
     ]
    },
    {
     "cell_type": "heading",
     "level": 4,
     "metadata": {},
     "source": [
      "Interrupting running code"
     ]
    },
    {
     "cell_type": "heading",
     "level": 3,
     "metadata": {},
     "source": [
      "Executing Code from the Clipboard"
     ]
    },
    {
     "cell_type": "raw",
     "metadata": {},
     "source": [
      "x = 5",
      "y = 7",
      "if x > 5:",
      "    x += 1",
      "",
      "    y = 8"
     ]
    },
    {
     "cell_type": "raw",
     "metadata": {},
     "source": [
      "In [17]: %paste",
      "x = 5",
      "y = 7",
      "if x > 5:",
      "    x += 1",
      "",
      "    y = 8",
      "## -- End pasted text --"
     ]
    },
    {
     "cell_type": "raw",
     "metadata": {},
     "source": [
      "In [18]: %cpaste",
      "Pasting code; enter '--' alone on the line to stop or use Ctrl-D.",
      ":x = 5",
      ":y = 7",
      ":if x > 5:",
      ":    x += 1",
      ":",
      ":    y = 8",
      ":--"
     ]
    },
    {
     "cell_type": "heading",
     "level": 3,
     "metadata": {},
     "source": [
      "Terminal Keyboard Shortcuts"
     ]
    },
    {
     "cell_type": "heading",
     "level": 3,
     "metadata": {},
     "source": [
      "About Magic Commands"
     ]
    },
    {
     "cell_type": "raw",
     "metadata": {},
     "source": [
      "In [20]: a = np.random.randn(100, 100)",
      "",
      "In [20]: %timeit np.dot(a, a)",
      "10000 loops, best of 3: 20.9 \u00b5s per loop"
     ]
    },
    {
     "cell_type": "raw",
     "metadata": {},
     "source": [
      "In [21]: %debug?",
      "Docstring:",
      "::",
      "",
      "  %debug [--breakpoint FILE:LINE] [statement [statement ...]]",
      "",
      "Activate the interactive debugger.",
      "",
      "This magic command support two ways of activating debugger.",
      "One is to activate debugger before executing code.  This way, you",
      "can set a break point, to step through the code from the point.",
      "You can use this mode by giving statements to execute and optionally",
      "a breakpoint.",
      "",
      "The other one is to activate debugger in post-mortem mode.  You can",
      "activate this mode simply running %debug without any argument.",
      "If an exception has just occurred, this lets you inspect its stack",
      "frames interactively.  Note that this will always work only on the last",
      "traceback that occurred, so you must call this quickly after an",
      "exception that you wish to inspect has fired, because if another one",
      "occurs, it clobbers the previous one.",
      "",
      "If you want IPython to automatically do this on every exception, see",
      "the %pdb magic for more details.",
      "",
      "positional arguments:",
      "  statement             Code to run in debugger. You can omit this in cell",
      "                        magic mode.",
      "",
      "optional arguments:",
      "  --breakpoint <FILE:LINE>, -b <FILE:LINE>",
      "                        Set break point at LINE in FILE."
     ]
    },
    {
     "cell_type": "raw",
     "metadata": {},
     "source": [
      "In [22]: %pwd",
      "Out[22]: '/home/wesm/code/pydata-book",
      "",
      "In [23]: foo = %pwd",
      "",
      "In [24]: foo",
      "Out[24]: '/home/wesm/code/pydata-book'"
     ]
    },
    {
     "cell_type": "heading",
     "level": 3,
     "metadata": {},
     "source": [
      "Matplotlib Integration"
     ]
    },
    {
     "cell_type": "raw",
     "metadata": {},
     "source": [
      "In [26]: %matplotlib",
      "Using matplotlib backend: Qt4Agg"
     ]
    },
    {
     "cell_type": "raw",
     "metadata": {},
     "source": [
      "In [26]: %matplotlib inline"
     ]
    },
    {
     "cell_type": "heading",
     "level": 2,
     "metadata": {},
     "source": [
      "Python Language Basics"
     ]
    },
    {
     "cell_type": "heading",
     "level": 3,
     "metadata": {},
     "source": [
      "Language Semantics"
     ]
    },
    {
     "cell_type": "heading",
     "level": 4,
     "metadata": {},
     "source": [
      "Indentation, not braces"
     ]
    },
    {
     "cell_type": "raw",
     "metadata": {},
     "source": [
      "for x in array:",
      "    if x < pivot:",
      "        less.append(x)",
      "    else:",
      "        greater.append(x)"
     ]
    },
    {
     "cell_type": "raw",
     "metadata": {},
     "source": [
      "a = 5; b = 6; c = 7"
     ]
    },
    {
     "cell_type": "heading",
     "level": 4,
     "metadata": {},
     "source": [
      "Everything is an object"
     ]
    },
    {
     "cell_type": "heading",
     "level": 4,
     "metadata": {},
     "source": [
      "Comments"
     ]
    },
    {
     "cell_type": "raw",
     "metadata": {},
     "source": [
      "results = []",
      "for line in file_handle:",
      "    # keep the empty lines for now",
      "    # if len(line) == 0:",
      "    #   continue",
      "    results.append(line.replace('foo', 'bar'))"
     ]
    },
    {
     "cell_type": "raw",
     "metadata": {},
     "source": [
      "print(\"Reached this line\")  # Simple status report"
     ]
    },
    {
     "cell_type": "heading",
     "level": 4,
     "metadata": {},
     "source": [
      "Function and object method calls"
     ]
    },
    {
     "cell_type": "raw",
     "metadata": {},
     "source": [
      "result = f(x, y, z)",
      "g()"
     ]
    },
    {
     "cell_type": "raw",
     "metadata": {},
     "source": [
      "obj.some_method(x, y, z)"
     ]
    },
    {
     "cell_type": "raw",
     "metadata": {},
     "source": [
      "result = f(a, b, c, d=5, e='foo')"
     ]
    },
    {
     "cell_type": "heading",
     "level": 4,
     "metadata": {},
     "source": [
      "Variables and argument passing"
     ]
    },
    {
     "cell_type": "code",
     "collapsed": false,
     "input": [
      "a = [1, 2, 3]"
     ],
     "language": "python",
     "metadata": {},
     "outputs": []
    },
    {
     "cell_type": "code",
     "collapsed": false,
     "input": [
      "b = a"
     ],
     "language": "python",
     "metadata": {},
     "outputs": []
    },
    {
     "cell_type": "code",
     "collapsed": false,
     "input": [
      "a.append(4)",
      "b"
     ],
     "language": "python",
     "metadata": {},
     "outputs": []
    },
    {
     "cell_type": "raw",
     "metadata": {},
     "source": [
      "def append_element(some_list, element):",
      "    some_list.append(element)"
     ]
    },
    {
     "cell_type": "raw",
     "metadata": {},
     "source": [
      "In [27]: data = [1, 2, 3]",
      "",
      "In [28]: append_element(data, 4)",
      "",
      "In [29]: data",
      "Out[29]: [1, 2, 3, 4]"
     ]
    },
    {
     "cell_type": "heading",
     "level": 4,
     "metadata": {},
     "source": [
      "Dynamic references, strong types"
     ]
    },
    {
     "cell_type": "code",
     "collapsed": false,
     "input": [
      "a = 5",
      "type(a)",
      "a = 'foo'",
      "type(a)"
     ],
     "language": "python",
     "metadata": {},
     "outputs": []
    },
    {
     "cell_type": "code",
     "collapsed": false,
     "input": [
      "'5' + 5"
     ],
     "language": "python",
     "metadata": {},
     "outputs": []
    },
    {
     "cell_type": "code",
     "collapsed": false,
     "input": [
      "a = 4.5",
      "b = 2",
      "# String formatting, to be visited later",
      "print('a is {0}, b is {1}'.format(type(a), type(b)))",
      "a / b"
     ],
     "language": "python",
     "metadata": {},
     "outputs": []
    },
    {
     "cell_type": "code",
     "collapsed": false,
     "input": [
      "a = 5",
      "isinstance(a, int)"
     ],
     "language": "python",
     "metadata": {},
     "outputs": []
    },
    {
     "cell_type": "code",
     "collapsed": false,
     "input": [
      "a = 5; b = 4.5",
      "isinstance(a, (int, float))",
      "isinstance(b, (int, float))"
     ],
     "language": "python",
     "metadata": {},
     "outputs": []
    },
    {
     "cell_type": "heading",
     "level": 4,
     "metadata": {},
     "source": [
      "Attributes and methods"
     ]
    },
    {
     "cell_type": "raw",
     "metadata": {},
     "source": [
      "In [1]: a = 'foo'",
      "",
      "In [2]: a.<Press Tab>",
      "a.capitalize  a.format      a.isupper     a.rindex      a.strip",
      "a.center      a.index       a.join        a.rjust       a.swapcase",
      "a.count       a.isalnum     a.ljust       a.rpartition  a.title",
      "a.decode      a.isalpha     a.lower       a.rsplit      a.translate",
      "a.encode      a.isdigit     a.lstrip      a.rstrip      a.upper",
      "a.endswith    a.islower     a.partition   a.split       a.zfill",
      "a.expandtabs  a.isspace     a.replace     a.splitlines",
      "a.find        a.istitle     a.rfind       a.startswith"
     ]
    },
    {
     "cell_type": "code",
     "collapsed": false,
     "input": [
      "a = 'foo'"
     ],
     "language": "python",
     "metadata": {},
     "outputs": []
    },
    {
     "cell_type": "code",
     "collapsed": false,
     "input": [
      "getattr(a, 'split')"
     ],
     "language": "python",
     "metadata": {},
     "outputs": []
    },
    {
     "cell_type": "heading",
     "level": 4,
     "metadata": {},
     "source": [
      "Duck typing"
     ]
    },
    {
     "cell_type": "code",
     "collapsed": false,
     "input": [
      "def isiterable(obj):",
      "    try:",
      "        iter(obj)",
      "        return True",
      "    except TypeError: # not iterable",
      "        return False"
     ],
     "language": "python",
     "metadata": {},
     "outputs": []
    },
    {
     "cell_type": "code",
     "collapsed": false,
     "input": [
      "isiterable('a string')",
      "isiterable([1, 2, 3])",
      "isiterable(5)"
     ],
     "language": "python",
     "metadata": {},
     "outputs": []
    },
    {
     "cell_type": "raw",
     "metadata": {},
     "source": [
      "if not isinstance(x, list) and isiterable(x):",
      "    x = list(x)"
     ]
    },
    {
     "cell_type": "heading",
     "level": 4,
     "metadata": {},
     "source": [
      "Imports"
     ]
    },
    {
     "cell_type": "raw",
     "metadata": {},
     "source": [
      "# some_module.py",
      "PI = 3.14159",
      "",
      "def f(x):",
      "    return x + 2",
      "",
      "def g(a, b):",
      "    return a + b"
     ]
    },
    {
     "cell_type": "raw",
     "metadata": {},
     "source": [
      "import some_module",
      "result = some_module.f(5)",
      "pi = some_module.PI"
     ]
    },
    {
     "cell_type": "raw",
     "metadata": {},
     "source": [
      "from some_module import f, g, PI",
      "result = g(5, PI)"
     ]
    },
    {
     "cell_type": "raw",
     "metadata": {},
     "source": [
      "import some_module as sm",
      "from some_module import PI as pi, g as gf",
      "",
      "r1 = sm.f(pi)",
      "r2 = gf(6, pi)"
     ]
    },
    {
     "cell_type": "heading",
     "level": 4,
     "metadata": {},
     "source": [
      "Binary operators and comparisons"
     ]
    },
    {
     "cell_type": "code",
     "collapsed": false,
     "input": [
      "5 - 7",
      "12 + 21.5",
      "5 <= 2"
     ],
     "language": "python",
     "metadata": {},
     "outputs": []
    },
    {
     "cell_type": "code",
     "collapsed": false,
     "input": [
      "a = [1, 2, 3]",
      "b = a",
      "c = list(a)",
      "a is b",
      "a is not c"
     ],
     "language": "python",
     "metadata": {},
     "outputs": []
    },
    {
     "cell_type": "code",
     "collapsed": false,
     "input": [
      "a == c"
     ],
     "language": "python",
     "metadata": {},
     "outputs": []
    },
    {
     "cell_type": "code",
     "collapsed": false,
     "input": [
      "a = None",
      "a is None"
     ],
     "language": "python",
     "metadata": {},
     "outputs": []
    },
    {
     "cell_type": "heading",
     "level": 4,
     "metadata": {},
     "source": [
      "Mutable and immutable objects"
     ]
    },
    {
     "cell_type": "code",
     "collapsed": false,
     "input": [
      "a_list = ['foo', 2, [4, 5]]",
      "a_list[2] = (3, 4)",
      "a_list"
     ],
     "language": "python",
     "metadata": {},
     "outputs": []
    },
    {
     "cell_type": "code",
     "collapsed": false,
     "input": [
      "a_tuple = (3, 5, (4, 5))",
      "a_tuple[1] = 'four'"
     ],
     "language": "python",
     "metadata": {},
     "outputs": []
    },
    {
     "cell_type": "heading",
     "level": 3,
     "metadata": {},
     "source": [
      "Scalar Types"
     ]
    },
    {
     "cell_type": "heading",
     "level": 4,
     "metadata": {},
     "source": [
      "Numeric types"
     ]
    },
    {
     "cell_type": "code",
     "collapsed": false,
     "input": [
      "ival = 17239871",
      "ival ** 6"
     ],
     "language": "python",
     "metadata": {},
     "outputs": []
    },
    {
     "cell_type": "code",
     "collapsed": false,
     "input": [
      "fval = 7.243",
      "fval2 = 6.78e-5"
     ],
     "language": "python",
     "metadata": {},
     "outputs": []
    },
    {
     "cell_type": "code",
     "collapsed": false,
     "input": [
      "3 / 2"
     ],
     "language": "python",
     "metadata": {},
     "outputs": []
    },
    {
     "cell_type": "code",
     "collapsed": false,
     "input": [
      "3 // 2"
     ],
     "language": "python",
     "metadata": {},
     "outputs": []
    },
    {
     "cell_type": "heading",
     "level": 4,
     "metadata": {},
     "source": [
      "Strings"
     ]
    },
    {
     "cell_type": "raw",
     "metadata": {},
     "source": [
      "a = 'one way of writing a string'",
      "b = \"another way\""
     ]
    },
    {
     "cell_type": "code",
     "collapsed": false,
     "input": [
      "c = \"\"\"",
      "This is a longer string that",
      "spans multiple lines",
      "\"\"\""
     ],
     "language": "python",
     "metadata": {},
     "outputs": []
    },
    {
     "cell_type": "code",
     "collapsed": false,
     "input": [
      "c.count('\\n')"
     ],
     "language": "python",
     "metadata": {},
     "outputs": []
    },
    {
     "cell_type": "code",
     "collapsed": false,
     "input": [
      "a = 'this is a string'",
      "a[10] = 'f'",
      "b = a.replace('string', 'longer string')",
      "b"
     ],
     "language": "python",
     "metadata": {},
     "outputs": []
    },
    {
     "cell_type": "code",
     "collapsed": false,
     "input": [
      "a"
     ],
     "language": "python",
     "metadata": {},
     "outputs": []
    },
    {
     "cell_type": "code",
     "collapsed": false,
     "input": [
      "a = 5.6",
      "s = str(a)",
      "print(s)"
     ],
     "language": "python",
     "metadata": {},
     "outputs": []
    },
    {
     "cell_type": "code",
     "collapsed": false,
     "input": [
      "s = 'python'",
      "list(s)",
      "s[:3]"
     ],
     "language": "python",
     "metadata": {},
     "outputs": []
    },
    {
     "cell_type": "code",
     "collapsed": false,
     "input": [
      "s = '12\\\\34'",
      "print(s)"
     ],
     "language": "python",
     "metadata": {},
     "outputs": []
    },
    {
     "cell_type": "code",
     "collapsed": false,
     "input": [
      "s = r'this\\has\\no\\special\\characters'",
      "s"
     ],
     "language": "python",
     "metadata": {},
     "outputs": []
    },
    {
     "cell_type": "code",
     "collapsed": false,
     "input": [
      "a = 'this is the first half '",
      "b = 'and this is the second half'",
      "a + b"
     ],
     "language": "python",
     "metadata": {},
     "outputs": []
    },
    {
     "cell_type": "code",
     "collapsed": false,
     "input": [
      "template = '{0:.2f} {1:s} are worth US${2:d}'"
     ],
     "language": "python",
     "metadata": {},
     "outputs": []
    },
    {
     "cell_type": "code",
     "collapsed": false,
     "input": [
      "template.format(4.5560, 'Argentine Pesos', 1)"
     ],
     "language": "python",
     "metadata": {},
     "outputs": []
    },
    {
     "cell_type": "heading",
     "level": 4,
     "metadata": {},
     "source": [
      "Bytes and Unicode"
     ]
    },
    {
     "cell_type": "code",
     "collapsed": false,
     "input": [
      "val = \"espa\u00f1ol\"",
      "val"
     ],
     "language": "python",
     "metadata": {},
     "outputs": []
    },
    {
     "cell_type": "code",
     "collapsed": false,
     "input": [
      "val_utf8 = val.encode('utf-8')",
      "val_utf8",
      "type(val_utf8)"
     ],
     "language": "python",
     "metadata": {},
     "outputs": []
    },
    {
     "cell_type": "code",
     "collapsed": false,
     "input": [
      "val_utf8.decode('utf-8')"
     ],
     "language": "python",
     "metadata": {},
     "outputs": []
    },
    {
     "cell_type": "code",
     "collapsed": false,
     "input": [
      "val.encode('latin1')",
      "val.encode('utf-16')",
      "val.encode('utf-16le')"
     ],
     "language": "python",
     "metadata": {},
     "outputs": []
    },
    {
     "cell_type": "code",
     "collapsed": false,
     "input": [
      "bytes_val = b'this is bytes'",
      "bytes_val",
      "decoded = bytes_val.decode('utf8')",
      "decoded  # this is str (Unicode) now"
     ],
     "language": "python",
     "metadata": {},
     "outputs": []
    },
    {
     "cell_type": "heading",
     "level": 4,
     "metadata": {},
     "source": [
      "Booleans"
     ]
    },
    {
     "cell_type": "code",
     "collapsed": false,
     "input": [
      "True and True",
      "False or True"
     ],
     "language": "python",
     "metadata": {},
     "outputs": []
    },
    {
     "cell_type": "heading",
     "level": 4,
     "metadata": {},
     "source": [
      "Type casting"
     ]
    },
    {
     "cell_type": "code",
     "collapsed": false,
     "input": [
      "s = '3.14159'",
      "fval = float(s)",
      "type(fval)",
      "int(fval)",
      "bool(fval)",
      "bool(0)"
     ],
     "language": "python",
     "metadata": {},
     "outputs": []
    },
    {
     "cell_type": "heading",
     "level": 4,
     "metadata": {},
     "source": [
      "None"
     ]
    },
    {
     "cell_type": "code",
     "collapsed": false,
     "input": [
      "a = None",
      "a is None",
      "b = 5",
      "b is not None"
     ],
     "language": "python",
     "metadata": {},
     "outputs": []
    },
    {
     "cell_type": "raw",
     "metadata": {},
     "source": [
      "def add_and_maybe_multiply(a, b, c=None):",
      "    result = a + b",
      "",
      "    if c is not None:",
      "        result = result * c",
      "",
      "    return result"
     ]
    },
    {
     "cell_type": "code",
     "collapsed": false,
     "input": [
      "type(None)"
     ],
     "language": "python",
     "metadata": {},
     "outputs": []
    },
    {
     "cell_type": "heading",
     "level": 4,
     "metadata": {},
     "source": [
      "Dates and times"
     ]
    },
    {
     "cell_type": "code",
     "collapsed": false,
     "input": [
      "from datetime import datetime, date, time",
      "dt = datetime(2011, 10, 29, 20, 30, 21)",
      "dt.day",
      "dt.minute"
     ],
     "language": "python",
     "metadata": {},
     "outputs": []
    },
    {
     "cell_type": "code",
     "collapsed": false,
     "input": [
      "dt.date()",
      "dt.time()"
     ],
     "language": "python",
     "metadata": {},
     "outputs": []
    },
    {
     "cell_type": "code",
     "collapsed": false,
     "input": [
      "dt.strftime('%m/%d/%Y %H:%M')"
     ],
     "language": "python",
     "metadata": {},
     "outputs": []
    },
    {
     "cell_type": "code",
     "collapsed": false,
     "input": [
      "datetime.strptime('20091031', '%Y%m%d')"
     ],
     "language": "python",
     "metadata": {},
     "outputs": []
    },
    {
     "cell_type": "code",
     "collapsed": false,
     "input": [
      "dt.replace(minute=0, second=0)"
     ],
     "language": "python",
     "metadata": {},
     "outputs": []
    },
    {
     "cell_type": "code",
     "collapsed": false,
     "input": [
      "dt2 = datetime(2011, 11, 15, 22, 30)",
      "delta = dt2 - dt",
      "delta",
      "type(delta)"
     ],
     "language": "python",
     "metadata": {},
     "outputs": []
    },
    {
     "cell_type": "code",
     "collapsed": false,
     "input": [
      "dt",
      "dt + delta"
     ],
     "language": "python",
     "metadata": {},
     "outputs": []
    },
    {
     "cell_type": "heading",
     "level": 3,
     "metadata": {},
     "source": [
      "Control Flow"
     ]
    },
    {
     "cell_type": "heading",
     "level": 4,
     "metadata": {},
     "source": [
      "if, elif, and else"
     ]
    },
    {
     "cell_type": "raw",
     "metadata": {},
     "source": [
      "if x < 0:",
      "    print('It's negative')"
     ]
    },
    {
     "cell_type": "raw",
     "metadata": {},
     "source": [
      "if x < 0:",
      "    print('It's negative')",
      "elif x == 0:",
      "    print('Equal to zero')",
      "elif 0 < x < 5:",
      "    print('Positive but smaller than 5')",
      "else:",
      "    print('Positive and larger than or equal to 5')"
     ]
    },
    {
     "cell_type": "code",
     "collapsed": false,
     "input": [
      "a = 5; b = 7",
      "c = 8; d = 4",
      "if a < b or c > d:",
      "    print('Made it')"
     ],
     "language": "python",
     "metadata": {},
     "outputs": []
    },
    {
     "cell_type": "code",
     "collapsed": false,
     "input": [
      "4 > 3 > 2 > 1"
     ],
     "language": "python",
     "metadata": {},
     "outputs": []
    },
    {
     "cell_type": "heading",
     "level": 4,
     "metadata": {},
     "source": [
      "for loops"
     ]
    },
    {
     "cell_type": "raw",
     "metadata": {},
     "source": [
      "for value in collection:",
      "    # do something with value"
     ]
    },
    {
     "cell_type": "raw",
     "metadata": {},
     "source": [
      "sequence = [1, 2, None, 4, None, 5]",
      "total = 0",
      "for value in sequence:",
      "    if value is None:",
      "        continue",
      "    total += value"
     ]
    },
    {
     "cell_type": "raw",
     "metadata": {},
     "source": [
      "sequence = [1, 2, 0, 4, 6, 5, 2, 1]",
      "total_until_5 = 0",
      "for value in sequence:",
      "    if value == 5:",
      "        break",
      "    total_until_5 += value"
     ]
    },
    {
     "cell_type": "code",
     "collapsed": false,
     "input": [
      "for i in range(4):",
      "    for j in range(4):",
      "        if j > i:",
      "            break",
      "        print((i, j))"
     ],
     "language": "python",
     "metadata": {},
     "outputs": []
    },
    {
     "cell_type": "raw",
     "metadata": {},
     "source": [
      "for a, b, c in iterator:",
      "    # do something"
     ]
    },
    {
     "cell_type": "heading",
     "level": 4,
     "metadata": {},
     "source": [
      "while loops"
     ]
    },
    {
     "cell_type": "raw",
     "metadata": {},
     "source": [
      "x = 256",
      "total = 0",
      "while x > 0:",
      "    if total > 500:",
      "        break",
      "    total += x",
      "    x = x // 2"
     ]
    },
    {
     "cell_type": "heading",
     "level": 4,
     "metadata": {},
     "source": [
      "pass"
     ]
    },
    {
     "cell_type": "raw",
     "metadata": {},
     "source": [
      "if x < 0:",
      "    print('negative!')",
      "elif x == 0:",
      "    # TODO: put something smart here",
      "    pass",
      "else:",
      "    print('positive!')"
     ]
    },
    {
     "cell_type": "heading",
     "level": 4,
     "metadata": {},
     "source": [
      "range"
     ]
    },
    {
     "cell_type": "code",
     "collapsed": false,
     "input": [
      "range(10)",
      "list(range(10))"
     ],
     "language": "python",
     "metadata": {},
     "outputs": []
    },
    {
     "cell_type": "code",
     "collapsed": false,
     "input": [
      "list(range(0, 20, 2))",
      "list(range(5, 0, -1))"
     ],
     "language": "python",
     "metadata": {},
     "outputs": []
    },
    {
     "cell_type": "raw",
     "metadata": {},
     "source": [
      "seq = [1, 2, 3, 4]",
      "for i in range(len(seq)):",
      "    val = seq[i]"
     ]
    },
    {
     "cell_type": "raw",
     "metadata": {},
     "source": [
      "sum = 0",
      "for i in range(100000):",
      "    # % is the modulo operator",
      "    if i % 3 == 0 or i % 5 == 0:",
      "        sum += i"
     ]
    },
    {
     "cell_type": "heading",
     "level": 4,
     "metadata": {},
     "source": [
      "Ternary expressions"
     ]
    },
    {
     "cell_type": "raw",
     "metadata": {},
     "source": [
      "value = "
     ]
    },
    {
     "cell_type": "raw",
     "metadata": {},
     "source": [
      "if "
     ]
    },
    {
     "cell_type": "code",
     "collapsed": false,
     "input": [
      "x = 5",
      "'Non-negative' if x >= 0 else 'Negative'"
     ],
     "language": "python",
     "metadata": {},
     "outputs": []
    },
    {
     "cell_type": "code",
     "collapsed": false,
     "input": [
      "%popd"
     ],
     "language": "python",
     "metadata": {},
     "outputs": []
    }
   ],
   "metadata": {}
  }
 ]
}