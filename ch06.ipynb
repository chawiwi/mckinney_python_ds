{
 "metadata": {
  "name": "generated_ch06"
 },
 "nbformat": 3,
 "nbformat_minor": 0,
 "worksheets": [
  {
   "cells": [
    {
     "cell_type": "heading",
     "level": 1,
     "metadata": {},
     "source": [
      "Data Loading, Storage, "
     ]
    },
    {
     "cell_type": "code",
     "collapsed": false,
     "input": [
      "%pushd book-materials",
      "import numpy as np",
      "import pandas as pd",
      "np.random.seed(12345)",
      "import matplotlib.pyplot as plt",
      "plt.rc('figure', figsize=(10, 6))",
      "np.set_printoptions(precision=4, suppress=True)"
     ],
     "language": "python",
     "metadata": {},
     "outputs": []
    },
    {
     "cell_type": "heading",
     "level": 2,
     "metadata": {},
     "source": [
      "Reading and Writing Data in Text Format"
     ]
    },
    {
     "cell_type": "code",
     "collapsed": false,
     "input": [
      "!cat examples/ex1.csv"
     ],
     "language": "python",
     "metadata": {},
     "outputs": []
    },
    {
     "cell_type": "code",
     "collapsed": false,
     "input": [
      "df = pd.read_csv('examples/ex1.csv')",
      "df"
     ],
     "language": "python",
     "metadata": {},
     "outputs": []
    },
    {
     "cell_type": "code",
     "collapsed": false,
     "input": [
      "pd.read_table('examples/ex1.csv', sep=',')"
     ],
     "language": "python",
     "metadata": {},
     "outputs": []
    },
    {
     "cell_type": "code",
     "collapsed": false,
     "input": [
      "!cat examples/ex2.csv"
     ],
     "language": "python",
     "metadata": {},
     "outputs": []
    },
    {
     "cell_type": "code",
     "collapsed": false,
     "input": [
      "pd.read_csv('examples/ex2.csv', header=None)",
      "pd.read_csv('examples/ex2.csv', names=['a', 'b', 'c', 'd', 'message'])"
     ],
     "language": "python",
     "metadata": {},
     "outputs": []
    },
    {
     "cell_type": "code",
     "collapsed": false,
     "input": [
      "names = ['a', 'b', 'c', 'd', 'message']",
      "pd.read_csv('examples/ex2.csv', names=names, index_col='message')"
     ],
     "language": "python",
     "metadata": {},
     "outputs": []
    },
    {
     "cell_type": "code",
     "collapsed": false,
     "input": [
      "!cat examples/csv_mindex.csv",
      "parsed = pd.read_csv('examples/csv_mindex.csv',",
      "                     index_col=['key1', 'key2'])",
      "parsed"
     ],
     "language": "python",
     "metadata": {},
     "outputs": []
    },
    {
     "cell_type": "code",
     "collapsed": false,
     "input": [
      "list(open('examples/ex3.txt'))"
     ],
     "language": "python",
     "metadata": {},
     "outputs": []
    },
    {
     "cell_type": "code",
     "collapsed": false,
     "input": [
      "result = pd.read_table('examples/ex3.txt', sep='\\s+')",
      "result"
     ],
     "language": "python",
     "metadata": {},
     "outputs": []
    },
    {
     "cell_type": "code",
     "collapsed": false,
     "input": [
      "!cat examples/ex4.csv",
      "pd.read_csv('examples/ex4.csv', skiprows=[0, 2, 3])"
     ],
     "language": "python",
     "metadata": {},
     "outputs": []
    },
    {
     "cell_type": "code",
     "collapsed": false,
     "input": [
      "!cat examples/ex5.csv",
      "result = pd.read_csv('examples/ex5.csv')",
      "result",
      "pd.isnull(result)"
     ],
     "language": "python",
     "metadata": {},
     "outputs": []
    },
    {
     "cell_type": "code",
     "collapsed": false,
     "input": [
      "result = pd.read_csv('examples/ex5.csv', na_values=['NULL'])",
      "result"
     ],
     "language": "python",
     "metadata": {},
     "outputs": []
    },
    {
     "cell_type": "code",
     "collapsed": false,
     "input": [
      "sentinels = {'message': ['foo', 'NA'], 'something': ['two']}",
      "pd.read_csv('examples/ex5.csv', na_values=sentinels)"
     ],
     "language": "python",
     "metadata": {},
     "outputs": []
    },
    {
     "cell_type": "heading",
     "level": 3,
     "metadata": {},
     "source": [
      "Reading Text Files in Pieces"
     ]
    },
    {
     "cell_type": "code",
     "collapsed": false,
     "input": [
      "pd.options.display.max_rows = 10"
     ],
     "language": "python",
     "metadata": {},
     "outputs": []
    },
    {
     "cell_type": "code",
     "collapsed": false,
     "input": [
      "result = pd.read_csv('examples/ex6.csv')",
      "result"
     ],
     "language": "python",
     "metadata": {},
     "outputs": []
    },
    {
     "cell_type": "code",
     "collapsed": false,
     "input": [
      "pd.read_csv('examples/ex6.csv', nrows=5)"
     ],
     "language": "python",
     "metadata": {},
     "outputs": []
    },
    {
     "cell_type": "code",
     "collapsed": false,
     "input": [
      "chunker = pd.read_csv('examples/ex6.csv', chunksize=1000)",
      "chunker"
     ],
     "language": "python",
     "metadata": {},
     "outputs": []
    },
    {
     "cell_type": "code",
     "collapsed": false,
     "input": [
      "chunker = pd.read_csv('examples/ex6.csv', chunksize=1000)",
      "",
      "tot = pd.Series([])",
      "for piece in chunker:",
      "    tot = tot.add(piece['key'].value_counts(), fill_value=0)",
      "",
      "tot = tot.sort_values(ascending=False)"
     ],
     "language": "python",
     "metadata": {},
     "outputs": []
    },
    {
     "cell_type": "code",
     "collapsed": false,
     "input": [
      "tot[:10]"
     ],
     "language": "python",
     "metadata": {},
     "outputs": []
    },
    {
     "cell_type": "heading",
     "level": 3,
     "metadata": {},
     "source": [
      "Writing Data to Text Format"
     ]
    },
    {
     "cell_type": "code",
     "collapsed": false,
     "input": [
      "data = pd.read_csv('examples/ex5.csv')",
      "data"
     ],
     "language": "python",
     "metadata": {},
     "outputs": []
    },
    {
     "cell_type": "code",
     "collapsed": false,
     "input": [
      "data.to_csv('examples/out.csv')",
      "!cat examples/out.csv"
     ],
     "language": "python",
     "metadata": {},
     "outputs": []
    },
    {
     "cell_type": "code",
     "collapsed": false,
     "input": [
      "import sys",
      "data.to_csv(sys.stdout, sep='|')"
     ],
     "language": "python",
     "metadata": {},
     "outputs": []
    },
    {
     "cell_type": "code",
     "collapsed": false,
     "input": [
      "data.to_csv(sys.stdout, na_rep='NULL')"
     ],
     "language": "python",
     "metadata": {},
     "outputs": []
    },
    {
     "cell_type": "code",
     "collapsed": false,
     "input": [
      "data.to_csv(sys.stdout, index=False, header=False)"
     ],
     "language": "python",
     "metadata": {},
     "outputs": []
    },
    {
     "cell_type": "code",
     "collapsed": false,
     "input": [
      "data.to_csv(sys.stdout, index=False, columns=['a', 'b', 'c'])"
     ],
     "language": "python",
     "metadata": {},
     "outputs": []
    },
    {
     "cell_type": "code",
     "collapsed": false,
     "input": [
      "dates = pd.date_range('1/1/2000', periods=7)",
      "ts = pd.Series(np.arange(7), index=dates)",
      "ts.to_csv('examples/tseries.csv')",
      "!cat examples/tseries.csv"
     ],
     "language": "python",
     "metadata": {},
     "outputs": []
    },
    {
     "cell_type": "heading",
     "level": 3,
     "metadata": {},
     "source": [
      "Working with Delimited Formats"
     ]
    },
    {
     "cell_type": "code",
     "collapsed": false,
     "input": [
      "!cat examples/ex7.csv"
     ],
     "language": "python",
     "metadata": {},
     "outputs": []
    },
    {
     "cell_type": "code",
     "collapsed": false,
     "input": [
      "import csv",
      "f = open('examples/ex7.csv')",
      "",
      "reader = csv.reader(f)"
     ],
     "language": "python",
     "metadata": {},
     "outputs": []
    },
    {
     "cell_type": "code",
     "collapsed": false,
     "input": [
      "for line in reader:",
      "    print(line)"
     ],
     "language": "python",
     "metadata": {},
     "outputs": []
    },
    {
     "cell_type": "code",
     "collapsed": false,
     "input": [
      "with open('examples/ex7.csv') as f:",
      "    lines = list(csv.reader(f))"
     ],
     "language": "python",
     "metadata": {},
     "outputs": []
    },
    {
     "cell_type": "code",
     "collapsed": false,
     "input": [
      "header, values = lines[0], lines[1:]"
     ],
     "language": "python",
     "metadata": {},
     "outputs": []
    },
    {
     "cell_type": "code",
     "collapsed": false,
     "input": [
      "data_dict = {h: v for h, v in zip(header, zip(*values))}",
      "data_dict"
     ],
     "language": "python",
     "metadata": {},
     "outputs": []
    },
    {
     "cell_type": "raw",
     "metadata": {},
     "source": [
      "class my_dialect(csv.Dialect):",
      "    lineterminator = '\\n'",
      "    delimiter = ';'",
      "    quotechar = '\"'",
      "    quoting = csv.QUOTE_MINIMAL"
     ]
    },
    {
     "cell_type": "raw",
     "metadata": {},
     "source": [
      "reader = csv.reader(f, dialect=my_dialect)"
     ]
    },
    {
     "cell_type": "raw",
     "metadata": {},
     "source": [
      "reader = csv.reader(f, delimiter='|')"
     ]
    },
    {
     "cell_type": "raw",
     "metadata": {},
     "source": [
      "with open('mydata.csv', 'w') as f:",
      "    writer = csv.writer(f, dialect=my_dialect)",
      "    writer.writerow(('one', 'two', 'three'))",
      "    writer.writerow(('1', '2', '3'))",
      "    writer.writerow(('4', '5', '6'))",
      "    writer.writerow(('7', '8', '9'))"
     ]
    },
    {
     "cell_type": "heading",
     "level": 3,
     "metadata": {},
     "source": [
      "JSON Data"
     ]
    },
    {
     "cell_type": "code",
     "collapsed": false,
     "input": [
      "obj = \"\"\"",
      "{\"name\": \"Wes\",",
      " \"places_lived\": [\"United States\", \"Spain\", \"Germany\"],",
      " \"pet\": null,",
      " \"siblings\": [{\"name\": \"Scott\", \"age\": 30, \"pets\": [\"Zeus\", \"Zuko\"]},",
      "              {\"name\": \"Katie\", \"age\": 38,",
      "               \"pets\": [\"Sixes\", \"Stache\", \"Cisco\"]}]",
      "}",
      "\"\"\""
     ],
     "language": "python",
     "metadata": {},
     "outputs": []
    },
    {
     "cell_type": "code",
     "collapsed": false,
     "input": [
      "import json",
      "result = json.loads(obj)",
      "result"
     ],
     "language": "python",
     "metadata": {},
     "outputs": []
    },
    {
     "cell_type": "code",
     "collapsed": false,
     "input": [
      "asjson = json.dumps(result)"
     ],
     "language": "python",
     "metadata": {},
     "outputs": []
    },
    {
     "cell_type": "code",
     "collapsed": false,
     "input": [
      "siblings = pd.DataFrame(result['siblings'], columns=['name', 'age'])",
      "siblings"
     ],
     "language": "python",
     "metadata": {},
     "outputs": []
    },
    {
     "cell_type": "code",
     "collapsed": false,
     "input": [
      "!cat examples/example.json"
     ],
     "language": "python",
     "metadata": {},
     "outputs": []
    },
    {
     "cell_type": "code",
     "collapsed": false,
     "input": [
      "data = pd.read_json('examples/example.json')",
      "data"
     ],
     "language": "python",
     "metadata": {},
     "outputs": []
    },
    {
     "cell_type": "code",
     "collapsed": false,
     "input": [
      "print(data.to_json())",
      "print(data.to_json(orient='records'))"
     ],
     "language": "python",
     "metadata": {},
     "outputs": []
    },
    {
     "cell_type": "heading",
     "level": 3,
     "metadata": {},
     "source": [
      "XML and HTML: Web Scraping"
     ]
    },
    {
     "cell_type": "raw",
     "metadata": {},
     "source": [
      "conda install lxml",
      "pip install beautifulsoup4 html5lib"
     ]
    },
    {
     "cell_type": "code",
     "collapsed": false,
     "input": [
      "tables = pd.read_html('examples/fdic_failed_bank_list.html')",
      "len(tables)",
      "failures = tables[0]",
      "failures.head()"
     ],
     "language": "python",
     "metadata": {},
     "outputs": []
    },
    {
     "cell_type": "code",
     "collapsed": false,
     "input": [
      "close_timestamps = pd.to_datetime(failures['Closing Date'])",
      "close_timestamps.dt.year.value_counts()"
     ],
     "language": "python",
     "metadata": {},
     "outputs": []
    },
    {
     "cell_type": "heading",
     "level": 4,
     "metadata": {},
     "source": [
      "Parsing XML with lxml.objectify"
     ]
    },
    {
     "cell_type": "raw",
     "metadata": {},
     "source": [
      "<INDICATOR>",
      "  <INDICATOR_SEQ>373889</INDICATOR_SEQ>",
      "  <PARENT_SEQ></PARENT_SEQ>",
      "  <AGENCY_NAME>Metro-North Railroad</AGENCY_NAME>",
      "  <INDICATOR_NAME>Escalator Availability</INDICATOR_NAME>",
      "  <DESCRIPTION>Percent of the time that escalators are operational",
      "  systemwide. The availability rate is based on physical observations performed",
      "  the morning of regular business days only. This is a new indicator the agency",
      "  began reporting in 2009.</DESCRIPTION>",
      "  <PERIOD_YEAR>2011</PERIOD_YEAR>",
      "  <PERIOD_MONTH>12</PERIOD_MONTH>",
      "  <CATEGORY>Service Indicators</CATEGORY>",
      "  <FREQUENCY>M</FREQUENCY>",
      "  <DESIRED_CHANGE>U</DESIRED_CHANGE>",
      "  <INDICATOR_UNIT>%</INDICATOR_UNIT>",
      "  <DECIMAL_PLACES>1</DECIMAL_PLACES>",
      "  <YTD_TARGET>97.00</YTD_TARGET>",
      "  <YTD_ACTUAL></YTD_ACTUAL>",
      "  <MONTHLY_TARGET>97.00</MONTHLY_TARGET>",
      "  <MONTHLY_ACTUAL></MONTHLY_ACTUAL>",
      "</INDICATOR>"
     ]
    },
    {
     "cell_type": "code",
     "collapsed": false,
     "input": [
      "from lxml import objectify",
      "",
      "path = 'examples/mta_perf/Performance_MNR.xml'",
      "parsed = objectify.parse(open(path))",
      "root = parsed.getroot()"
     ],
     "language": "python",
     "metadata": {},
     "outputs": []
    },
    {
     "cell_type": "code",
     "collapsed": false,
     "input": [
      "data = []",
      "",
      "skip_fields = ['PARENT_SEQ', 'INDICATOR_SEQ',",
      "               'DESIRED_CHANGE', 'DECIMAL_PLACES']",
      "",
      "for elt in root.INDICATOR:",
      "    el_data = {}",
      "    for child in elt.getchildren():",
      "        if child.tag in skip_fields:",
      "            continue",
      "        el_data[child.tag] = child.pyval",
      "    data.append(el_data)"
     ],
     "language": "python",
     "metadata": {},
     "outputs": []
    },
    {
     "cell_type": "code",
     "collapsed": false,
     "input": [
      "perf = pd.DataFrame(data)",
      "perf.head()"
     ],
     "language": "python",
     "metadata": {},
     "outputs": []
    },
    {
     "cell_type": "code",
     "collapsed": false,
     "input": [
      "from io import StringIO",
      "tag = '<a href=\"http://www.google.com\">Google</a>'",
      "root = objectify.parse(StringIO(tag)).getroot()"
     ],
     "language": "python",
     "metadata": {},
     "outputs": []
    },
    {
     "cell_type": "code",
     "collapsed": false,
     "input": [
      "root",
      "root.get('href')",
      "root.text"
     ],
     "language": "python",
     "metadata": {},
     "outputs": []
    },
    {
     "cell_type": "heading",
     "level": 2,
     "metadata": {},
     "source": [
      "Binary Data Formats"
     ]
    },
    {
     "cell_type": "code",
     "collapsed": false,
     "input": [
      "frame = pd.read_csv('examples/ex1.csv')",
      "frame",
      "frame.to_pickle('examples/frame_pickle')"
     ],
     "language": "python",
     "metadata": {},
     "outputs": []
    },
    {
     "cell_type": "code",
     "collapsed": false,
     "input": [
      "pd.read_pickle('examples/frame_pickle')"
     ],
     "language": "python",
     "metadata": {},
     "outputs": []
    },
    {
     "cell_type": "code",
     "collapsed": false,
     "input": [
      "!rm examples/frame_pickle"
     ],
     "language": "python",
     "metadata": {},
     "outputs": []
    },
    {
     "cell_type": "heading",
     "level": 3,
     "metadata": {},
     "source": [
      "Using HDF5 Format"
     ]
    },
    {
     "cell_type": "code",
     "collapsed": false,
     "input": [
      "frame = pd.DataFrame({'a': np.random.randn(100)})",
      "store = pd.HDFStore('mydata.h5')",
      "store['obj1'] = frame",
      "store['obj1_col'] = frame['a']",
      "store"
     ],
     "language": "python",
     "metadata": {},
     "outputs": []
    },
    {
     "cell_type": "code",
     "collapsed": false,
     "input": [
      "store['obj1']"
     ],
     "language": "python",
     "metadata": {},
     "outputs": []
    },
    {
     "cell_type": "code",
     "collapsed": false,
     "input": [
      "store.put('obj2', frame, format='table')",
      "store.select('obj2', where=['index >= 10 and index <= 15'])",
      "store.close()"
     ],
     "language": "python",
     "metadata": {},
     "outputs": []
    },
    {
     "cell_type": "code",
     "collapsed": false,
     "input": [
      "frame.to_hdf('mydata.h5', 'obj3', format='table')",
      "pd.read_hdf('mydata.h5', 'obj3', where=['index < 5'])"
     ],
     "language": "python",
     "metadata": {},
     "outputs": []
    },
    {
     "cell_type": "code",
     "collapsed": false,
     "input": [
      "os.remove('mydata.h5')"
     ],
     "language": "python",
     "metadata": {},
     "outputs": []
    },
    {
     "cell_type": "heading",
     "level": 3,
     "metadata": {},
     "source": [
      "Reading Microsoft Excel Files"
     ]
    },
    {
     "cell_type": "code",
     "collapsed": false,
     "input": [
      "xlsx = pd.ExcelFile('examples/ex1.xlsx')"
     ],
     "language": "python",
     "metadata": {},
     "outputs": []
    },
    {
     "cell_type": "code",
     "collapsed": false,
     "input": [
      "pd.read_excel(xlsx, 'Sheet1')"
     ],
     "language": "python",
     "metadata": {},
     "outputs": []
    },
    {
     "cell_type": "code",
     "collapsed": false,
     "input": [
      "frame = pd.read_excel('examples/ex1.xlsx', 'Sheet1')",
      "frame"
     ],
     "language": "python",
     "metadata": {},
     "outputs": []
    },
    {
     "cell_type": "code",
     "collapsed": false,
     "input": [
      "writer = pd.ExcelWriter('examples/ex2.xlsx')",
      "frame.to_excel(writer, 'Sheet1')",
      "writer.save()"
     ],
     "language": "python",
     "metadata": {},
     "outputs": []
    },
    {
     "cell_type": "code",
     "collapsed": false,
     "input": [
      "frame.to_excel('examples/ex2.xlsx')"
     ],
     "language": "python",
     "metadata": {},
     "outputs": []
    },
    {
     "cell_type": "code",
     "collapsed": false,
     "input": [
      "!rm examples/ex2.xlsx"
     ],
     "language": "python",
     "metadata": {},
     "outputs": []
    },
    {
     "cell_type": "heading",
     "level": 2,
     "metadata": {},
     "source": [
      "Interacting with Web APIs"
     ]
    },
    {
     "cell_type": "code",
     "collapsed": false,
     "input": [
      "import requests",
      "url = 'https://api.github.com/repos/pandas-dev/pandas/issues'",
      "resp = requests.get(url)",
      "resp"
     ],
     "language": "python",
     "metadata": {},
     "outputs": []
    },
    {
     "cell_type": "code",
     "collapsed": false,
     "input": [
      "data = resp.json()",
      "data[0]['title']"
     ],
     "language": "python",
     "metadata": {},
     "outputs": []
    },
    {
     "cell_type": "code",
     "collapsed": false,
     "input": [
      "issues = pd.DataFrame(data, columns=['number', 'title',",
      "                                     'labels', 'state'])",
      "issues"
     ],
     "language": "python",
     "metadata": {},
     "outputs": []
    },
    {
     "cell_type": "heading",
     "level": 2,
     "metadata": {},
     "source": [
      "Interacting with Databases"
     ]
    },
    {
     "cell_type": "code",
     "collapsed": false,
     "input": [
      "import sqlite3",
      "query = \"\"\"",
      "CREATE TABLE test",
      "(a VARCHAR(20), b VARCHAR(20),",
      " c REAL,        d INTEGER",
      ");\"\"\"",
      "con = sqlite3.connect('mydata.sqlite')",
      "con.execute(query)",
      "con.commit()"
     ],
     "language": "python",
     "metadata": {},
     "outputs": []
    },
    {
     "cell_type": "code",
     "collapsed": false,
     "input": [
      "data = [('Atlanta', 'Georgia', 1.25, 6),",
      "        ('Tallahassee', 'Florida', 2.6, 3),",
      "        ('Sacramento', 'California', 1.7, 5)]",
      "stmt = \"INSERT INTO test VALUES(?, ?, ?, ?)\"",
      "con.executemany(stmt, data)",
      "con.commit()"
     ],
     "language": "python",
     "metadata": {},
     "outputs": []
    },
    {
     "cell_type": "code",
     "collapsed": false,
     "input": [
      "cursor = con.execute('select * from test')",
      "rows = cursor.fetchall()",
      "rows"
     ],
     "language": "python",
     "metadata": {},
     "outputs": []
    },
    {
     "cell_type": "code",
     "collapsed": false,
     "input": [
      "cursor.description",
      "pd.DataFrame(rows, columns=[x[0] for x in cursor.description])"
     ],
     "language": "python",
     "metadata": {},
     "outputs": []
    },
    {
     "cell_type": "code",
     "collapsed": false,
     "input": [
      "import sqlalchemy as sqla",
      "db = sqla.create_engine('sqlite:///mydata.sqlite')",
      "pd.read_sql('select * from test', db)"
     ],
     "language": "python",
     "metadata": {},
     "outputs": []
    },
    {
     "cell_type": "code",
     "collapsed": false,
     "input": [
      "!rm mydata.sqlite"
     ],
     "language": "python",
     "metadata": {},
     "outputs": []
    },
    {
     "cell_type": "code",
     "collapsed": false,
     "input": [
      "%popd"
     ],
     "language": "python",
     "metadata": {},
     "outputs": []
    },
    {
     "cell_type": "heading",
     "level": 2,
     "metadata": {},
     "source": [
      "Conclusion"
     ]
    }
   ],
   "metadata": {}
  }
 ]
}