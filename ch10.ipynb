{
 "metadata": {
  "name": "generated_ch10"
 },
 "nbformat": 3,
 "nbformat_minor": 0,
 "worksheets": [
  {
   "cells": [
    {
     "cell_type": "heading",
     "level": 1,
     "metadata": {},
     "source": [
      "Data Aggregation and "
     ]
    },
    {
     "cell_type": "code",
     "collapsed": false,
     "input": [
      "%pushd book-materials",
      "import numpy as np",
      "import pandas as pd",
      "PREVIOUS_MAX_ROWS = pd.options.display.max_rows",
      "pd.options.display.max_rows = 20",
      "np.random.seed(12345)",
      "import matplotlib.pyplot as plt",
      "plt.rc('figure', figsize=(10, 6))",
      "np.set_printoptions(precision=4, suppress=True)"
     ],
     "language": "python",
     "metadata": {},
     "outputs": []
    },
    {
     "cell_type": "heading",
     "level": 2,
     "metadata": {},
     "source": [
      "GroupBy Mechanics"
     ]
    },
    {
     "cell_type": "code",
     "collapsed": false,
     "input": [
      "df = pd.DataFrame({'key1' : ['a', 'a', 'b', 'b', 'a'],",
      "                   'key2' : ['one', 'two', 'one', 'two', 'one'],",
      "                   'data1' : np.random.randn(5),",
      "                   'data2' : np.random.randn(5)})",
      "df"
     ],
     "language": "python",
     "metadata": {},
     "outputs": []
    },
    {
     "cell_type": "code",
     "collapsed": false,
     "input": [
      "grouped = df['data1'].groupby(df['key1'])",
      "grouped"
     ],
     "language": "python",
     "metadata": {},
     "outputs": []
    },
    {
     "cell_type": "code",
     "collapsed": false,
     "input": [
      "grouped.mean()"
     ],
     "language": "python",
     "metadata": {},
     "outputs": []
    },
    {
     "cell_type": "code",
     "collapsed": false,
     "input": [
      "means = df['data1'].groupby([df['key1'], df['key2']]).mean()",
      "means"
     ],
     "language": "python",
     "metadata": {},
     "outputs": []
    },
    {
     "cell_type": "code",
     "collapsed": false,
     "input": [
      "means.unstack()"
     ],
     "language": "python",
     "metadata": {},
     "outputs": []
    },
    {
     "cell_type": "code",
     "collapsed": false,
     "input": [
      "states = np.array(['Ohio', 'California', 'California', 'Ohio', 'Ohio'])",
      "years = np.array([2005, 2005, 2006, 2005, 2006])",
      "df['data1'].groupby([states, years]).mean()"
     ],
     "language": "python",
     "metadata": {},
     "outputs": []
    },
    {
     "cell_type": "code",
     "collapsed": false,
     "input": [
      "df.groupby('key1').mean()",
      "df.groupby(['key1', 'key2']).mean()"
     ],
     "language": "python",
     "metadata": {},
     "outputs": []
    },
    {
     "cell_type": "code",
     "collapsed": false,
     "input": [
      "df.groupby(['key1', 'key2']).size()"
     ],
     "language": "python",
     "metadata": {},
     "outputs": []
    },
    {
     "cell_type": "heading",
     "level": 3,
     "metadata": {},
     "source": [
      "Iterating Over Groups"
     ]
    },
    {
     "cell_type": "code",
     "collapsed": false,
     "input": [
      "for name, group in df.groupby('key1'):",
      "    print(name)",
      "    print(group)"
     ],
     "language": "python",
     "metadata": {},
     "outputs": []
    },
    {
     "cell_type": "code",
     "collapsed": false,
     "input": [
      "for (k1, k2), group in df.groupby(['key1', 'key2']):",
      "    print((k1, k2))",
      "    print(group)"
     ],
     "language": "python",
     "metadata": {},
     "outputs": []
    },
    {
     "cell_type": "code",
     "collapsed": false,
     "input": [
      "pieces = dict(list(df.groupby('key1')))",
      "pieces['b']"
     ],
     "language": "python",
     "metadata": {},
     "outputs": []
    },
    {
     "cell_type": "code",
     "collapsed": false,
     "input": [
      "df.dtypes",
      "grouped = df.groupby(df.dtypes, axis=1)"
     ],
     "language": "python",
     "metadata": {},
     "outputs": []
    },
    {
     "cell_type": "code",
     "collapsed": false,
     "input": [
      "for dtype, group in grouped:",
      "    print(dtype)",
      "    print(group)"
     ],
     "language": "python",
     "metadata": {},
     "outputs": []
    },
    {
     "cell_type": "heading",
     "level": 3,
     "metadata": {},
     "source": [
      "Selecting a Column or Subset of Columns"
     ]
    },
    {
     "cell_type": "raw",
     "metadata": {},
     "source": [
      "df.groupby('key1')['data1']",
      "df.groupby('key1')[['data2']]"
     ]
    },
    {
     "cell_type": "raw",
     "metadata": {},
     "source": [
      "df['data1'].groupby(df['key1'])",
      "df[['data2']].groupby(df['key1'])"
     ]
    },
    {
     "cell_type": "code",
     "collapsed": false,
     "input": [
      "df.groupby(['key1', 'key2'])[['data2']].mean()"
     ],
     "language": "python",
     "metadata": {},
     "outputs": []
    },
    {
     "cell_type": "code",
     "collapsed": false,
     "input": [
      "s_grouped = df.groupby(['key1', 'key2'])['data2']",
      "s_grouped",
      "s_grouped.mean()"
     ],
     "language": "python",
     "metadata": {},
     "outputs": []
    },
    {
     "cell_type": "heading",
     "level": 3,
     "metadata": {},
     "source": [
      "Grouping with Dicts and Series"
     ]
    },
    {
     "cell_type": "code",
     "collapsed": false,
     "input": [
      "people = pd.DataFrame(np.random.randn(5, 5),",
      "                      columns=['a', 'b', 'c', 'd', 'e'],",
      "                      index=['Joe', 'Steve', 'Wes', 'Jim', 'Travis'])",
      "people.iloc[2:3, [1, 2]] = np.nan # Add a few NA values",
      "people"
     ],
     "language": "python",
     "metadata": {},
     "outputs": []
    },
    {
     "cell_type": "code",
     "collapsed": false,
     "input": [
      "mapping = {'a': 'red', 'b': 'red', 'c': 'blue',",
      "           'd': 'blue', 'e': 'red', 'f' : 'orange'}"
     ],
     "language": "python",
     "metadata": {},
     "outputs": []
    },
    {
     "cell_type": "code",
     "collapsed": false,
     "input": [
      "by_column = people.groupby(mapping, axis=1)",
      "by_column.sum()"
     ],
     "language": "python",
     "metadata": {},
     "outputs": []
    },
    {
     "cell_type": "code",
     "collapsed": false,
     "input": [
      "map_series = pd.Series(mapping)",
      "map_series",
      "people.groupby(map_series, axis=1).count()"
     ],
     "language": "python",
     "metadata": {},
     "outputs": []
    },
    {
     "cell_type": "heading",
     "level": 3,
     "metadata": {},
     "source": [
      "Grouping with Functions"
     ]
    },
    {
     "cell_type": "code",
     "collapsed": false,
     "input": [
      "people.groupby(len).sum()"
     ],
     "language": "python",
     "metadata": {},
     "outputs": []
    },
    {
     "cell_type": "code",
     "collapsed": false,
     "input": [
      "key_list = ['one', 'one', 'one', 'two', 'two']",
      "people.groupby([len, key_list]).min()"
     ],
     "language": "python",
     "metadata": {},
     "outputs": []
    },
    {
     "cell_type": "heading",
     "level": 3,
     "metadata": {},
     "source": [
      "Grouping by Index Levels"
     ]
    },
    {
     "cell_type": "code",
     "collapsed": false,
     "input": [
      "columns = pd.MultiIndex.from_arrays([['US', 'US', 'US', 'JP', 'JP'],",
      "                                    [1, 3, 5, 1, 3]],",
      "                                    names=['cty', 'tenor'])",
      "hier_df = pd.DataFrame(np.random.randn(4, 5), columns=columns)",
      "hier_df"
     ],
     "language": "python",
     "metadata": {},
     "outputs": []
    },
    {
     "cell_type": "code",
     "collapsed": false,
     "input": [
      "hier_df.groupby(level='cty', axis=1).count()"
     ],
     "language": "python",
     "metadata": {},
     "outputs": []
    },
    {
     "cell_type": "heading",
     "level": 2,
     "metadata": {},
     "source": [
      "Data Aggregation"
     ]
    },
    {
     "cell_type": "code",
     "collapsed": false,
     "input": [
      "df",
      "grouped = df.groupby('key1')",
      "grouped['data1'].quantile(0.9)"
     ],
     "language": "python",
     "metadata": {},
     "outputs": []
    },
    {
     "cell_type": "code",
     "collapsed": false,
     "input": [
      "def peak_to_peak(arr):",
      "    return arr.max() - arr.min()",
      "grouped.agg(peak_to_peak)"
     ],
     "language": "python",
     "metadata": {},
     "outputs": []
    },
    {
     "cell_type": "code",
     "collapsed": false,
     "input": [
      "grouped.describe()"
     ],
     "language": "python",
     "metadata": {},
     "outputs": []
    },
    {
     "cell_type": "heading",
     "level": 3,
     "metadata": {},
     "source": [
      "Column-Wise and Multiple Function Application"
     ]
    },
    {
     "cell_type": "code",
     "collapsed": false,
     "input": [
      "tips = pd.read_csv('examples/tips.csv')",
      "# Add tip percentage of total bill",
      "tips['tip_pct'] = tips['tip'] / tips['total_bill']",
      "tips[:6]"
     ],
     "language": "python",
     "metadata": {},
     "outputs": []
    },
    {
     "cell_type": "code",
     "collapsed": false,
     "input": [
      "grouped = tips.groupby(['day', 'smoker'])"
     ],
     "language": "python",
     "metadata": {},
     "outputs": []
    },
    {
     "cell_type": "code",
     "collapsed": false,
     "input": [
      "grouped_pct = grouped['tip_pct']",
      "grouped_pct.agg('mean')"
     ],
     "language": "python",
     "metadata": {},
     "outputs": []
    },
    {
     "cell_type": "code",
     "collapsed": false,
     "input": [
      "grouped_pct.agg(['mean', 'std', peak_to_peak])"
     ],
     "language": "python",
     "metadata": {},
     "outputs": []
    },
    {
     "cell_type": "code",
     "collapsed": false,
     "input": [
      "grouped_pct.agg([('foo', 'mean'), ('bar', np.std)])"
     ],
     "language": "python",
     "metadata": {},
     "outputs": []
    },
    {
     "cell_type": "code",
     "collapsed": false,
     "input": [
      "functions = ['count', 'mean', 'max']",
      "result = grouped['tip_pct', 'total_bill'].agg(functions)",
      "result"
     ],
     "language": "python",
     "metadata": {},
     "outputs": []
    },
    {
     "cell_type": "code",
     "collapsed": false,
     "input": [
      "result['tip_pct']"
     ],
     "language": "python",
     "metadata": {},
     "outputs": []
    },
    {
     "cell_type": "code",
     "collapsed": false,
     "input": [
      "ftuples = [('Durchschnitt', 'mean'), ('Abweichung', np.var)]",
      "grouped['tip_pct', 'total_bill'].agg(ftuples)"
     ],
     "language": "python",
     "metadata": {},
     "outputs": []
    },
    {
     "cell_type": "code",
     "collapsed": false,
     "input": [
      "grouped.agg({'tip' : np.max, 'size' : 'sum'})",
      "grouped.agg({'tip_pct' : ['min', 'max', 'mean', 'std'],",
      "             'size' : 'sum'})"
     ],
     "language": "python",
     "metadata": {},
     "outputs": []
    },
    {
     "cell_type": "heading",
     "level": 3,
     "metadata": {},
     "source": [
      "Returning Aggregated Data Without Row Indexes"
     ]
    },
    {
     "cell_type": "code",
     "collapsed": false,
     "input": [
      "tips.groupby(['day', 'smoker'], as_index=False).mean()"
     ],
     "language": "python",
     "metadata": {},
     "outputs": []
    },
    {
     "cell_type": "heading",
     "level": 2,
     "metadata": {},
     "source": [
      "Apply: General split-apply-combine"
     ]
    },
    {
     "cell_type": "code",
     "collapsed": false,
     "input": [
      "def top(df, n=5, column='tip_pct'):",
      "    return df.sort_values(by=column)[-n:]",
      "top(tips, n=6)"
     ],
     "language": "python",
     "metadata": {},
     "outputs": []
    },
    {
     "cell_type": "code",
     "collapsed": false,
     "input": [
      "tips.groupby('smoker').apply(top)"
     ],
     "language": "python",
     "metadata": {},
     "outputs": []
    },
    {
     "cell_type": "code",
     "collapsed": false,
     "input": [
      "tips.groupby(['smoker', 'day']).apply(top, n=1, column='total_bill')"
     ],
     "language": "python",
     "metadata": {},
     "outputs": []
    },
    {
     "cell_type": "code",
     "collapsed": false,
     "input": [
      "result = tips.groupby('smoker')['tip_pct'].describe()",
      "result",
      "result.unstack('smoker')"
     ],
     "language": "python",
     "metadata": {},
     "outputs": []
    },
    {
     "cell_type": "raw",
     "metadata": {},
     "source": [
      "f = lambda x: x.describe()",
      "grouped.apply(f)"
     ]
    },
    {
     "cell_type": "heading",
     "level": 3,
     "metadata": {},
     "source": [
      "Suppressing the Group Keys"
     ]
    },
    {
     "cell_type": "code",
     "collapsed": false,
     "input": [
      "tips.groupby('smoker', group_keys=False).apply(top)"
     ],
     "language": "python",
     "metadata": {},
     "outputs": []
    },
    {
     "cell_type": "heading",
     "level": 3,
     "metadata": {},
     "source": [
      "Quantile and Bucket Analysis"
     ]
    },
    {
     "cell_type": "code",
     "collapsed": false,
     "input": [
      "frame = pd.DataFrame({'data1': np.random.randn(1000),",
      "                      'data2': np.random.randn(1000)})",
      "quartiles = pd.cut(frame.data1, 4)",
      "quartiles[:10]"
     ],
     "language": "python",
     "metadata": {},
     "outputs": []
    },
    {
     "cell_type": "code",
     "collapsed": false,
     "input": [
      "def get_stats(group):",
      "    return {'min': group.min(), 'max': group.max(),",
      "            'count': group.count(), 'mean': group.mean()}",
      "grouped = frame.data2.groupby(quartiles)",
      "grouped.apply(get_stats).unstack()"
     ],
     "language": "python",
     "metadata": {},
     "outputs": []
    },
    {
     "cell_type": "code",
     "collapsed": false,
     "input": [
      "# Return quantile numbers",
      "grouping = pd.qcut(frame.data1, 10, labels=False)",
      "grouped = frame.data2.groupby(grouping)",
      "grouped.apply(get_stats).unstack()"
     ],
     "language": "python",
     "metadata": {},
     "outputs": []
    },
    {
     "cell_type": "heading",
     "level": 3,
     "metadata": {},
     "source": [
      "Example: Filling Missing Values with Group-Specific\n      Values"
     ]
    },
    {
     "cell_type": "code",
     "collapsed": false,
     "input": [
      "s = pd.Series(np.random.randn(6))",
      "s[::2] = np.nan",
      "s",
      "s.fillna(s.mean())"
     ],
     "language": "python",
     "metadata": {},
     "outputs": []
    },
    {
     "cell_type": "code",
     "collapsed": false,
     "input": [
      "states = ['Ohio', 'New York', 'Vermont', 'Florida',",
      "          'Oregon', 'Nevada', 'California', 'Idaho']",
      "group_key = ['East'] * 4 + ['West'] * 4",
      "data = pd.Series(np.random.randn(8), index=states)",
      "data"
     ],
     "language": "python",
     "metadata": {},
     "outputs": []
    },
    {
     "cell_type": "code",
     "collapsed": false,
     "input": [
      "data[['Vermont', 'Nevada', 'Idaho']] = np.nan",
      "data",
      "data.groupby(group_key).mean()"
     ],
     "language": "python",
     "metadata": {},
     "outputs": []
    },
    {
     "cell_type": "code",
     "collapsed": false,
     "input": [
      "fill_mean = lambda g: g.fillna(g.mean())",
      "data.groupby(group_key).apply(fill_mean)"
     ],
     "language": "python",
     "metadata": {},
     "outputs": []
    },
    {
     "cell_type": "code",
     "collapsed": false,
     "input": [
      "fill_values = {'East': 0.5, 'West': -1}",
      "fill_func = lambda g: g.fillna(fill_values[g.name])",
      "data.groupby(group_key).apply(fill_func)"
     ],
     "language": "python",
     "metadata": {},
     "outputs": []
    },
    {
     "cell_type": "heading",
     "level": 3,
     "metadata": {},
     "source": [
      "Example: Random Sampling and Permutation"
     ]
    },
    {
     "cell_type": "code",
     "collapsed": false,
     "input": [
      "# Hearts, Spades, Clubs, Diamonds",
      "suits = ['H', 'S', 'C', 'D']",
      "card_val = (list(range(1, 11)) + [10] * 3) * 4",
      "base_names = ['A'] + list(range(2, 11)) + ['J', 'K', 'Q']",
      "cards = []",
      "for suit in ['H', 'S', 'C', 'D']:",
      "    cards.extend(str(num) + suit for num in base_names)",
      "",
      "deck = pd.Series(card_val, index=cards)"
     ],
     "language": "python",
     "metadata": {},
     "outputs": []
    },
    {
     "cell_type": "code",
     "collapsed": false,
     "input": [
      "deck[:13]"
     ],
     "language": "python",
     "metadata": {},
     "outputs": []
    },
    {
     "cell_type": "code",
     "collapsed": false,
     "input": [
      "def draw(deck, n=5):",
      "    return deck.sample(n)",
      "draw(deck)"
     ],
     "language": "python",
     "metadata": {},
     "outputs": []
    },
    {
     "cell_type": "code",
     "collapsed": false,
     "input": [
      "get_suit = lambda card: card[-1] # last letter is suit",
      "deck.groupby(get_suit).apply(draw, n=2)"
     ],
     "language": "python",
     "metadata": {},
     "outputs": []
    },
    {
     "cell_type": "code",
     "collapsed": false,
     "input": [
      "deck.groupby(get_suit, group_keys=False).apply(draw, n=2)"
     ],
     "language": "python",
     "metadata": {},
     "outputs": []
    },
    {
     "cell_type": "heading",
     "level": 3,
     "metadata": {},
     "source": [
      "Example: Group Weighted Average and Correlation"
     ]
    },
    {
     "cell_type": "code",
     "collapsed": false,
     "input": [
      "df = pd.DataFrame({'category': ['a', 'a', 'a', 'a',",
      "                                'b', 'b', 'b', 'b'],",
      "                   'data': np.random.randn(8),",
      "                   'weights': np.random.rand(8)})",
      "df"
     ],
     "language": "python",
     "metadata": {},
     "outputs": []
    },
    {
     "cell_type": "code",
     "collapsed": false,
     "input": [
      "grouped = df.groupby('category')",
      "get_wavg = lambda g: np.average(g['data'], weights=g['weights'])",
      "grouped.apply(get_wavg)"
     ],
     "language": "python",
     "metadata": {},
     "outputs": []
    },
    {
     "cell_type": "code",
     "collapsed": false,
     "input": [
      "close_px = pd.read_csv('examples/stock_px_2.csv', parse_dates=True,",
      "                       index_col=0)",
      "close_px.info()",
      "close_px[-4:]"
     ],
     "language": "python",
     "metadata": {},
     "outputs": []
    },
    {
     "cell_type": "code",
     "collapsed": false,
     "input": [
      "spx_corr = lambda x: x.corrwith(x['SPX'])"
     ],
     "language": "python",
     "metadata": {},
     "outputs": []
    },
    {
     "cell_type": "code",
     "collapsed": false,
     "input": [
      "rets = close_px.pct_change().dropna()"
     ],
     "language": "python",
     "metadata": {},
     "outputs": []
    },
    {
     "cell_type": "code",
     "collapsed": false,
     "input": [
      "get_year = lambda x: x.year",
      "by_year = rets.groupby(get_year)",
      "by_year.apply(spx_corr)"
     ],
     "language": "python",
     "metadata": {},
     "outputs": []
    },
    {
     "cell_type": "code",
     "collapsed": false,
     "input": [
      "by_year.apply(lambda g: g['AAPL'].corr(g['MSFT']))"
     ],
     "language": "python",
     "metadata": {},
     "outputs": []
    },
    {
     "cell_type": "heading",
     "level": 3,
     "metadata": {},
     "source": [
      "Example: Group-Wise Linear Regression"
     ]
    },
    {
     "cell_type": "code",
     "collapsed": false,
     "input": [
      "import statsmodels.api as sm",
      "def regress(data, yvar, xvars):",
      "    Y = data[yvar]",
      "    X = data[xvars]",
      "    X['intercept'] = 1.",
      "    result = sm.OLS(Y, X).fit()",
      "    return result.params"
     ],
     "language": "python",
     "metadata": {},
     "outputs": []
    },
    {
     "cell_type": "code",
     "collapsed": false,
     "input": [
      "by_year.apply(regress, 'AAPL', ['SPX'])"
     ],
     "language": "python",
     "metadata": {},
     "outputs": []
    },
    {
     "cell_type": "heading",
     "level": 2,
     "metadata": {},
     "source": [
      "Pivot Tables and Cross-Tabulation"
     ]
    },
    {
     "cell_type": "code",
     "collapsed": false,
     "input": [
      "tips.pivot_table(index=['day', 'smoker'])"
     ],
     "language": "python",
     "metadata": {},
     "outputs": []
    },
    {
     "cell_type": "code",
     "collapsed": false,
     "input": [
      "tips.pivot_table(['tip_pct', 'size'], index=['time', 'day'],",
      "                 columns='smoker')"
     ],
     "language": "python",
     "metadata": {},
     "outputs": []
    },
    {
     "cell_type": "code",
     "collapsed": false,
     "input": [
      "tips.pivot_table(['tip_pct', 'size'], index=['time', 'day'],",
      "                 columns='smoker', margins=True)"
     ],
     "language": "python",
     "metadata": {},
     "outputs": []
    },
    {
     "cell_type": "code",
     "collapsed": false,
     "input": [
      "tips.pivot_table('tip_pct', index=['time', 'smoker'], columns='day',",
      "                 aggfunc=len, margins=True)"
     ],
     "language": "python",
     "metadata": {},
     "outputs": []
    },
    {
     "cell_type": "code",
     "collapsed": false,
     "input": [
      "tips.pivot_table('tip_pct', index=['time', 'size', 'smoker'],",
      "                 columns='day', aggfunc='mean', fill_value=0)"
     ],
     "language": "python",
     "metadata": {},
     "outputs": []
    },
    {
     "cell_type": "heading",
     "level": 3,
     "metadata": {},
     "source": [
      "Cross-Tabulations: Crosstab"
     ]
    },
    {
     "cell_type": "code",
     "collapsed": false,
     "input": [
      "from io import StringIO",
      "data = \"\"\"\\",
      "Sample  Nationality  Handedness",
      "1   USA  Right-handed",
      "2   Japan    Left-handed",
      "3   USA  Right-handed",
      "4   Japan    Right-handed",
      "5   Japan    Left-handed",
      "6   Japan    Right-handed",
      "7   USA  Right-handed",
      "8   USA  Left-handed",
      "9   Japan    Right-handed",
      "10  USA  Right-handed\"\"\"",
      "data = pd.read_table(StringIO(data), sep='\\s+')"
     ],
     "language": "python",
     "metadata": {},
     "outputs": []
    },
    {
     "cell_type": "code",
     "collapsed": false,
     "input": [
      "data"
     ],
     "language": "python",
     "metadata": {},
     "outputs": []
    },
    {
     "cell_type": "code",
     "collapsed": false,
     "input": [
      "pd.crosstab(data.Nationality, data.Handedness, margins=True)"
     ],
     "language": "python",
     "metadata": {},
     "outputs": []
    },
    {
     "cell_type": "code",
     "collapsed": false,
     "input": [
      "pd.crosstab([tips.time, tips.day], tips.smoker, margins=True)"
     ],
     "language": "python",
     "metadata": {},
     "outputs": []
    },
    {
     "cell_type": "code",
     "collapsed": false,
     "input": [
      "%popd"
     ],
     "language": "python",
     "metadata": {},
     "outputs": []
    },
    {
     "cell_type": "code",
     "collapsed": false,
     "input": [
      "pd.options.display.max_rows = PREVIOUS_MAX_ROWS"
     ],
     "language": "python",
     "metadata": {},
     "outputs": []
    },
    {
     "cell_type": "heading",
     "level": 2,
     "metadata": {},
     "source": [
      "Conclusion"
     ]
    }
   ],
   "metadata": {}
  }
 ]
}