{
 "metadata": {
  "name": "generated_ch11"
 },
 "nbformat": 3,
 "nbformat_minor": 0,
 "worksheets": [
  {
   "cells": [
    {
     "cell_type": "heading",
     "level": 1,
     "metadata": {},
     "source": [
      "Time Series"
     ]
    },
    {
     "cell_type": "code",
     "collapsed": false,
     "input": [
      "%pushd book-materials",
      "import numpy as np",
      "import pandas as pd",
      "np.random.seed(12345)",
      "import matplotlib.pyplot as plt",
      "plt.rc('figure', figsize=(10, 6))",
      "PREVIOUS_MAX_ROWS = pd.options.display.max_rows",
      "pd.options.display.max_rows = 20",
      "np.set_printoptions(precision=4, suppress=True)"
     ],
     "language": "python",
     "metadata": {},
     "outputs": []
    },
    {
     "cell_type": "heading",
     "level": 2,
     "metadata": {},
     "source": [
      "Date and Time Data Types and Tools"
     ]
    },
    {
     "cell_type": "code",
     "collapsed": false,
     "input": [
      "from datetime import datetime",
      "now = datetime.now()",
      "now",
      "now.year, now.month, now.day"
     ],
     "language": "python",
     "metadata": {},
     "outputs": []
    },
    {
     "cell_type": "code",
     "collapsed": false,
     "input": [
      "delta = datetime(2011, 1, 7) - datetime(2008, 6, 24, 8, 15)",
      "delta",
      "delta.days",
      "delta.seconds"
     ],
     "language": "python",
     "metadata": {},
     "outputs": []
    },
    {
     "cell_type": "code",
     "collapsed": false,
     "input": [
      "from datetime import timedelta",
      "start = datetime(2011, 1, 7)",
      "start + timedelta(12)",
      "start - 2 * timedelta(12)"
     ],
     "language": "python",
     "metadata": {},
     "outputs": []
    },
    {
     "cell_type": "heading",
     "level": 3,
     "metadata": {},
     "source": [
      "Converting Between String and Datetime"
     ]
    },
    {
     "cell_type": "code",
     "collapsed": false,
     "input": [
      "stamp = datetime(2011, 1, 3)",
      "str(stamp)",
      "stamp.strftime('%Y-%m-%d')"
     ],
     "language": "python",
     "metadata": {},
     "outputs": []
    },
    {
     "cell_type": "code",
     "collapsed": false,
     "input": [
      "value = '2011-01-03'",
      "datetime.strptime(value, '%Y-%m-%d')",
      "datestrs = ['7/6/2011', '8/6/2011']",
      "[datetime.strptime(x, '%m/%d/%Y') for x in datestrs]"
     ],
     "language": "python",
     "metadata": {},
     "outputs": []
    },
    {
     "cell_type": "code",
     "collapsed": false,
     "input": [
      "from dateutil.parser import parse",
      "parse('2011-01-03')"
     ],
     "language": "python",
     "metadata": {},
     "outputs": []
    },
    {
     "cell_type": "code",
     "collapsed": false,
     "input": [
      "parse('Jan 31, 1997 10:45 PM')"
     ],
     "language": "python",
     "metadata": {},
     "outputs": []
    },
    {
     "cell_type": "code",
     "collapsed": false,
     "input": [
      "parse('6/12/2011', dayfirst=True)"
     ],
     "language": "python",
     "metadata": {},
     "outputs": []
    },
    {
     "cell_type": "code",
     "collapsed": false,
     "input": [
      "datestrs = ['2011-07-06 12:00:00', '2011-08-06 00:00:00']",
      "pd.to_datetime(datestrs)"
     ],
     "language": "python",
     "metadata": {},
     "outputs": []
    },
    {
     "cell_type": "code",
     "collapsed": false,
     "input": [
      "idx = pd.to_datetime(datestrs + [None])",
      "idx",
      "idx[2]",
      "pd.isnull(idx)"
     ],
     "language": "python",
     "metadata": {},
     "outputs": []
    },
    {
     "cell_type": "heading",
     "level": 2,
     "metadata": {},
     "source": [
      "Time Series Basics"
     ]
    },
    {
     "cell_type": "code",
     "collapsed": false,
     "input": [
      "from datetime import datetime",
      "dates = [datetime(2011, 1, 2), datetime(2011, 1, 5),",
      "         datetime(2011, 1, 7), datetime(2011, 1, 8),",
      "         datetime(2011, 1, 10), datetime(2011, 1, 12)]",
      "ts = pd.Series(np.random.randn(6), index=dates)",
      "ts"
     ],
     "language": "python",
     "metadata": {},
     "outputs": []
    },
    {
     "cell_type": "code",
     "collapsed": false,
     "input": [
      "ts.index"
     ],
     "language": "python",
     "metadata": {},
     "outputs": []
    },
    {
     "cell_type": "code",
     "collapsed": false,
     "input": [
      "ts + ts[::2]"
     ],
     "language": "python",
     "metadata": {},
     "outputs": []
    },
    {
     "cell_type": "code",
     "collapsed": false,
     "input": [
      "ts.index.dtype"
     ],
     "language": "python",
     "metadata": {},
     "outputs": []
    },
    {
     "cell_type": "code",
     "collapsed": false,
     "input": [
      "stamp = ts.index[0]",
      "stamp"
     ],
     "language": "python",
     "metadata": {},
     "outputs": []
    },
    {
     "cell_type": "heading",
     "level": 3,
     "metadata": {},
     "source": [
      "Indexing, Selection, Subsetting"
     ]
    },
    {
     "cell_type": "code",
     "collapsed": false,
     "input": [
      "stamp = ts.index[2]",
      "ts[stamp]"
     ],
     "language": "python",
     "metadata": {},
     "outputs": []
    },
    {
     "cell_type": "code",
     "collapsed": false,
     "input": [
      "ts['1/10/2011']",
      "ts['20110110']"
     ],
     "language": "python",
     "metadata": {},
     "outputs": []
    },
    {
     "cell_type": "code",
     "collapsed": false,
     "input": [
      "longer_ts = pd.Series(np.random.randn(1000),",
      "                      index=pd.date_range('1/1/2000', periods=1000))",
      "longer_ts",
      "longer_ts['2001']"
     ],
     "language": "python",
     "metadata": {},
     "outputs": []
    },
    {
     "cell_type": "code",
     "collapsed": false,
     "input": [
      "longer_ts['2001-05']"
     ],
     "language": "python",
     "metadata": {},
     "outputs": []
    },
    {
     "cell_type": "code",
     "collapsed": false,
     "input": [
      "ts[datetime(2011, 1, 7):]"
     ],
     "language": "python",
     "metadata": {},
     "outputs": []
    },
    {
     "cell_type": "code",
     "collapsed": false,
     "input": [
      "ts",
      "ts['1/6/2011':'1/11/2011']"
     ],
     "language": "python",
     "metadata": {},
     "outputs": []
    },
    {
     "cell_type": "code",
     "collapsed": false,
     "input": [
      "ts.truncate(after='1/9/2011')"
     ],
     "language": "python",
     "metadata": {},
     "outputs": []
    },
    {
     "cell_type": "code",
     "collapsed": false,
     "input": [
      "dates = pd.date_range('1/1/2000', periods=100, freq='W-WED')",
      "long_df = pd.DataFrame(np.random.randn(100, 4),",
      "                       index=dates,",
      "                       columns=['Colorado', 'Texas',",
      "                                'New York', 'Ohio'])",
      "long_df.loc['5-2001']"
     ],
     "language": "python",
     "metadata": {},
     "outputs": []
    },
    {
     "cell_type": "heading",
     "level": 3,
     "metadata": {},
     "source": [
      "Time Series with Duplicate Indices"
     ]
    },
    {
     "cell_type": "code",
     "collapsed": false,
     "input": [
      "dates = pd.DatetimeIndex(['1/1/2000', '1/2/2000', '1/2/2000',",
      "                          '1/2/2000', '1/3/2000'])",
      "dup_ts = pd.Series(np.arange(5), index=dates)",
      "dup_ts"
     ],
     "language": "python",
     "metadata": {},
     "outputs": []
    },
    {
     "cell_type": "code",
     "collapsed": false,
     "input": [
      "dup_ts.index.is_unique"
     ],
     "language": "python",
     "metadata": {},
     "outputs": []
    },
    {
     "cell_type": "code",
     "collapsed": false,
     "input": [
      "dup_ts['1/3/2000']  # not duplicated",
      "dup_ts['1/2/2000']  # duplicated"
     ],
     "language": "python",
     "metadata": {},
     "outputs": []
    },
    {
     "cell_type": "code",
     "collapsed": false,
     "input": [
      "grouped = dup_ts.groupby(level=0)",
      "grouped.mean()",
      "grouped.count()"
     ],
     "language": "python",
     "metadata": {},
     "outputs": []
    },
    {
     "cell_type": "heading",
     "level": 2,
     "metadata": {},
     "source": [
      "Date Ranges, Frequencies, and Shifting"
     ]
    },
    {
     "cell_type": "code",
     "collapsed": false,
     "input": [
      "ts",
      "resampler = ts.resample('D')"
     ],
     "language": "python",
     "metadata": {},
     "outputs": []
    },
    {
     "cell_type": "heading",
     "level": 3,
     "metadata": {},
     "source": [
      "Generating Date Ranges"
     ]
    },
    {
     "cell_type": "code",
     "collapsed": false,
     "input": [
      "index = pd.date_range('2012-04-01', '2012-06-01')",
      "index"
     ],
     "language": "python",
     "metadata": {},
     "outputs": []
    },
    {
     "cell_type": "code",
     "collapsed": false,
     "input": [
      "pd.date_range(start='2012-04-01', periods=20)",
      "pd.date_range(end='2012-06-01', periods=20)"
     ],
     "language": "python",
     "metadata": {},
     "outputs": []
    },
    {
     "cell_type": "code",
     "collapsed": false,
     "input": [
      "pd.date_range('2000-01-01', '2000-12-01', freq='BM')"
     ],
     "language": "python",
     "metadata": {},
     "outputs": []
    },
    {
     "cell_type": "code",
     "collapsed": false,
     "input": [
      "pd.date_range('2012-05-02 12:56:31', periods=5)"
     ],
     "language": "python",
     "metadata": {},
     "outputs": []
    },
    {
     "cell_type": "code",
     "collapsed": false,
     "input": [
      "pd.date_range('2012-05-02 12:56:31', periods=5, normalize=True)"
     ],
     "language": "python",
     "metadata": {},
     "outputs": []
    },
    {
     "cell_type": "heading",
     "level": 3,
     "metadata": {},
     "source": [
      "Frequencies and Date Offsets"
     ]
    },
    {
     "cell_type": "code",
     "collapsed": false,
     "input": [
      "from pandas.tseries.offsets import Hour, Minute",
      "hour = Hour()",
      "hour"
     ],
     "language": "python",
     "metadata": {},
     "outputs": []
    },
    {
     "cell_type": "code",
     "collapsed": false,
     "input": [
      "four_hours = Hour(4)",
      "four_hours"
     ],
     "language": "python",
     "metadata": {},
     "outputs": []
    },
    {
     "cell_type": "code",
     "collapsed": false,
     "input": [
      "pd.date_range('2000-01-01', '2000-01-03 23:59', freq='4h')"
     ],
     "language": "python",
     "metadata": {},
     "outputs": []
    },
    {
     "cell_type": "code",
     "collapsed": false,
     "input": [
      "Hour(2) + Minute(30)"
     ],
     "language": "python",
     "metadata": {},
     "outputs": []
    },
    {
     "cell_type": "code",
     "collapsed": false,
     "input": [
      "pd.date_range('2000-01-01', periods=10, freq='1h30min')"
     ],
     "language": "python",
     "metadata": {},
     "outputs": []
    },
    {
     "cell_type": "heading",
     "level": 4,
     "metadata": {},
     "source": [
      "Week of month dates"
     ]
    },
    {
     "cell_type": "code",
     "collapsed": false,
     "input": [
      "rng = pd.date_range('2012-01-01', '2012-09-01', freq='WOM-3FRI')",
      "list(rng)"
     ],
     "language": "python",
     "metadata": {},
     "outputs": []
    },
    {
     "cell_type": "heading",
     "level": 3,
     "metadata": {},
     "source": [
      "Shifting (Leading and Lagging) Data"
     ]
    },
    {
     "cell_type": "code",
     "collapsed": false,
     "input": [
      "ts = pd.Series(np.random.randn(4),",
      "               index=pd.date_range('1/1/2000', periods=4, freq='M'))",
      "ts",
      "ts.shift(2)",
      "ts.shift(-2)"
     ],
     "language": "python",
     "metadata": {},
     "outputs": []
    },
    {
     "cell_type": "raw",
     "metadata": {},
     "source": [
      "ts / ts.shift(1) - 1"
     ]
    },
    {
     "cell_type": "code",
     "collapsed": false,
     "input": [
      "ts.shift(2, freq='M')"
     ],
     "language": "python",
     "metadata": {},
     "outputs": []
    },
    {
     "cell_type": "code",
     "collapsed": false,
     "input": [
      "ts.shift(3, freq='D')",
      "ts.shift(1, freq='90T')"
     ],
     "language": "python",
     "metadata": {},
     "outputs": []
    },
    {
     "cell_type": "heading",
     "level": 4,
     "metadata": {},
     "source": [
      "Shifting dates with offsets"
     ]
    },
    {
     "cell_type": "code",
     "collapsed": false,
     "input": [
      "from pandas.tseries.offsets import Day, MonthEnd",
      "now = datetime(2011, 11, 17)",
      "now + 3 * Day()"
     ],
     "language": "python",
     "metadata": {},
     "outputs": []
    },
    {
     "cell_type": "code",
     "collapsed": false,
     "input": [
      "now + MonthEnd()",
      "now + MonthEnd(2)"
     ],
     "language": "python",
     "metadata": {},
     "outputs": []
    },
    {
     "cell_type": "code",
     "collapsed": false,
     "input": [
      "offset = MonthEnd()",
      "offset.rollforward(now)",
      "offset.rollback(now)"
     ],
     "language": "python",
     "metadata": {},
     "outputs": []
    },
    {
     "cell_type": "code",
     "collapsed": false,
     "input": [
      "ts = pd.Series(np.random.randn(20),",
      "               index=pd.date_range('1/15/2000', periods=20, freq='4d'))",
      "ts",
      "ts.groupby(offset.rollforward).mean()"
     ],
     "language": "python",
     "metadata": {},
     "outputs": []
    },
    {
     "cell_type": "code",
     "collapsed": false,
     "input": [
      "ts.resample('M').mean()"
     ],
     "language": "python",
     "metadata": {},
     "outputs": []
    },
    {
     "cell_type": "heading",
     "level": 2,
     "metadata": {},
     "source": [
      "Time Zone Handling"
     ]
    },
    {
     "cell_type": "code",
     "collapsed": false,
     "input": [
      "import pytz",
      "pytz.common_timezones[-5:]"
     ],
     "language": "python",
     "metadata": {},
     "outputs": []
    },
    {
     "cell_type": "code",
     "collapsed": false,
     "input": [
      "tz = pytz.timezone('America/New_York')",
      "tz"
     ],
     "language": "python",
     "metadata": {},
     "outputs": []
    },
    {
     "cell_type": "heading",
     "level": 3,
     "metadata": {},
     "source": [
      "Time Zone Localization and Conversion"
     ]
    },
    {
     "cell_type": "code",
     "collapsed": false,
     "input": [
      "rng = pd.date_range('3/9/2012 9:30', periods=6, freq='D')",
      "ts = pd.Series(np.random.randn(len(rng)), index=rng)",
      "ts"
     ],
     "language": "python",
     "metadata": {},
     "outputs": []
    },
    {
     "cell_type": "code",
     "collapsed": false,
     "input": [
      "print(ts.index.tz)"
     ],
     "language": "python",
     "metadata": {},
     "outputs": []
    },
    {
     "cell_type": "code",
     "collapsed": false,
     "input": [
      "pd.date_range('3/9/2012 9:30', periods=10, freq='D', tz='UTC')"
     ],
     "language": "python",
     "metadata": {},
     "outputs": []
    },
    {
     "cell_type": "code",
     "collapsed": false,
     "input": [
      "ts",
      "ts_utc = ts.tz_localize('UTC')",
      "ts_utc",
      "ts_utc.index"
     ],
     "language": "python",
     "metadata": {},
     "outputs": []
    },
    {
     "cell_type": "code",
     "collapsed": false,
     "input": [
      "ts_utc.tz_convert('America/New_York')"
     ],
     "language": "python",
     "metadata": {},
     "outputs": []
    },
    {
     "cell_type": "code",
     "collapsed": false,
     "input": [
      "ts_eastern = ts.tz_localize('America/New_York')",
      "ts_eastern.tz_convert('UTC')",
      "ts_eastern.tz_convert('Europe/Berlin')"
     ],
     "language": "python",
     "metadata": {},
     "outputs": []
    },
    {
     "cell_type": "code",
     "collapsed": false,
     "input": [
      "ts.index.tz_localize('Asia/Shanghai')"
     ],
     "language": "python",
     "metadata": {},
     "outputs": []
    },
    {
     "cell_type": "heading",
     "level": 3,
     "metadata": {},
     "source": [
      "Operations with Time Zone\u2212Aware Timestamp Objects"
     ]
    },
    {
     "cell_type": "code",
     "collapsed": false,
     "input": [
      "stamp = pd.Timestamp('2011-03-12 04:00')",
      "stamp_utc = stamp.tz_localize('utc')",
      "stamp_utc.tz_convert('America/New_York')"
     ],
     "language": "python",
     "metadata": {},
     "outputs": []
    },
    {
     "cell_type": "code",
     "collapsed": false,
     "input": [
      "stamp_moscow = pd.Timestamp('2011-03-12 04:00', tz='Europe/Moscow')",
      "stamp_moscow"
     ],
     "language": "python",
     "metadata": {},
     "outputs": []
    },
    {
     "cell_type": "code",
     "collapsed": false,
     "input": [
      "stamp_utc.value",
      "stamp_utc.tz_convert('America/New_York').value"
     ],
     "language": "python",
     "metadata": {},
     "outputs": []
    },
    {
     "cell_type": "code",
     "collapsed": false,
     "input": [
      "from pandas.tseries.offsets import Hour",
      "stamp = pd.Timestamp('2012-03-12 01:30', tz='US/Eastern')",
      "stamp",
      "stamp + Hour()"
     ],
     "language": "python",
     "metadata": {},
     "outputs": []
    },
    {
     "cell_type": "code",
     "collapsed": false,
     "input": [
      "stamp = pd.Timestamp('2012-11-04 00:30', tz='US/Eastern')",
      "stamp",
      "stamp + 2 * Hour()"
     ],
     "language": "python",
     "metadata": {},
     "outputs": []
    },
    {
     "cell_type": "heading",
     "level": 3,
     "metadata": {},
     "source": [
      "Operations Between Different Time Zones"
     ]
    },
    {
     "cell_type": "code",
     "collapsed": false,
     "input": [
      "rng = pd.date_range('3/7/2012 9:30', periods=10, freq='B')",
      "ts = pd.Series(np.random.randn(len(rng)), index=rng)",
      "ts",
      "ts1 = ts[:7].tz_localize('Europe/London')",
      "ts2 = ts1[2:].tz_convert('Europe/Moscow')",
      "result = ts1 + ts2",
      "result.index"
     ],
     "language": "python",
     "metadata": {},
     "outputs": []
    },
    {
     "cell_type": "heading",
     "level": 2,
     "metadata": {},
     "source": [
      "Periods and Period Arithmetic"
     ]
    },
    {
     "cell_type": "code",
     "collapsed": false,
     "input": [
      "p = pd.Period(2007, freq='A-DEC')",
      "p"
     ],
     "language": "python",
     "metadata": {},
     "outputs": []
    },
    {
     "cell_type": "code",
     "collapsed": false,
     "input": [
      "p + 5",
      "p - 2"
     ],
     "language": "python",
     "metadata": {},
     "outputs": []
    },
    {
     "cell_type": "code",
     "collapsed": false,
     "input": [
      "pd.Period('2014', freq='A-DEC') - p"
     ],
     "language": "python",
     "metadata": {},
     "outputs": []
    },
    {
     "cell_type": "code",
     "collapsed": false,
     "input": [
      "rng = pd.period_range('2000-01-01', '2000-06-30', freq='M')",
      "rng"
     ],
     "language": "python",
     "metadata": {},
     "outputs": []
    },
    {
     "cell_type": "code",
     "collapsed": false,
     "input": [
      "pd.Series(np.random.randn(6), index=rng)"
     ],
     "language": "python",
     "metadata": {},
     "outputs": []
    },
    {
     "cell_type": "code",
     "collapsed": false,
     "input": [
      "values = ['2001Q3', '2002Q2', '2003Q1']",
      "index = pd.PeriodIndex(values, freq='Q-DEC')",
      "index"
     ],
     "language": "python",
     "metadata": {},
     "outputs": []
    },
    {
     "cell_type": "heading",
     "level": 3,
     "metadata": {},
     "source": [
      "Period Frequency Conversion"
     ]
    },
    {
     "cell_type": "code",
     "collapsed": false,
     "input": [
      "p = pd.Period('2007', freq='A-DEC')",
      "p",
      "p.asfreq('M', how='start')",
      "p.asfreq('M', how='end')"
     ],
     "language": "python",
     "metadata": {},
     "outputs": []
    },
    {
     "cell_type": "code",
     "collapsed": false,
     "input": [
      "p = pd.Period('2007', freq='A-JUN')",
      "p",
      "p.asfreq('M', 'start')",
      "p.asfreq('M', 'end')"
     ],
     "language": "python",
     "metadata": {},
     "outputs": []
    },
    {
     "cell_type": "code",
     "collapsed": false,
     "input": [
      "p = pd.Period('Aug-2007', 'M')",
      "p.asfreq('A-JUN')"
     ],
     "language": "python",
     "metadata": {},
     "outputs": []
    },
    {
     "cell_type": "code",
     "collapsed": false,
     "input": [
      "rng = pd.period_range('2006', '2009', freq='A-DEC')",
      "ts = pd.Series(np.random.randn(len(rng)), index=rng)",
      "ts",
      "ts.asfreq('M', how='start')"
     ],
     "language": "python",
     "metadata": {},
     "outputs": []
    },
    {
     "cell_type": "code",
     "collapsed": false,
     "input": [
      "ts.asfreq('B', how='end')"
     ],
     "language": "python",
     "metadata": {},
     "outputs": []
    },
    {
     "cell_type": "heading",
     "level": 3,
     "metadata": {},
     "source": [
      "Quarterly Period Frequencies"
     ]
    },
    {
     "cell_type": "code",
     "collapsed": false,
     "input": [
      "p = pd.Period('2012Q4', freq='Q-JAN')",
      "p"
     ],
     "language": "python",
     "metadata": {},
     "outputs": []
    },
    {
     "cell_type": "code",
     "collapsed": false,
     "input": [
      "p.asfreq('D', 'start')",
      "p.asfreq('D', 'end')"
     ],
     "language": "python",
     "metadata": {},
     "outputs": []
    },
    {
     "cell_type": "code",
     "collapsed": false,
     "input": [
      "p4pm = (p.asfreq('B', 'e') - 1).asfreq('T', 's') + 16 * 60",
      "p4pm",
      "p4pm.to_timestamp()"
     ],
     "language": "python",
     "metadata": {},
     "outputs": []
    },
    {
     "cell_type": "code",
     "collapsed": false,
     "input": [
      "rng = pd.period_range('2011Q3', '2012Q4', freq='Q-JAN')",
      "ts = pd.Series(np.arange(len(rng)), index=rng)",
      "ts",
      "new_rng = (rng.asfreq('B', 'e') - 1).asfreq('T', 's') + 16 * 60",
      "ts.index = new_rng.to_timestamp()",
      "ts"
     ],
     "language": "python",
     "metadata": {},
     "outputs": []
    },
    {
     "cell_type": "heading",
     "level": 3,
     "metadata": {},
     "source": [
      "Converting Timestamps to Periods (and Back)"
     ]
    },
    {
     "cell_type": "code",
     "collapsed": false,
     "input": [
      "rng = pd.date_range('2000-01-01', periods=3, freq='M')",
      "ts = pd.Series(np.random.randn(3), index=rng)",
      "ts",
      "pts = ts.to_period()",
      "pts"
     ],
     "language": "python",
     "metadata": {},
     "outputs": []
    },
    {
     "cell_type": "code",
     "collapsed": false,
     "input": [
      "rng = pd.date_range('1/29/2000', periods=6, freq='D')",
      "ts2 = pd.Series(np.random.randn(6), index=rng)",
      "ts2",
      "ts2.to_period('M')"
     ],
     "language": "python",
     "metadata": {},
     "outputs": []
    },
    {
     "cell_type": "code",
     "collapsed": false,
     "input": [
      "pts = ts2.to_period()",
      "pts",
      "pts.to_timestamp(how='end')"
     ],
     "language": "python",
     "metadata": {},
     "outputs": []
    },
    {
     "cell_type": "heading",
     "level": 3,
     "metadata": {},
     "source": [
      "Creating a PeriodIndex from Arrays"
     ]
    },
    {
     "cell_type": "code",
     "collapsed": false,
     "input": [
      "data = pd.read_csv('examples/macrodata.csv')",
      "data.head(5)",
      "data.year",
      "data.quarter"
     ],
     "language": "python",
     "metadata": {},
     "outputs": []
    },
    {
     "cell_type": "code",
     "collapsed": false,
     "input": [
      "index = pd.PeriodIndex(year=data.year, quarter=data.quarter,",
      "                       freq='Q-DEC')",
      "index",
      "data.index = index",
      "data.infl"
     ],
     "language": "python",
     "metadata": {},
     "outputs": []
    },
    {
     "cell_type": "heading",
     "level": 2,
     "metadata": {},
     "source": [
      "Resampling and Frequency Conversion"
     ]
    },
    {
     "cell_type": "code",
     "collapsed": false,
     "input": [
      "rng = pd.date_range('2000-01-01', periods=100, freq='D')",
      "ts = pd.Series(np.random.randn(len(rng)), index=rng)",
      "ts",
      "ts.resample('M').mean()",
      "ts.resample('M', kind='period').mean()"
     ],
     "language": "python",
     "metadata": {},
     "outputs": []
    },
    {
     "cell_type": "heading",
     "level": 3,
     "metadata": {},
     "source": [
      "Downsampling"
     ]
    },
    {
     "cell_type": "code",
     "collapsed": false,
     "input": [
      "rng = pd.date_range('2000-01-01', periods=12, freq='T')",
      "ts = pd.Series(np.arange(12), index=rng)",
      "ts"
     ],
     "language": "python",
     "metadata": {},
     "outputs": []
    },
    {
     "cell_type": "code",
     "collapsed": false,
     "input": [
      "ts.resample('5min', closed='right').sum()"
     ],
     "language": "python",
     "metadata": {},
     "outputs": []
    },
    {
     "cell_type": "code",
     "collapsed": false,
     "input": [
      "ts.resample('5min', closed='right').sum()"
     ],
     "language": "python",
     "metadata": {},
     "outputs": []
    },
    {
     "cell_type": "code",
     "collapsed": false,
     "input": [
      "ts.resample('5min', closed='right', label='right').sum()"
     ],
     "language": "python",
     "metadata": {},
     "outputs": []
    },
    {
     "cell_type": "code",
     "collapsed": false,
     "input": [
      "ts.resample('5min', closed='right',",
      "            label='right', loffset='-1s').sum()"
     ],
     "language": "python",
     "metadata": {},
     "outputs": []
    },
    {
     "cell_type": "heading",
     "level": 4,
     "metadata": {},
     "source": [
      "Open-High-Low-Close (OHLC) resampling"
     ]
    },
    {
     "cell_type": "code",
     "collapsed": false,
     "input": [
      "ts.resample('5min').ohlc()"
     ],
     "language": "python",
     "metadata": {},
     "outputs": []
    },
    {
     "cell_type": "heading",
     "level": 3,
     "metadata": {},
     "source": [
      "Upsampling and Interpolation"
     ]
    },
    {
     "cell_type": "code",
     "collapsed": false,
     "input": [
      "frame = pd.DataFrame(np.random.randn(2, 4),",
      "                     index=pd.date_range('1/1/2000', periods=2,",
      "                                         freq='W-WED'),",
      "                     columns=['Colorado', 'Texas', 'New York', 'Ohio'])",
      "frame"
     ],
     "language": "python",
     "metadata": {},
     "outputs": []
    },
    {
     "cell_type": "code",
     "collapsed": false,
     "input": [
      "df_daily = frame.resample('D').asfreq()",
      "df_daily"
     ],
     "language": "python",
     "metadata": {},
     "outputs": []
    },
    {
     "cell_type": "code",
     "collapsed": false,
     "input": [
      "frame.resample('D').ffill()"
     ],
     "language": "python",
     "metadata": {},
     "outputs": []
    },
    {
     "cell_type": "code",
     "collapsed": false,
     "input": [
      "frame.resample('D').ffill(limit=2)"
     ],
     "language": "python",
     "metadata": {},
     "outputs": []
    },
    {
     "cell_type": "code",
     "collapsed": false,
     "input": [
      "frame.resample('W-THU').ffill()"
     ],
     "language": "python",
     "metadata": {},
     "outputs": []
    },
    {
     "cell_type": "heading",
     "level": 3,
     "metadata": {},
     "source": [
      "Resampling with Periods"
     ]
    },
    {
     "cell_type": "code",
     "collapsed": false,
     "input": [
      "frame = pd.DataFrame(np.random.randn(24, 4),",
      "                     index=pd.period_range('1-2000', '12-2001',",
      "                                           freq='M'),",
      "                     columns=['Colorado', 'Texas', 'New York', 'Ohio'])",
      "frame[:5]",
      "annual_frame = frame.resample('A-DEC').mean()",
      "annual_frame"
     ],
     "language": "python",
     "metadata": {},
     "outputs": []
    },
    {
     "cell_type": "code",
     "collapsed": false,
     "input": [
      "# Q-DEC: Quarterly, year ending in December",
      "annual_frame.resample('Q-DEC').ffill()",
      "annual_frame.resample('Q-DEC', convention='end').ffill()"
     ],
     "language": "python",
     "metadata": {},
     "outputs": []
    },
    {
     "cell_type": "code",
     "collapsed": false,
     "input": [
      "annual_frame.resample('Q-MAR').ffill()"
     ],
     "language": "python",
     "metadata": {},
     "outputs": []
    },
    {
     "cell_type": "heading",
     "level": 2,
     "metadata": {},
     "source": [
      "Moving Window Functions"
     ]
    },
    {
     "cell_type": "code",
     "collapsed": false,
     "input": [
      "close_px_all = pd.read_csv('examples/stock_px_2.csv',",
      "                           parse_dates=True, index_col=0)",
      "close_px = close_px_all[['AAPL', 'MSFT', 'XOM']]",
      "close_px = close_px.resample('B').ffill()"
     ],
     "language": "python",
     "metadata": {},
     "outputs": []
    },
    {
     "cell_type": "code",
     "collapsed": false,
     "input": [
      "close_px.AAPL.plot()",
      "close_px.AAPL.rolling(250).mean().plot()"
     ],
     "language": "python",
     "metadata": {},
     "outputs": []
    },
    {
     "cell_type": "code",
     "collapsed": false,
     "input": [
      "plt.figure()"
     ],
     "language": "python",
     "metadata": {},
     "outputs": []
    },
    {
     "cell_type": "code",
     "collapsed": false,
     "input": [
      "appl_std250 = close_px.AAPL.rolling(250, min_periods=10).std()",
      "appl_std250[5:12]",
      "appl_std250.plot()"
     ],
     "language": "python",
     "metadata": {},
     "outputs": []
    },
    {
     "cell_type": "code",
     "collapsed": false,
     "input": [
      "expanding_mean = appl_std250.expanding().mean()"
     ],
     "language": "python",
     "metadata": {},
     "outputs": []
    },
    {
     "cell_type": "code",
     "collapsed": false,
     "input": [
      "plt.figure()"
     ],
     "language": "python",
     "metadata": {},
     "outputs": []
    },
    {
     "cell_type": "code",
     "collapsed": false,
     "input": [
      "close_px.rolling(60).mean().plot(logy=True)"
     ],
     "language": "python",
     "metadata": {},
     "outputs": []
    },
    {
     "cell_type": "code",
     "collapsed": false,
     "input": [
      "close_px.rolling('20D').mean()"
     ],
     "language": "python",
     "metadata": {},
     "outputs": []
    },
    {
     "cell_type": "heading",
     "level": 3,
     "metadata": {},
     "source": [
      "Exponentially Weighted Functions"
     ]
    },
    {
     "cell_type": "code",
     "collapsed": false,
     "input": [
      "plt.figure()"
     ],
     "language": "python",
     "metadata": {},
     "outputs": []
    },
    {
     "cell_type": "code",
     "collapsed": false,
     "input": [
      "aapl_px = close_px.AAPL['2006':'2007']",
      "ma60 = aapl_px.rolling(30, min_periods=20).mean()",
      "ewma60 = aapl_px.ewm(span=30).mean()",
      "ma60.plot(style='k--', label='Simple MA')",
      "ewma60.plot(style='k-', label='EW MA')",
      "plt.legend()"
     ],
     "language": "python",
     "metadata": {},
     "outputs": []
    },
    {
     "cell_type": "heading",
     "level": 3,
     "metadata": {},
     "source": [
      "Binary Moving Window Functions"
     ]
    },
    {
     "cell_type": "code",
     "collapsed": false,
     "input": [
      "plt.figure()"
     ],
     "language": "python",
     "metadata": {},
     "outputs": []
    },
    {
     "cell_type": "code",
     "collapsed": false,
     "input": [
      "spx_px = close_px_all['SPX']",
      "spx_rets = spx_px.pct_change()",
      "returns = close_px.pct_change()"
     ],
     "language": "python",
     "metadata": {},
     "outputs": []
    },
    {
     "cell_type": "code",
     "collapsed": false,
     "input": [
      "corr = returns.AAPL.rolling(125, min_periods=100).corr(spx_rets)",
      "corr.plot()"
     ],
     "language": "python",
     "metadata": {},
     "outputs": []
    },
    {
     "cell_type": "code",
     "collapsed": false,
     "input": [
      "plt.figure()"
     ],
     "language": "python",
     "metadata": {},
     "outputs": []
    },
    {
     "cell_type": "code",
     "collapsed": false,
     "input": [
      "corr = returns.rolling(125, min_periods=100).corr(spx_rets)",
      "corr.plot()"
     ],
     "language": "python",
     "metadata": {},
     "outputs": []
    },
    {
     "cell_type": "heading",
     "level": 3,
     "metadata": {},
     "source": [
      "User-Defined Moving Window Functions"
     ]
    },
    {
     "cell_type": "code",
     "collapsed": false,
     "input": [
      "plt.figure()"
     ],
     "language": "python",
     "metadata": {},
     "outputs": []
    },
    {
     "cell_type": "code",
     "collapsed": false,
     "input": [
      "from scipy.stats import percentileofscore",
      "score_at_2percent = lambda x: percentileofscore(x, 0.02)",
      "result = returns.AAPL.rolling(250).apply(score_at_2percent)",
      "result.plot()"
     ],
     "language": "python",
     "metadata": {},
     "outputs": []
    },
    {
     "cell_type": "code",
     "collapsed": false,
     "input": [
      "%popd"
     ],
     "language": "python",
     "metadata": {},
     "outputs": []
    },
    {
     "cell_type": "code",
     "collapsed": false,
     "input": [
      "pd.options.display.max_rows = PREVIOUS_MAX_ROWS"
     ],
     "language": "python",
     "metadata": {},
     "outputs": []
    },
    {
     "cell_type": "heading",
     "level": 2,
     "metadata": {},
     "source": [
      "Conclusion"
     ]
    }
   ],
   "metadata": {}
  }
 ]
}